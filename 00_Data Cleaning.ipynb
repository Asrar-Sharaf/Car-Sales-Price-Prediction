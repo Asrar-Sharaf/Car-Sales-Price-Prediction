{
 "cells": [
  {
   "cell_type": "markdown",
   "id": "cf5aaa0c-c8f0-4857-aff2-96a3e4d32c5d",
   "metadata": {},
   "source": [
    "# Importing Libraries"
   ]
  },
  {
   "cell_type": "code",
   "execution_count": 1,
   "id": "dfebe8d0-802a-4587-a38e-26ce95c67864",
   "metadata": {},
   "outputs": [],
   "source": [
    "#importing libraries\n",
    "import pandas as pd\n",
    "import numpy as np\n",
    "import seaborn as sns\n",
    "import matplotlib.pyplot as plt\n",
    "from datetime import datetime\n",
    "from datasist.structdata import detect_outliers"
   ]
  },
  {
   "cell_type": "markdown",
   "id": "19b44bde-eb79-4a8e-bb10-1006ffbda379",
   "metadata": {},
   "source": [
    "## Read Dataset"
   ]
  },
  {
   "cell_type": "code",
   "execution_count": 2,
   "id": "7d1cbc91-eeaf-46fa-bacb-145027b6d885",
   "metadata": {},
   "outputs": [
    {
     "data": {
      "text/html": [
       "<div>\n",
       "<style scoped>\n",
       "    .dataframe tbody tr th:only-of-type {\n",
       "        vertical-align: middle;\n",
       "    }\n",
       "\n",
       "    .dataframe tbody tr th {\n",
       "        vertical-align: top;\n",
       "    }\n",
       "\n",
       "    .dataframe thead th {\n",
       "        text-align: right;\n",
       "    }\n",
       "</style>\n",
       "<table border=\"1\" class=\"dataframe\">\n",
       "  <thead>\n",
       "    <tr style=\"text-align: right;\">\n",
       "      <th></th>\n",
       "      <th>Car</th>\n",
       "      <th>Condition</th>\n",
       "      <th>Mileage</th>\n",
       "      <th>Price</th>\n",
       "      <th>Basics Info</th>\n",
       "      <th>Vehicle History Info</th>\n",
       "      <th>Vehicle Reviews Info</th>\n",
       "      <th>Seller Rating</th>\n",
       "      <th>Seller Rating Count</th>\n",
       "      <th>Seller Address</th>\n",
       "    </tr>\n",
       "  </thead>\n",
       "  <tbody>\n",
       "    <tr>\n",
       "      <th>1216</th>\n",
       "      <td>2021 INFINITI QX80 SENSORY AWD</td>\n",
       "      <td>Used</td>\n",
       "      <td>56,250 mi.</td>\n",
       "      <td>$39,972</td>\n",
       "      <td>{'Exterior color': ' Black Obsidian ', 'Interi...</td>\n",
       "      <td>{'Accidents or damage': 'At least 1 accident o...</td>\n",
       "      <td>{'Comfort': '4.0', 'Interior': '3.0', 'Perform...</td>\n",
       "      <td>4.7</td>\n",
       "      <td>(3,410 reviews)</td>\n",
       "      <td>5240 Golf Road Skokie, IL 60077</td>\n",
       "    </tr>\n",
       "    <tr>\n",
       "      <th>8879</th>\n",
       "      <td>2024 Hyundai Santa Fe Limited</td>\n",
       "      <td>New</td>\n",
       "      <td>8 mi.</td>\n",
       "      <td>$47,015MSRP $47,015</td>\n",
       "      <td>{'Exterior color': ' Shimmering Silver Pearl '...</td>\n",
       "      <td>{}</td>\n",
       "      <td>{'Comfort': '5.0', 'Interior': '5.0', 'Perform...</td>\n",
       "      <td>4.2</td>\n",
       "      <td>(3,030 reviews)</td>\n",
       "      <td>6750 W Grand Ave Chicago, IL 60707</td>\n",
       "    </tr>\n",
       "    <tr>\n",
       "      <th>7414</th>\n",
       "      <td>2023 Nissan Murano SV</td>\n",
       "      <td>Used</td>\n",
       "      <td>10,096 mi.</td>\n",
       "      <td>$31,552$152 price drop</td>\n",
       "      <td>{'Exterior color': ' Boulder Gray Pearl ', 'In...</td>\n",
       "      <td>{'Accidents or damage': 'None reported', 'Clea...</td>\n",
       "      <td>{'Comfort': '5.0', 'Interior': '5.0', 'Perform...</td>\n",
       "      <td>4.7</td>\n",
       "      <td>(2,143 reviews)</td>\n",
       "      <td>1075 W Golf Road Hoffman Estates, IL 60169</td>\n",
       "    </tr>\n",
       "    <tr>\n",
       "      <th>5633</th>\n",
       "      <td>2024 Subaru Forester Sport</td>\n",
       "      <td>New</td>\n",
       "      <td>5 mi.</td>\n",
       "      <td>$33,304</td>\n",
       "      <td>{'Exterior color': ' Crystal White Pearl ', 'I...</td>\n",
       "      <td>{}</td>\n",
       "      <td>{'Comfort': '5.0', 'Interior': '5.0', 'Perform...</td>\n",
       "      <td>NaN</td>\n",
       "      <td>NaN</td>\n",
       "      <td>1350 Park Ave W Highland Park, IL 60035</td>\n",
       "    </tr>\n",
       "    <tr>\n",
       "      <th>6473</th>\n",
       "      <td>NaN</td>\n",
       "      <td>NaN</td>\n",
       "      <td>NaN</td>\n",
       "      <td>NaN</td>\n",
       "      <td>{}</td>\n",
       "      <td>{}</td>\n",
       "      <td>{}</td>\n",
       "      <td>NaN</td>\n",
       "      <td>NaN</td>\n",
       "      <td>NaN</td>\n",
       "    </tr>\n",
       "  </tbody>\n",
       "</table>\n",
       "</div>"
      ],
      "text/plain": [
       "                                 Car Condition      Mileage  \\\n",
       "1216  2021 INFINITI QX80 SENSORY AWD      Used   56,250 mi.   \n",
       "8879   2024 Hyundai Santa Fe Limited       New        8 mi.   \n",
       "7414           2023 Nissan Murano SV      Used   10,096 mi.   \n",
       "5633      2024 Subaru Forester Sport       New        5 mi.   \n",
       "6473                             NaN       NaN          NaN   \n",
       "\n",
       "                       Price  \\\n",
       "1216                 $39,972   \n",
       "8879     $47,015MSRP $47,015   \n",
       "7414  $31,552$152 price drop   \n",
       "5633                 $33,304   \n",
       "6473                     NaN   \n",
       "\n",
       "                                            Basics Info  \\\n",
       "1216  {'Exterior color': ' Black Obsidian ', 'Interi...   \n",
       "8879  {'Exterior color': ' Shimmering Silver Pearl '...   \n",
       "7414  {'Exterior color': ' Boulder Gray Pearl ', 'In...   \n",
       "5633  {'Exterior color': ' Crystal White Pearl ', 'I...   \n",
       "6473                                                 {}   \n",
       "\n",
       "                                   Vehicle History Info  \\\n",
       "1216  {'Accidents or damage': 'At least 1 accident o...   \n",
       "8879                                                 {}   \n",
       "7414  {'Accidents or damage': 'None reported', 'Clea...   \n",
       "5633                                                 {}   \n",
       "6473                                                 {}   \n",
       "\n",
       "                                   Vehicle Reviews Info  Seller Rating  \\\n",
       "1216  {'Comfort': '4.0', 'Interior': '3.0', 'Perform...            4.7   \n",
       "8879  {'Comfort': '5.0', 'Interior': '5.0', 'Perform...            4.2   \n",
       "7414  {'Comfort': '5.0', 'Interior': '5.0', 'Perform...            4.7   \n",
       "5633  {'Comfort': '5.0', 'Interior': '5.0', 'Perform...            NaN   \n",
       "6473                                                 {}            NaN   \n",
       "\n",
       "     Seller Rating Count                              Seller Address  \n",
       "1216     (3,410 reviews)             5240 Golf Road Skokie, IL 60077  \n",
       "8879     (3,030 reviews)          6750 W Grand Ave Chicago, IL 60707  \n",
       "7414     (2,143 reviews)  1075 W Golf Road Hoffman Estates, IL 60169  \n",
       "5633                 NaN     1350 Park Ave W Highland Park, IL 60035  \n",
       "6473                 NaN                                         NaN  "
      ]
     },
     "execution_count": 2,
     "metadata": {},
     "output_type": "execute_result"
    }
   ],
   "source": [
    "df=pd.read_csv(\"cars_for_sale(uncleaned).csv\") #importing data from CSV sheet\n",
    "df.sample(5) #showing 5 sample of my data"
   ]
  },
  {
   "cell_type": "code",
   "execution_count": 3,
   "id": "7cc5d630-ac6c-4d72-bd81-1da543a0115d",
   "metadata": {},
   "outputs": [
    {
     "name": "stdout",
     "output_type": "stream",
     "text": [
      "<class 'pandas.core.frame.DataFrame'>\n",
      "RangeIndex: 9246 entries, 0 to 9245\n",
      "Data columns (total 10 columns):\n",
      " #   Column                Non-Null Count  Dtype  \n",
      "---  ------                --------------  -----  \n",
      " 0   Car                   9071 non-null   object \n",
      " 1   Condition             9071 non-null   object \n",
      " 2   Mileage               9071 non-null   object \n",
      " 3   Price                 9071 non-null   object \n",
      " 4   Basics Info           9242 non-null   object \n",
      " 5   Vehicle History Info  9242 non-null   object \n",
      " 6   Vehicle Reviews Info  9242 non-null   object \n",
      " 7   Seller Rating         7716 non-null   float64\n",
      " 8   Seller Rating Count   7716 non-null   object \n",
      " 9   Seller Address        8954 non-null   object \n",
      "dtypes: float64(1), object(9)\n",
      "memory usage: 722.5+ KB\n"
     ]
    }
   ],
   "source": [
    "df.info() #shows basic details about the columns and data types in my dataset"
   ]
  },
  {
   "cell_type": "code",
   "execution_count": 4,
   "id": "f2a38580-d05a-422f-b0b0-198f2d4e3699",
   "metadata": {},
   "outputs": [],
   "source": [
    "df.columns= df.columns.str.lower().str.strip() # making all column names lowercase and removing extra spaces \n",
    "df.columns= df.columns.str.replace(' ', '_')  # replacing spaces in column names with underscores  "
   ]
  },
  {
   "cell_type": "markdown",
   "id": "65f7a8cd-cebc-428b-8fc3-f54023df8078",
   "metadata": {},
   "source": [
    "## data understanding"
   ]
  },
  {
   "cell_type": "code",
   "execution_count": 5,
   "id": "021d998e-d9e6-48dd-b5fd-7ef8527b6de8",
   "metadata": {},
   "outputs": [
    {
     "data": {
      "text/plain": [
       "(9246, 10)"
      ]
     },
     "execution_count": 5,
     "metadata": {},
     "output_type": "execute_result"
    }
   ],
   "source": [
    "df.shape #getting the number of rows and columns"
   ]
  },
  {
   "cell_type": "code",
   "execution_count": 6,
   "id": "d4ce6455-11e0-4541-b5b5-5183b2ec6d92",
   "metadata": {},
   "outputs": [
    {
     "name": "stdout",
     "output_type": "stream",
     "text": [
      "<class 'pandas.core.frame.DataFrame'>\n",
      "RangeIndex: 9246 entries, 0 to 9245\n",
      "Data columns (total 10 columns):\n",
      " #   Column                Non-Null Count  Dtype  \n",
      "---  ------                --------------  -----  \n",
      " 0   car                   9071 non-null   object \n",
      " 1   condition             9071 non-null   object \n",
      " 2   mileage               9071 non-null   object \n",
      " 3   price                 9071 non-null   object \n",
      " 4   basics_info           9242 non-null   object \n",
      " 5   vehicle_history_info  9242 non-null   object \n",
      " 6   vehicle_reviews_info  9242 non-null   object \n",
      " 7   seller_rating         7716 non-null   float64\n",
      " 8   seller_rating_count   7716 non-null   object \n",
      " 9   seller_address        8954 non-null   object \n",
      "dtypes: float64(1), object(9)\n",
      "memory usage: 722.5+ KB\n"
     ]
    }
   ],
   "source": [
    "df.info() #shows basic details about the columns and data types in my dataset"
   ]
  },
  {
   "cell_type": "code",
   "execution_count": 7,
   "id": "93e71dfe-566f-4b64-9502-9d3303d5258e",
   "metadata": {},
   "outputs": [
    {
     "data": {
      "text/plain": [
       "car                      175\n",
       "condition                175\n",
       "mileage                  175\n",
       "price                    175\n",
       "basics_info                4\n",
       "vehicle_history_info       4\n",
       "vehicle_reviews_info       4\n",
       "seller_rating           1530\n",
       "seller_rating_count     1530\n",
       "seller_address           292\n",
       "dtype: int64"
      ]
     },
     "execution_count": 7,
     "metadata": {},
     "output_type": "execute_result"
    }
   ],
   "source": [
    "df.isnull().sum() #representing the sum numbers of the null values"
   ]
  },
  {
   "cell_type": "code",
   "execution_count": 8,
   "id": "bf940ced-bd7f-4c48-ae32-5f2e45ad0ebd",
   "metadata": {},
   "outputs": [
    {
     "data": {
      "text/plain": [
       "car                      1.892710\n",
       "condition                1.892710\n",
       "mileage                  1.892710\n",
       "price                    1.892710\n",
       "basics_info              0.043262\n",
       "vehicle_history_info     0.043262\n",
       "vehicle_reviews_info     0.043262\n",
       "seller_rating           16.547696\n",
       "seller_rating_count     16.547696\n",
       "seller_address           3.158122\n",
       "dtype: float64"
      ]
     },
     "execution_count": 8,
     "metadata": {},
     "output_type": "execute_result"
    }
   ],
   "source": [
    "df.isnull().mean()*100 #representing the mean of the null values"
   ]
  },
  {
   "cell_type": "code",
   "execution_count": 9,
   "id": "a5c7f72c-2766-42ae-9a47-db72811ea05c",
   "metadata": {},
   "outputs": [],
   "source": [
    "df.drop([\"vehicle_reviews_info\",\"seller_rating\", \"seller_rating_count\"], axis=1, inplace=True) # droping unnecessary columns"
   ]
  },
  {
   "cell_type": "code",
   "execution_count": 10,
   "id": "b9a14e2b-19e6-4789-a45a-2d577b06f7ce",
   "metadata": {},
   "outputs": [],
   "source": [
    "df = df.dropna() # Droping null values"
   ]
  },
  {
   "cell_type": "markdown",
   "id": "df5101aa-1425-4c4a-81fb-c5d2ba168b8b",
   "metadata": {
    "jp-MarkdownHeadingCollapsed": true
   },
   "source": [
    "# Data Cleaning column by column"
   ]
  },
  {
   "cell_type": "markdown",
   "id": "cda28313-a8e4-42c8-8dc0-c098acf1e37d",
   "metadata": {},
   "source": [
    "### seller_address"
   ]
  },
  {
   "cell_type": "code",
   "execution_count": 11,
   "id": "0c386a8c-8994-491f-9e7c-34e9f818e51e",
   "metadata": {},
   "outputs": [
    {
     "data": {
      "text/plain": [
       "array(['1250 W Division St Chicago, IL 60642',\n",
       "       '1301 N Elston Ave Chicago, IL 60642',\n",
       "       '1561 N Fremont St Chicago, IL 60642',\n",
       "       '560 E North Ave West Chicago, IL 60185',\n",
       "       '6539 Ogden Ave Berwyn, IL 60402',\n",
       "       '6750 W Grand Ave Chicago, IL 60707',\n",
       "       '7158 Harlem Ave Bridgeview, IL 60455',\n",
       "       '6007 S Archer Rd Summit, IL 60501',\n",
       "       '1210 25th Ave Melrose Park, IL 60160',\n",
       "       '6400 Harlem Ave Summit, IL 60501',\n",
       "       '5050 Dempster Street Skokie, IL 60077',\n",
       "       '6750 West 95th Street Oak Lawn, IL 60453',\n",
       "       '241 Waukegan Rd Glenview, IL 60025',\n",
       "       '11201 S Harlem Ave Worth, IL 60482',\n",
       "       '530 W Grand Ave Elmhurst, IL 60126',\n",
       "       '400 E Roosevelt Rd Villa Park, IL 60181',\n",
       "       '594 W Lake St Elmhurst, IL 60126',\n",
       "       '12717 Cal Sag Rd Crestwood, IL 60445',\n",
       "       '13840 South Pulaski Road Crestwood, IL 60445',\n",
       "       '500 E. Ogden Ave. Westmont, IL 60559',\n",
       "       '1326 West Irving Park Road Bensenville, IL 60106',\n",
       "       '555 Executive Dr Willowbrook, IL 60527',\n",
       "       '3128 W 147th St Posen, IL 60469',\n",
       "       '430 E. Ogden Ave. Westmont, IL 60559',\n",
       "       '100 W Ogden Ave Westmont, IL 60559',\n",
       "       '1850 Holste Rd Northbrook, IL 60062',\n",
       "       '1886 S Elmhurst Rd Mt Prospect, IL 60056',\n",
       "       '870 S Fiene Dr. Addison, IL 60101',\n",
       "       '555 S IL Route 83 Elmhurst, IL 60126',\n",
       "       '1600 Frontage Rd Northbrook, IL 60062',\n",
       "       '350 S Lalonde Ave ADDISON, IL 60101',\n",
       "       '1030 Republic Dr Addison, IL 60101',\n",
       "       '11S344 Jeans Road Lemont, IL 60439',\n",
       "       '454 East North Avenue Lombard, IL 60148',\n",
       "       '367 S Rohlwing Rd Addison, IL 60101',\n",
       "       '1644 Ogden Ave Downers Grove, IL 60515',\n",
       "       '1543 Ogden Ave Downers Grove, IL 60515',\n",
       "       '3201 167th St Hazel Crest, IL 60429',\n",
       "       '1866 Ogden Avenue Downers Grove, IL 60515',\n",
       "       '1233 Ogden Ave Downers Grove, IL 60515',\n",
       "       '2401 Warrenville Rd Downers Grove, IL 60515',\n",
       "       '17225 Torrence Ave Lansing, IL 60438',\n",
       "       '17220 Torrence Ave Lansing, IL 60438',\n",
       "       '17651 Oak Park Ave Tinley Park, IL 60477',\n",
       "       '18033 S Halsted St Homewood, IL 60430',\n",
       "       '4475 Lincoln Ave Lisle, IL 60532',\n",
       "       '545 E. North Ave. Carol Stream, IL 60188',\n",
       "       '700 W Dundee Rd Wheeling, IL 60090',\n",
       "       '1989 University Lane Unit J Lisle, IL 60532',\n",
       "       '27W333 North Ave IL West Chicago, IL 60185',\n",
       "       '10926 southwest highway palos hills, IL 60465',\n",
       "       '2895 Ogden Ave Lisle, IL 60532',\n",
       "       '2772 Skokie Valley Road Highland Park, IL 60035',\n",
       "       '641 Estes Ave Schaumburg, IL 60193',\n",
       "       '777 west dundee rd Arlington heights, IL 60004',\n",
       "       '1600 Hicks Rd Rolling Meadows, IL 60008',\n",
       "       '350 E Golf Rd Schaumburg, IL 60173',\n",
       "       '1200 W Golf Rd Hoffman Estates, IL 60169',\n",
       "       '27w110 North Ave West Chicago, IL 60185',\n",
       "       '1951 N. Rand Road Palatine, IL 60074',\n",
       "       '1823 Centrepoint Circle Naperville, IL 60563',\n",
       "       '2232 N Rand Rd Palatine, IL 60074',\n",
       "       '562 W 5th Ave Naperville, IL 60563',\n",
       "       '503 South Weber Road Bolingbrook, IL 60490',\n",
       "       '601 W. Roosevelt West Chicago, IL 60185',\n",
       "       '1507 W. Ogden Ave. Naperville, IL 60540',\n",
       "       '990 N Shore Dr Lake Bluff, IL 60044',\n",
       "       '1111 N Clark St Chicago, IL 60610',\n",
       "       '834 N Rush St Chicago, IL 60611',\n",
       "       '2720 South Michigan Avenue Chicago, IL 60616',\n",
       "       '4400 South Archer Avenue Chicago, IL 60632',\n",
       "       '4747 S Pulaski Rd Chicago, IL 60632',\n",
       "       '6900 McCormick Blvd Lincolnwood, IL 60712',\n",
       "       '1033 Chicago Ave Evanston, IL 60202',\n",
       "       '1600 W North Ave Melrose Park, IL 60160',\n",
       "       '4320 W 95th St Oak Lawn, IL 60453',\n",
       "       '5631 South La Grange Road Countryside, IL 60525',\n",
       "       '6540 95th St Oak Lawn, IL 60453',\n",
       "       '301 Waukegan Rd Glenview, IL 60025',\n",
       "       '11625 S Mayfield Ave Alsip, IL 60803',\n",
       "       '2950 W 127th St Blue Island, IL 60406',\n",
       "       '2000 N Waukegan Rd Glenview, IL 60025',\n",
       "       '1620 Waukegan Rd Glenview, IL 60025',\n",
       "       '3160 Commercial Ave Northbrook, IL 60062',\n",
       "       '13901 S Cicero Ave Crestwood, IL 60445',\n",
       "       '2411 E Oakton Street Arlington Heights, IL 60005',\n",
       "       '217 E Ogden Ave Downers Grove, IL 60515',\n",
       "       '733 Annoreno Drive Addison, IL 60101',\n",
       "       '330 Ogden Ave Downers Grove, IL 60515',\n",
       "       '250 Skokie Valley Road Highland Park, IL 60035',\n",
       "       '725 W Roosevelt Rd Lombard, IL 60148',\n",
       "       '2150 Ogden Ave Downers Grove, IL 60515',\n",
       "       '22W231 North Ave Glen Ellyn, IL 60137',\n",
       "       '11030 W 159th St Orland Park, IL 60467',\n",
       "       '2490 Skokie Valley Rd Highland Park, IL 60035',\n",
       "       '88 E Dundee Rd Buffalo Grove, IL 60089',\n",
       "       '1000 East Golf Road Schaumburg, IL 60173',\n",
       "       '707 Remington Rd Unit 2 Schaumburg, IL 60173',\n",
       "       '8520 193rd St Mokena, IL 60448',\n",
       "       '208 W Golf Rd Schaumburg, IL 60195',\n",
       "       '5540 Auto Court Matteson, IL 60443',\n",
       "       '452 W Fifth Avenue Naperville, IL 60563',\n",
       "       '612 Wicker Avenue Schererville, IN 46375',\n",
       "       '1527 Aurora Ave Naperville, IL 60540',\n",
       "       '2363 Aurora Ave Naperville, IL 60540',\n",
       "       '407 Skokie Hwy Lake Bluff, IL 60044',\n",
       "       '570 W Monroe St Chicago, IL 60661',\n",
       "       '1035 N Clark St Chicago, IL 60610',\n",
       "       '2501 N Elston Ave Chicago, IL 60647',\n",
       "       '4257 W. North Ave. Chicago, IL 60639',\n",
       "       '5133 W Irving Park Road Chicago, IL 60641',\n",
       "       '4580 N Elston Ave Chicago, IL 60630',\n",
       "       '7400 W. Cermak North Riverside, IL 60546',\n",
       "       '6747 N Lincoln Ave Lincolnwood, IL 60712',\n",
       "       '7373 N Cicero Ave Lincolnwood, IL 60712',\n",
       "       '6800 W 79th St Burbank, IL 60459',\n",
       "       '6100 West 95th Street Oak Lawn, IL 60453',\n",
       "       '6191 Joliet Rd Countryside, IL 60525',\n",
       "       '101 N Wolf Rd Hillside, IL 60162',\n",
       "       '9530 N Greenwood Ave Niles, IL 60714',\n",
       "       '336 E Ogden Ave Hinsdale, IL 60521',\n",
       "       '450 Demenic Ct Bensenville, IL 60131',\n",
       "       '200 W Grand Ave Elmhurst, IL 60126',\n",
       "       '1313 Rand Road Des Plaines, IL 60016',\n",
       "       '415 Ogden Ave Clarendon Hills, IL 60514',\n",
       "       '276 Ogden Ave Westmont, IL 60559',\n",
       "       '14030 S Cicero Ave Crestwood, IL 60445',\n",
       "       '823 East Saint Charles Road Lombard, IL 60148',\n",
       "       '60 Shore Dr Burr Ridge, IL 60527',\n",
       "       '16W065 Jeans Rd Unit B Lemont, IL 60439',\n",
       "       '1723 Ogden Ave Downers Grove, IL 60515',\n",
       "       '8021 W 159th St Orland Park, IL 60477',\n",
       "       '8100 West 159th Street Orland Park, IL 60462',\n",
       "       '601 Ogden Ave Lisle, IL 60532',\n",
       "       '4325 Lincoln Ave Lisle, IL 60532',\n",
       "       '9809 Indianapolis Blvd Highland, IN 46322',\n",
       "       '9825 Indianapolis Boulevard Highland, IN 46322',\n",
       "       '100 W Golf Rd Schaumburg, IL 60195',\n",
       "       '1565 West Ogden Avenue Naperville, IL 60540',\n",
       "       '2275 Aurora Ave Naperville, IL 60540',\n",
       "       '1520 W North Ave Chicago, IL 60642',\n",
       "       '1523 W North Ave Chicago, IL 60642',\n",
       "       '3325 W Montrose Ave Chicago, IL 60618',\n",
       "       '2662 N Cicero Ave Chicago, IL 60639',\n",
       "       '4330 W Irving Park Rd Chicago, IL 60641',\n",
       "       '5330 W. Irving Park Road Chicago, IL 60641',\n",
       "       '7410 S. Western Ave. Chicago, IL 60636',\n",
       "       '6941 S. Western Ave Chicago, IL 60636',\n",
       "       '300 Lake Street Maywood, IL 60153',\n",
       "       '1015 Chicago Ave Evanston, IL 60202',\n",
       "       '9121 S Cicero Ave Oak Lawn, IL 60453',\n",
       "       '1824 N 32nd Ave Stone Park, IL 60165',\n",
       "       '7405 S. Harlem Bridgeview, IL 60455',\n",
       "       '5240 Golf Road Skokie, IL 60077',\n",
       "       '401 W North Ave Northlake, IL 60164',\n",
       "       '1301 W Dempster St. Park Ridge, IL 60068',\n",
       "       '125 West Grand Avenue Bensenville, IL 60106',\n",
       "       '440 West Lake Street Elmhurst, IL 60126',\n",
       "       '100 E. North Ave. Villa Park, IL 60181',\n",
       "       '1530 Frontage Road Northbrook, IL 60062',\n",
       "       '2800 Patriot Blvd Glenview, IL 60026',\n",
       "       '404 E North Ave Lombard, IL 60148',\n",
       "       '16269 Van Dam Road South Holland, IL 60473',\n",
       "       '5904 W 159th St Oak Forest, IL 60452',\n",
       "       '100 Skokie Blvd Northbrook, IL 60062',\n",
       "       '2300 Ogden Ave Downers Grove, IL 60515',\n",
       "       '2110 Ogden Ave Lisle, IL 60532',\n",
       "       '1230 E Golf Rd Schaumburg, IL 60173',\n",
       "       '484 North Ave Glendale Heights, IL 60139',\n",
       "       '9604 Indianapolis Blvd Highland, IN 46322',\n",
       "       '801 W Dundee Road Arlington Heights, IL 60004',\n",
       "       '250 E Golf Rd Schaumburg, IL 60173',\n",
       "       '175 North Avenue Carol Stream, IL 60188',\n",
       "       '9800 Indianapolis Blvd Highland, IN 46322',\n",
       "       '19118 104th Ave Mokena, IL 60448',\n",
       "       '911 W. Higgins Schaumburg, IL 60195',\n",
       "       '1400 E Dundee Rd Palatine, IL 60074',\n",
       "       '115 West South Frontage Road Bolingbrook, IL 60440',\n",
       "       '1036 Reder Road Griffith, IN 46319',\n",
       "       '1550 W Ogden Ave Naperville, IL 60540',\n",
       "       '1569 W. Ogden Ave. Naperville, IL 60540',\n",
       "       '3456 N Kedzie Ave Chicago, IL 60618',\n",
       "       '7601 Skokie Blvd Skokie, IL 60077',\n",
       "       '5630 West 120th St Alsip, IL 60803',\n",
       "       '420 E. Ogden Ave. Hinsdale, IL 60521',\n",
       "       '17W434 East Roosevelt Rd Oakbrook Terrace, IL 60181',\n",
       "       '1864 Techny Court Northbrook, IL 60062',\n",
       "       '1777 River Oaks Dr Calumet City, IL 60409',\n",
       "       '1455 Bernard Drive Addison, IL 60101',\n",
       "       '8101 W 159th St Tinley Park, IL 60477',\n",
       "       '18800 South Oak Park Ave Tinley Park, IL 60477',\n",
       "       '975 Lunt Ave Schaumburg, IL 60193',\n",
       "       '3650 North Wilke Road Arlington heights, IL 60004',\n",
       "       '2111 N Rand Rd Palatine, IL 60074',\n",
       "       '9700 W Lincoln Hwy Frankfort, IL 60423',\n",
       "       '5333 W Irving Park Rd Chicago, IL 60641',\n",
       "       '7225 N. Cicero Ave Lincolnwood, IL 60712',\n",
       "       '7305 S Harlem Ave Bridgeview, IL 60455',\n",
       "       '6201 South La Grange Road Hodgkins, IL 60525',\n",
       "       '9105 Waukegan Road Morton Grove, IL 60053',\n",
       "       '333 W Grand Ave Bensenville, IL 60106',\n",
       "       '150 South Church Street Addison, IL 60101',\n",
       "       '752 N Edgewood Ave Wood Dale, IL 60191',\n",
       "       '333 W Rand Rd. Mt Prospect, IL 60056',\n",
       "       '1985 River Oaks Dr Calumet City, IL 60409',\n",
       "       '1620 Ogden ave Downers Grove, IL 60515',\n",
       "       '2311 Ogden Ave Downers Grove, IL 60515',\n",
       "       '8300 W 159th St Orland Park, IL 60462',\n",
       "       '8425 159th St Tinley Park, IL 60487',\n",
       "       '414 E North Ave Glendale Heights, IL 60139',\n",
       "       '9850 Indianapolis Blvd Highland, IN 46322',\n",
       "       '1155 W Dundee Rd Arlington Heights, IL 60004',\n",
       "       '1811 N Rand Rd Palatine, IL 60074',\n",
       "       '151 E. Lake Cook Dr. Palatine, IL 60074',\n",
       "       '615 E Lake St Streamwood, IL 60107',\n",
       "       '1570 W. Ogden Ave STE 112 Naperville, IL 60540',\n",
       "       '198 Industry Avenue Frankfort, IL 60423',\n",
       "       '1140 Garfield St Oak Park, IL 60304',\n",
       "       '6750 N Lincoln Ave Lincolnwood, IL 60712',\n",
       "       '5011 W 63rd St Chicago, IL 60638',\n",
       "       '7101 Lincoln Avenue Lincolnwood, IL 60712',\n",
       "       '9401 N Milwaukee Ave Niles, IL 60714',\n",
       "       '201 E Ogden Ave Westmont, IL 60559',\n",
       "       '525 W Fullerton Ave Addison, IL 60101',\n",
       "       '1601 Ogden Ave. Downers Grove, IL 60515',\n",
       "       '6100 W. 159th Street Oak Forest, IL 60448',\n",
       "       '5420 Newport Drive Suite 46 Rolling Meadows, IL 60008',\n",
       "       '1350 Park Ave W Highland Park, IL 60035',\n",
       "       '1212 Mitchell Blvd Schaumburg, IL 60193',\n",
       "       '1000 W Golf Road Hoffman Estates, IL 60169',\n",
       "       '875 W Golf Rd Schaumburg, IL 60194',\n",
       "       '1400 Indianapolis Blvd Schererville, IN 46375',\n",
       "       '1349 Indianapolis Blvd Schererville, IN 46375',\n",
       "       '3255 N Cicero Avenue Chicago, IL 60641',\n",
       "       '2300 North Mannheim Rd Melrose Park, IL 60164',\n",
       "       '5800 W 95th St Oak Lawn, IL 60453',\n",
       "       '5800 South La Grange Road Countryside, IL 60525',\n",
       "       '6161 Joliet Rd Countryside, IL 60525',\n",
       "       '7725 W 98th St Hickory Hills, IL 60457',\n",
       "       '12400 S Keeler Ave Alsip, IL 60803',\n",
       "       '1610 N Waukegan Rd Glenview, IL 60025',\n",
       "       '300 W Roosevelt Rd Villa Park, IL 60181',\n",
       "       '14300 S Pulaski Midlothian, IL 60445',\n",
       "       '12 W Factory Rd Addison, IL 60101',\n",
       "       '505 Ogden Ave Downers Grove, IL 60515',\n",
       "       '2101 Ogden Ave Downers Grove, IL 60515',\n",
       "       '8550 W 159th St Orland Park, IL 60462',\n",
       "       '1333 Park Ave West Highland Park, IL 60035',\n",
       "       '920 West Golf Road Schaumburg, IL 60194',\n",
       "       '221 E Lake Cook Rd Palatine, IL 60074',\n",
       "       '1301 Indianapolis Blvd Schereville, IN 46375',\n",
       "       '1515 W Ogden Ave Naperville, IL 60540',\n",
       "       '4301 S Kedzie Chicago, IL 60632',\n",
       "       '6720 W Grand Ave Chicago, IL 60707',\n",
       "       '9440 S. Cicero Ave. Oak Lawn, IL 60453',\n",
       "       '740 N York Rd Elmhurst, IL 60126',\n",
       "       '2000 Frontage Rd Glencoe, IL 60022',\n",
       "       '770 Frontage Rd Northfield, IL 60093',\n",
       "       '4558 W. 147th St Midlothian, IL 60445',\n",
       "       '150 Skokie Valley Rd Highland Park, IL 60035',\n",
       "       '8355 W 159th St Tinley Park, IL 60477',\n",
       "       '1020 E Golf Rd Schaumburg, IL 60173',\n",
       "       '6N509 Virginia Road Roselle, IL 60172',\n",
       "       '1149 West Golf Road Hoffman Estates, IL 60169',\n",
       "       '1911 N Rand Rd Palatine, IL 60074',\n",
       "       '5950 North Western Avenue Chicago, IL 60659',\n",
       "       '6600 N Western Ave Chicago, IL 60645',\n",
       "       '8855 Palmer Street River Grove, IL 60171',\n",
       "       '5901 South La Grange Road Countryside, IL 60525',\n",
       "       '7825 W. 95th st Hickory Hills, IL 60457',\n",
       "       '364 W Grand Ave Elmhurst, IL 60126',\n",
       "       '726 N Ardmore Ave Villa Park, IL 60181',\n",
       "       '1850 Ogden Avenue Downers Grove, IL 60515',\n",
       "       '15941 S 94th Ave Orland Park, IL 60462',\n",
       "       '9601 Indianapolis Blvd, Highland, IN 46322 Highland, IN 46322',\n",
       "       '2211 Aurora Ave Naperville, IL 60540',\n",
       "       '7340 S Western Ave Chicago, IL 60636',\n",
       "       '3340 Oakton St Skokie, IL 60076',\n",
       "       '2121 North 15th Avenue Melrose Park, IL 60160',\n",
       "       '6060 South LaGrange Road Countryside, IL 60525',\n",
       "       '10125 S Cicero Ave oak lawn, IL 60453',\n",
       "       '14500 S Cicero Ave Midlothian, IL 60445',\n",
       "       '8505 W 159th St Tinley Park, IL 60487',\n",
       "       '9236 Indianapolis Blvd Highland, IN 46322',\n",
       "       '2699 Skokie Valley Road Highland Park, IL 60035',\n",
       "       '19915 South La Grange Road Frankfort, IL 60423',\n",
       "       '2055 Ogden Ave Naperville, IL 60540',\n",
       "       '6603 S Western Ave Chicago, IL 60636',\n",
       "       '2100 Harlem Ave North Riverside, IL 60546',\n",
       "       '8760 W 159th St Orland Park, IL 60462',\n",
       "       '2038 Waukegan Rd Glenview, IL 60025',\n",
       "       '5859 South La Grange Road Countryside, IL 60525',\n",
       "       '5525 Miller Cir Dr Matteson, IL 60443',\n",
       "       '8059 Harlem Ave Burbank, IL 60459',\n",
       "       '3101 West 95th Street Evergreen Park, IL 60805',\n",
       "       '8031 W 159th St Tinley Park, IL 60477',\n",
       "       '8585 W 159th St Tinley Park, IL 60487',\n",
       "       '8401 Roosevelt Rd Forest Park, IL 60130',\n",
       "       '745 W Lake St Elmhurst, IL 60126',\n",
       "       '5750 S La Grange Rd Countryside, IL 60525',\n",
       "       '2379 Aurora Avenue Naperville, IL 60540',\n",
       "       '175 N Arlington Heights Rd Elk Grove Village, IL 60007',\n",
       "       '14201 S. Cicero Ave Crestwood, IL 60445',\n",
       "       '4550 W. Lincoln Highway Route 30 Matteson, IL 60443',\n",
       "       '8821 W 159th St Orland Hills, IL 60487',\n",
       "       '4630 95th Street Oak Lawn, IL 60453',\n",
       "       '5125 Church St Skokie, IL 60077',\n",
       "       '1815 W. Ogden Ave Downers Grove, IL 60515',\n",
       "       '433 E North Ave Glendale Heights, IL 60139',\n",
       "       '8200 S Harlem Ave Bridgeview, IL 60455',\n",
       "       '6134 West 45th Avenue Gary, IN 46408',\n",
       "       '2170 S Mannheim Rd Des Plaines, IL 60018',\n",
       "       '500 West Lake Street Elmhurst, IL 60126',\n",
       "       '7050 W Ogden Ave Berwyn, IL 60402',\n",
       "       '21315 Central Avenue Matteson, IL 60443',\n",
       "       '2020 Ogden Avenue Downers Grove, IL 60515',\n",
       "       '300 W Grand Ave Elmhurst, IL 60126',\n",
       "       '9510 Joliet Rd Hodgkins, IL 60525',\n",
       "       '1488 W Ogden Ave Naperville, IL 60540',\n",
       "       '1533 S River Rd Des Plaines, IL 60018',\n",
       "       '200 E Ogden Ave Westmont, IL 60559',\n",
       "       '300 Roosevelt Rd Glen Ellyn, IL 60137',\n",
       "       '5701 Broadway Merriville, IN 46410',\n",
       "       '330 E Roosevelt Rd West Chicago, IL 60185',\n",
       "       '303 Village Drive Carol Stream, IL 60188',\n",
       "       '17730 Torrence Ave Lansing, IL 60438',\n",
       "       '700 W Higgins Rd Hoffman Estates, IL 60169',\n",
       "       '2900 Skokie Valley Rd Highland Park, IL 60035',\n",
       "       '2100 Frontage Rd. Glenco, IL 60022',\n",
       "       '1 Sherwood Terrace Lake Bluff, IL 60044',\n",
       "       '313 W Grand Ave Bensenville, IL 60106',\n",
       "       '14633 South Cicero Avenue Midlothian, IL 60445',\n",
       "       '4255 W Touhy Ave Lincolnwood, IL 60712',\n",
       "       '555 E Irving Park Rd Roselle, IL 60172',\n",
       "       '2210 Skokie Valley Rd Highland Park, IL 60035',\n",
       "       '2500 North Ave. Melrose Park, IL 60160',\n",
       "       '1970 River Oaks Dr Calumet City, IL 60409',\n",
       "       '3233 183rd St Homewood, IL 60430',\n",
       "       '9423 W Lincoln Hwy Frankfort, IL 60423',\n",
       "       '303 W Roosevelt Rd Lombard, IL 60148',\n",
       "       '6200 South La Grange Road Countryside, IL 60525',\n",
       "       '1115 REPUBLIC DR Addison, IL 60101',\n",
       "       '500 E Roosevelt Rd Lombard, IL 60148',\n",
       "       '8150 W. 159th St. Orland Park, IL 60462',\n",
       "       '1540 West Ogden Avenue Naperville, IL 60540',\n",
       "       '1585 Ogden Ave Naperville, IL 60540',\n",
       "       '1559 West Ogden Avenue Naperville, IL 60540',\n",
       "       '7585 S Madison St Unit A Burr Ridge, IL 60527',\n",
       "       '9301 South Cicero Ave. Oak Lawn, IL 60453',\n",
       "       '9700 Indianapolis Blvd Highland, IN 46322',\n",
       "       '1564 West Ogden Avenue Naperville, IL 60540',\n",
       "       '650 W Golf Rd Schaumburg, IL 60195',\n",
       "       '7301 Kingery Hwy Willowbrook, IL 60527',\n",
       "       '8130 West 159th St. Orland Park, IL 60462',\n",
       "       '2300 Skokie Valley Rd Highland Park, IL 60035',\n",
       "       '2700 South Michigan Avenue Chicago, IL 60616',\n",
       "       '1075 W Golf Road Hoffman Estates, IL 60169',\n",
       "       '670 East Northwest Highway Arlington Heights, IL 60004',\n",
       "       '7000 Golf Rd Morton Grove, IL 60053',\n",
       "       '4916 N Elston Chicago, IL 60630',\n",
       "       '400 E Ogden Ave Westmont, IL 60559',\n",
       "       '110 W. Golf Rd Schaumburg, IL 60195',\n",
       "       '855 West Lake Street Addison, IL 60101',\n",
       "       '750 N York Road Elmhurst, IL 60126',\n",
       "       '8751 West 159th St Orland Park, IL 60462',\n",
       "       '410 E Northwest Hwy Des Plaines, IL 60016',\n",
       "       '24W445 Lake Street Roselle, IL 60172',\n",
       "       '2553 W Chicago Ave Chicago, IL 60622',\n",
       "       '5505 Auto Court Matteson, IL 60443',\n",
       "       '875 Rand Rd Des Plaines, IL 60016',\n",
       "       '1529 Rand Road Des Plaines, IL 60016',\n",
       "       '1020 E GOLF RD SCHAUMBURG, IL 60173',\n",
       "       '8430 West 159th Street Orland Park, IL 60462',\n",
       "       '300 E Ogden Ave Hinsdale, IL 60521',\n",
       "       '4019 S. Kedzie Chicago, IL 60632',\n",
       "       '3230 West Lake Avenue Glenview, IL 60026',\n",
       "       '11 Brandon Dr. Glendale Heights, IL 60139',\n",
       "       '8920 W 159th St Orland Park, IL 60462',\n",
       "       '6900 Dempster St Morton Grove, IL 60053',\n",
       "       '6722 w Grand Ave Chicago, IL 60707',\n",
       "       '1509 S River Rd Des Plaines, IL 60018',\n",
       "       '505 W Colfax Palatine, IL 60067',\n",
       "       '758 Industrial Dr Bensenville, IL 60106',\n",
       "       '1038 North Clark Street Chicago, IL 60610',\n",
       "       '4300 W 95th St Oak Lawn, IL 60453',\n",
       "       '2050 N Cicero Ave Chicago, IL 60639',\n",
       "       '1449 Payne Rd Schaumburg, IL 60173',\n",
       "       '2705 147th St Posen, IL 60469'], dtype=object)"
      ]
     },
     "execution_count": 11,
     "metadata": {},
     "output_type": "execute_result"
    }
   ],
   "source": [
    "df['seller_address'].unique() # shows all unique values in the 'seller_address' column"
   ]
  },
  {
   "cell_type": "code",
   "execution_count": 12,
   "id": "940754c6-f8a8-4628-bc40-952f2ef7d921",
   "metadata": {},
   "outputs": [
    {
     "data": {
      "text/plain": [
       "state\n",
       "IL    8610\n",
       "IN     344\n",
       "Name: count, dtype: int64"
      ]
     },
     "execution_count": 12,
     "metadata": {},
     "output_type": "execute_result"
    }
   ],
   "source": [
    "df['state'] = df['seller_address'].apply(lambda x: x.split()[-2]) # extracts the state name from the seller_address column  \n",
    "df['state'].value_counts() # shows how many cars are listed in each state  "
   ]
  },
  {
   "cell_type": "code",
   "execution_count": 13,
   "id": "74c4bdd7-6a00-4c1c-adec-23c44c8dd46d",
   "metadata": {},
   "outputs": [],
   "source": [
    "# Mapping dictionary\n",
    "state_map = {'IL': 'Illinois','IN': 'Indiana'}  # creating a mapping dictionary for state codes \n",
    "\n",
    "df['state'] = df['state'].map(state_map)   # replacing state codes with full state names  "
   ]
  },
  {
   "cell_type": "code",
   "execution_count": 14,
   "id": "1788ae87-d7f7-479b-b701-accbe73733b2",
   "metadata": {},
   "outputs": [],
   "source": [
    "df.drop([\"seller_address\"], axis=1, inplace=True) # droping unnecessary column"
   ]
  },
  {
   "cell_type": "code",
   "execution_count": 15,
   "id": "3dbef264-76a4-4756-b467-57c5bc9305d1",
   "metadata": {},
   "outputs": [
    {
     "data": {
      "text/plain": [
       "car                     0\n",
       "condition               0\n",
       "mileage                 0\n",
       "price                   0\n",
       "basics_info             0\n",
       "vehicle_history_info    0\n",
       "state                   0\n",
       "dtype: int64"
      ]
     },
     "execution_count": 15,
     "metadata": {},
     "output_type": "execute_result"
    }
   ],
   "source": [
    "df.isnull().sum() # showing the number of missing values in each column "
   ]
  },
  {
   "cell_type": "code",
   "execution_count": 16,
   "id": "fe3e6c99-7975-494c-ae59-1ecb3db9595f",
   "metadata": {},
   "outputs": [
    {
     "data": {
      "text/plain": [
       "car                     0.0\n",
       "condition               0.0\n",
       "mileage                 0.0\n",
       "price                   0.0\n",
       "basics_info             0.0\n",
       "vehicle_history_info    0.0\n",
       "state                   0.0\n",
       "dtype: float64"
      ]
     },
     "execution_count": 16,
     "metadata": {},
     "output_type": "execute_result"
    }
   ],
   "source": [
    "df.isnull().mean()*100 # showing the percentage of missing values in each column "
   ]
  },
  {
   "cell_type": "markdown",
   "id": "3a28fced-bcaf-4fab-9266-892f6f5f9c1f",
   "metadata": {},
   "source": [
    "### Condition"
   ]
  },
  {
   "cell_type": "code",
   "execution_count": 17,
   "id": "b68cba7e-f9d2-4c09-a0ba-17beccbca39a",
   "metadata": {},
   "outputs": [
    {
     "data": {
      "text/plain": [
       "condition\n",
       "Used                       4888\n",
       "New                        3549\n",
       "Chevrolet Certified          71\n",
       "Mercedes-Benz Certified      49\n",
       "Ford Certified               37\n",
       "BMW Certified                35\n",
       "Porsche Certified            33\n",
       "Audi Certified               30\n",
       "Subaru Certified             27\n",
       "Jeep Certified               25\n",
       "Nissan Certified             23\n",
       "Volkswagen Certified         22\n",
       "GMC Certified                18\n",
       "Buick Certified              17\n",
       "Ferrari Certified            17\n",
       "Cadillac Certified           15\n",
       "Lincoln Certified            11\n",
       "Certified                    10\n",
       "Honda Certified              10\n",
       "Dodge Certified               9\n",
       "INFINITI Certified            8\n",
       "Hyundai Certified             7\n",
       "Chrysler Certified            7\n",
       "RAM Certified                 7\n",
       "Acura Certified               6\n",
       "Rolls-Royce Certified         6\n",
       "Genesis Certified             5\n",
       "Volvo Certified               4\n",
       "Kia Certified                 4\n",
       "Maserati Certified            2\n",
       "Aston Martin Certified        2\n",
       "Name: count, dtype: int64"
      ]
     },
     "execution_count": 17,
     "metadata": {},
     "output_type": "execute_result"
    }
   ],
   "source": [
    "df['condition'].value_counts() # showing how many condition categories of cars"
   ]
  },
  {
   "cell_type": "code",
   "execution_count": 18,
   "id": "da44eb09-cf22-45af-ba12-33e62f2372ab",
   "metadata": {},
   "outputs": [],
   "source": [
    "## Example of Feature Engineering\n",
    "\n",
    "def group_conditions(condition):  # function to group different condition labels into 'New', 'Used', or 'CPO'\n",
    "    if condition == 'New':\n",
    "        return 'New'\n",
    "    elif condition == 'Used':\n",
    "        return 'Used'\n",
    "    else:\n",
    "        return 'Certified Pre-Owned (CPO)'\n",
    "\n",
    "df['condition'] = df['condition'].apply(group_conditions) # grouping condition values into 3 categories: New, Used, and CPO  "
   ]
  },
  {
   "cell_type": "code",
   "execution_count": 19,
   "id": "89554605-158e-41af-abcf-0963cb94d5f5",
   "metadata": {},
   "outputs": [
    {
     "data": {
      "text/plain": [
       "condition\n",
       "Used                         4888\n",
       "New                          3549\n",
       "Certified Pre-Owned (CPO)     517\n",
       "Name: count, dtype: int64"
      ]
     },
     "execution_count": 19,
     "metadata": {},
     "output_type": "execute_result"
    }
   ],
   "source": [
    "df['condition'].value_counts() # showing how many condition categories of cars"
   ]
  },
  {
   "cell_type": "markdown",
   "id": "a638a6ab-676a-4fee-a343-9af99ad1f6ab",
   "metadata": {},
   "source": [
    "### Car"
   ]
  },
  {
   "cell_type": "code",
   "execution_count": 20,
   "id": "73a5761f-a3fb-4233-92b3-ca665856aa04",
   "metadata": {},
   "outputs": [
    {
     "data": {
      "text/plain": [
       "array(['2024 Lexus LC 500 Base', '2007 Acura TSX Base',\n",
       "       '2016 McLaren 675LT Base', ...,\n",
       "       '2024 Alfa Romeo Tonale Veloce EAWD',\n",
       "       '2021 Audi SQ5 3.0T Prestige', '2024 GMC Sierra 1500 Pro'],\n",
       "      shape=(3394,), dtype=object)"
      ]
     },
     "execution_count": 20,
     "metadata": {},
     "output_type": "execute_result"
    }
   ],
   "source": [
    "df['car'].unique()  # showing all unique car names in the 'car' column"
   ]
  },
  {
   "cell_type": "code",
   "execution_count": 21,
   "id": "da052a7d-376a-4257-b74f-8e607c6b11b0",
   "metadata": {},
   "outputs": [],
   "source": [
    "# Example of feature engineering\n",
    "\n",
    "df[\"model_year\"] = df[\"car\"].apply(lambda x:x.split(' ')[0]) # extracting the model year from the 'car' column"
   ]
  },
  {
   "cell_type": "code",
   "execution_count": 22,
   "id": "adfd3f09-7dfd-4afb-b109-6645e2c6b8b4",
   "metadata": {},
   "outputs": [
    {
     "data": {
      "text/plain": [
       "array(['2024', '2007', '2016', '2018', '2019', '2012', '2008', '2013',\n",
       "       '2020', '2014', '2015', '2004', '2000', '2011', '1988', '2002',\n",
       "       '2023', '2006', '1975', '2009', '2005', '2017', '2010', '2022',\n",
       "       '2021', '2003', '1983', '1981', '2001', '1993', '1971', '1985',\n",
       "       '1980', '1974', '1999', '1989', '1972', '1994', '1992', '1991',\n",
       "       '1984', '1976', '1995', '2025', '1998', '1997', '1990', '1970',\n",
       "       '1996', '1982', '1960', '1959', '1973', '1987', '1969', '1966'],\n",
       "      dtype=object)"
      ]
     },
     "execution_count": 22,
     "metadata": {},
     "output_type": "execute_result"
    }
   ],
   "source": [
    "df[\"model_year\"].unique() # Shows all unique values in the 'model_year' column after doing feature enginering "
   ]
  },
  {
   "cell_type": "code",
   "execution_count": 23,
   "id": "8d43584f-cc6d-44db-96d9-c1af12b86e8c",
   "metadata": {},
   "outputs": [],
   "source": [
    "# Example of  Feature Transformation\n",
    "\n",
    "df['model_year'] = pd.to_datetime(df['model_year'], format='%Y').dt.year # converting model year to datetime and extracting the year"
   ]
  },
  {
   "cell_type": "code",
   "execution_count": 24,
   "id": "af2dc887-fcae-4723-83ab-c1db3ea57e3f",
   "metadata": {},
   "outputs": [],
   "source": [
    "# Example of feature engineering\n",
    "\n",
    "df['car_age']= datetime.now().year - df['model_year'] # calculating car age by subtracting model year from current year"
   ]
  },
  {
   "cell_type": "markdown",
   "id": "a7dbf257-0bfc-4e92-94c8-339eefba24b1",
   "metadata": {},
   "source": [
    "### Manufacturer"
   ]
  },
  {
   "cell_type": "code",
   "execution_count": 25,
   "id": "92940ead-a666-412e-90da-a3d1cc27e91c",
   "metadata": {},
   "outputs": [],
   "source": [
    "# Example of feature engineering\n",
    "\n",
    "df[\"manufacturer\"] = df[\"car\"].str.split().str[1] # extracting manufacturer name from the second word from the 'car' column"
   ]
  },
  {
   "cell_type": "code",
   "execution_count": 26,
   "id": "54429e4f-fe80-47dc-8f5d-5bc94b0dc44f",
   "metadata": {},
   "outputs": [
    {
     "data": {
      "text/plain": [
       "manufacturer\n",
       "Ford             842\n",
       "Jeep             809\n",
       "Chevrolet        791\n",
       "Nissan           596\n",
       "BMW              457\n",
       "Mercedes-Benz    445\n",
       "Subaru           427\n",
       "Honda            378\n",
       "Toyota           359\n",
       "Audi             315\n",
       "Cadillac         312\n",
       "Lexus            287\n",
       "Volkswagen       284\n",
       "Kia              279\n",
       "RAM              229\n",
       "INFINITI         203\n",
       "Hyundai          193\n",
       "Dodge            145\n",
       "Tesla            141\n",
       "Lincoln          137\n",
       "Volvo            116\n",
       "GMC              115\n",
       "Mazda            107\n",
       "Chrysler         103\n",
       "Buick            101\n",
       "Porsche           99\n",
       "Acura             95\n",
       "Jaguar            63\n",
       "Land              54\n",
       "Mitsubishi        52\n",
       "Ferrari           45\n",
       "Genesis           43\n",
       "Maserati          41\n",
       "MINI              41\n",
       "Alfa              31\n",
       "Scion             29\n",
       "Aston             25\n",
       "Rivian            24\n",
       "Rolls-Royce       23\n",
       "Lamborghini       21\n",
       "Pontiac           14\n",
       "Bentley           13\n",
       "Saab              13\n",
       "Saturn            10\n",
       "McLaren            8\n",
       "Polestar           8\n",
       "Hummer             7\n",
       "Mercury            4\n",
       "Plymouth           4\n",
       "Fisker             3\n",
       "Triumph            2\n",
       "Lotus              2\n",
       "FIAT               2\n",
       "Bugatti            2\n",
       "Isuzu              2\n",
       "Oldsmobile         2\n",
       "Delorean           1\n",
       "Name: count, dtype: int64"
      ]
     },
     "execution_count": 26,
     "metadata": {},
     "output_type": "execute_result"
    }
   ],
   "source": [
    "df[\"manufacturer\"].value_counts()  # showing the count of each unique manufacturer"
   ]
  },
  {
   "cell_type": "markdown",
   "id": "2c3e45ed-40bd-4faf-8f6a-b6c25333b088",
   "metadata": {},
   "source": [
    "### mileage"
   ]
  },
  {
   "cell_type": "code",
   "execution_count": 27,
   "id": "a55d9557-45e0-4564-bdd9-c720854f3046",
   "metadata": {},
   "outputs": [
    {
     "data": {
      "text/plain": [
       "array([' 0 mi.', ' 61,110 mi.', ' 6,305 mi.', ..., ' 3,246 mi.',\n",
       "       ' 40,291 mi.', ' 79,767 mi.'], shape=(3909,), dtype=object)"
      ]
     },
     "execution_count": 27,
     "metadata": {},
     "output_type": "execute_result"
    }
   ],
   "source": [
    "df['mileage'].unique() # showing all unique mileage values"
   ]
  },
  {
   "cell_type": "code",
   "execution_count": 28,
   "id": "8d1c86b0-72a2-4687-85b8-2142ba53b893",
   "metadata": {},
   "outputs": [],
   "source": [
    "df['mileage'] = df['mileage'].str.replace(' mi.', '', regex=False).str.strip().str.replace(',', '') # cleaning mileage column by removing 'mi.' and commas"
   ]
  },
  {
   "cell_type": "code",
   "execution_count": 29,
   "id": "2daa16f2-731b-4f77-81af-a7d55f84a9c5",
   "metadata": {},
   "outputs": [],
   "source": [
    "df['mileage'] = df['mileage'].replace('', np.nan) # replacing empty strings in mileage column with NaN (missing values)"
   ]
  },
  {
   "cell_type": "code",
   "execution_count": 30,
   "id": "25e804bf-08cc-4280-830c-705628b0fd26",
   "metadata": {},
   "outputs": [],
   "source": [
    "df.rename(columns= {'mileage': 'mileage_mi'}, inplace= True) #renamed the column"
   ]
  },
  {
   "cell_type": "markdown",
   "id": "5f9c8f7c-0108-45cf-ac36-3ec53b9e3be8",
   "metadata": {},
   "source": [
    "### price"
   ]
  },
  {
   "cell_type": "code",
   "execution_count": 31,
   "id": "cb0bce16-3977-49a5-9d27-36d870adb120",
   "metadata": {},
   "outputs": [
    {
     "data": {
      "text/plain": [
       "price\n",
       "$9,995                    34\n",
       "$19,995                   30\n",
       "$12,995                   27\n",
       "$15,995                   26\n",
       "$19,998                   26\n",
       "                          ..\n",
       "$30,952$636 price drop     1\n",
       "$41,795$600 price drop     1\n",
       "$45,179MSRP $56,640        1\n",
       "$19,842$837 price drop     1\n",
       "$39,960                    1\n",
       "Name: count, Length: 5136, dtype: int64"
      ]
     },
     "execution_count": 31,
     "metadata": {},
     "output_type": "execute_result"
    }
   ],
   "source": [
    "df['price'].value_counts() # shows how many times each price appears"
   ]
  },
  {
   "cell_type": "code",
   "execution_count": 32,
   "id": "3e7336f6-1eba-4989-a103-90c0f8796b30",
   "metadata": {},
   "outputs": [],
   "source": [
    "df['price'] = df['price'].str.split('$').str[1].str.replace(r'[a-zA-Z]', '', regex=True).str.strip().str.replace(',', '') # Cleaning 'price' column: removes '$', letters, extra spaces, and commas"
   ]
  },
  {
   "cell_type": "code",
   "execution_count": 33,
   "id": "8278da97-af8e-489e-a99a-5b4eac1832f1",
   "metadata": {},
   "outputs": [
    {
     "data": {
      "text/plain": [
       "price\n",
       "19995    39\n",
       "9995     35\n",
       "12995    32\n",
       "16995    32\n",
       "19998    31\n",
       "         ..\n",
       "23364     1\n",
       "62325     1\n",
       "55761     1\n",
       "27528     1\n",
       "22650     1\n",
       "Name: count, Length: 4420, dtype: int64"
      ]
     },
     "execution_count": 33,
     "metadata": {},
     "output_type": "execute_result"
    }
   ],
   "source": [
    "df['price'].value_counts() # Shows how many times each unique price appears in the 'price' column"
   ]
  },
  {
   "cell_type": "code",
   "execution_count": 34,
   "id": "3d4980e1-100c-418b-b73a-0928c7dc8e61",
   "metadata": {},
   "outputs": [],
   "source": [
    "df[\"price\"] = df[\"price\"].str.split().str[0] # Keeps only the first part of the 'price' (before any spaces)"
   ]
  },
  {
   "cell_type": "code",
   "execution_count": 35,
   "id": "30015183-4f8e-4581-aab3-6d0f455db1a4",
   "metadata": {},
   "outputs": [
    {
     "data": {
      "text/plain": [
       "price\n",
       "19995    39\n",
       "9995     35\n",
       "16995    32\n",
       "12995    32\n",
       "19998    31\n",
       "         ..\n",
       "29410     1\n",
       "79639     1\n",
       "57331     1\n",
       "9982      1\n",
       "40995     1\n",
       "Name: count, Length: 4411, dtype: int64"
      ]
     },
     "execution_count": 35,
     "metadata": {},
     "output_type": "execute_result"
    }
   ],
   "source": [
    "df['price'].value_counts() # Shows how many times each unique price appears in the 'price' column"
   ]
  },
  {
   "cell_type": "code",
   "execution_count": 36,
   "id": "b1499ca8-90af-4caa-b13e-b097bb295fa9",
   "metadata": {},
   "outputs": [
    {
     "data": {
      "text/plain": [
       "car                       0\n",
       "condition                 0\n",
       "mileage_mi              150\n",
       "price                    17\n",
       "basics_info               0\n",
       "vehicle_history_info      0\n",
       "state                     0\n",
       "model_year                0\n",
       "car_age                   0\n",
       "manufacturer              0\n",
       "dtype: int64"
      ]
     },
     "execution_count": 36,
     "metadata": {},
     "output_type": "execute_result"
    }
   ],
   "source": [
    "df.isnull().sum() # Shows the total number of missing (NaN) values in each column"
   ]
  },
  {
   "cell_type": "code",
   "execution_count": 37,
   "id": "dd4a7817-9634-4eed-aecf-059380563d5a",
   "metadata": {},
   "outputs": [],
   "source": [
    "df = df.dropna() #droping the null values"
   ]
  },
  {
   "cell_type": "code",
   "execution_count": 38,
   "id": "1d30a73b-f1cb-45d9-80f6-05d54c217057",
   "metadata": {},
   "outputs": [],
   "source": [
    "# Example of Feature Transformation\n",
    "\n",
    "# Changing the data type of price and mileage to integer\n",
    "df['price'] = pd.to_numeric(df['price'], errors='coerce')\n",
    "df['mileage_mi'] = pd.to_numeric(df['mileage_mi'], errors='coerce')"
   ]
  },
  {
   "cell_type": "code",
   "execution_count": 39,
   "id": "fe0ac4c4-507b-444d-8516-e21e3c751e3d",
   "metadata": {},
   "outputs": [
    {
     "name": "stdout",
     "output_type": "stream",
     "text": [
      "<class 'pandas.core.frame.DataFrame'>\n",
      "Index: 8787 entries, 0 to 9245\n",
      "Data columns (total 10 columns):\n",
      " #   Column                Non-Null Count  Dtype \n",
      "---  ------                --------------  ----- \n",
      " 0   car                   8787 non-null   object\n",
      " 1   condition             8787 non-null   object\n",
      " 2   mileage_mi            8787 non-null   int64 \n",
      " 3   price                 8787 non-null   int64 \n",
      " 4   basics_info           8787 non-null   object\n",
      " 5   vehicle_history_info  8787 non-null   object\n",
      " 6   state                 8787 non-null   object\n",
      " 7   model_year            8787 non-null   int32 \n",
      " 8   car_age               8787 non-null   int32 \n",
      " 9   manufacturer          8787 non-null   object\n",
      "dtypes: int32(2), int64(2), object(6)\n",
      "memory usage: 686.5+ KB\n"
     ]
    }
   ],
   "source": [
    "df.info()  # Provides a  summary of the DataFrame, including column names, data types, and non-null counts"
   ]
  },
  {
   "cell_type": "markdown",
   "id": "c20d7b91-5358-4256-a863-997d77e30ab2",
   "metadata": {},
   "source": [
    "### basics_info"
   ]
  },
  {
   "cell_type": "code",
   "execution_count": 40,
   "id": "8546ee31-df21-483f-a580-fcf52732d242",
   "metadata": {},
   "outputs": [
    {
     "data": {
      "text/plain": [
       "<bound method Series.unique of 0       {'Exterior color': ' Caviar ', 'Interior color...\n",
       "1       {'Exterior color': ' Alabaster Silver Metallic...\n",
       "2       {'Exterior color': ' McLaren Orange ', 'Interi...\n",
       "3       {'Exterior color': ' Black ', 'Interior color'...\n",
       "4       {'Exterior color': ' Imperial Blue Metallic ',...\n",
       "                              ...                        \n",
       "9240    {'Exterior color': ' Bright White Clearcoat ',...\n",
       "9242    {'Exterior color': ' Dark Graphite Metallic ',...\n",
       "9243    {'Exterior color': ' Summit White ', 'Interior...\n",
       "9244    {'Exterior color': ' Black ', 'Interior color'...\n",
       "9245    {'Exterior color': ' Magnetite Gray Metallic '...\n",
       "Name: basics_info, Length: 8787, dtype: object>"
      ]
     },
     "execution_count": 40,
     "metadata": {},
     "output_type": "execute_result"
    }
   ],
   "source": [
    "df[\"basics_info\"].unique # Returns the unique values in the 'basics_info' column"
   ]
  },
  {
   "cell_type": "code",
   "execution_count": 41,
   "id": "75fc691e-bd81-4418-9ca2-ab063daec527",
   "metadata": {},
   "outputs": [],
   "source": [
    "# Example of feature engineering\n",
    "\n",
    "df[\"basics_info\"] = df[\"basics_info\"].apply(eval) # Convert the string dictionaries into actual dictionaries\n",
    "\n",
    "df['fuel_type'] = df['basics_info'].apply(lambda x: x.get('Fuel type', 'Unknow').strip()) # Extracts 'Fuel type' value from each dict\n",
    "df['drivetrain'] = df['basics_info'].apply(lambda x: x.get('Drivetrain', 'Unknow').strip()) # Extracts 'Drivetrain' value from each dict\n",
    "df['transmission'] = df['basics_info'].apply(lambda x: x.get('Transmission', 'Unknow').strip()) # Extracts 'Transmission' value from each dict\n",
    "df['exterior_color'] = df['basics_info'].apply(lambda x: x.get('Exterior color', 'Unknow').strip()) # Extracts 'Exterior color' value from each dict\n",
    "df['interior_color'] = df['basics_info'].apply(lambda x: x.get('Interior color', 'Unknow').strip()) # Extracts 'Interior color' value from each dict"
   ]
  },
  {
   "cell_type": "markdown",
   "id": "be804daf-cb00-4a36-a156-965d10806637",
   "metadata": {},
   "source": [
    "### fuel_type"
   ]
  },
  {
   "cell_type": "code",
   "execution_count": 42,
   "id": "b267e9b2-ccfb-422a-83ca-4a7bf3e8c472",
   "metadata": {},
   "outputs": [
    {
     "data": {
      "text/plain": [
       "fuel_type\n",
       "Gasoline            7388\n",
       "Unknow               564\n",
       "Hybrid               424\n",
       "Diesel               259\n",
       "E85 Flex Fuel        116\n",
       "–                     32\n",
       "Gas/Electric Hyb       2\n",
       "Flexible Fuel          2\n",
       "Name: count, dtype: int64"
      ]
     },
     "execution_count": 42,
     "metadata": {},
     "output_type": "execute_result"
    }
   ],
   "source": [
    "df[\"fuel_type\"].value_counts() # Counts how many times each unique fuel type appears in the 'fuel_type' column"
   ]
  },
  {
   "cell_type": "code",
   "execution_count": 43,
   "id": "67e502dd-0563-4cf4-9b5c-dc2ff20ba55d",
   "metadata": {},
   "outputs": [],
   "source": [
    "# used to group various fuel types into categories\n",
    "\n",
    "fuel_group_map = {\n",
    "    'Gasoline': 'Gasoline',\n",
    "    'Hybrid': 'Hybrid',\n",
    "    'Diesel': 'Diesel',\n",
    "    'E85 Flex Fuel': 'Flex Fuel',\n",
    "    'Plug-In Hybrid': 'Hybrid',   \n",
    "    'Gas/Electric Hyb': 'Hybrid',       \n",
    "    'Flexible Fuel': 'Flex Fuel',         \n",
    "    'Unknow': np.nan,\n",
    "    '–': np.nan,\n",
    "}\n",
    "\n",
    "df['fuel_type'] = df['fuel_type'].map(fuel_group_map) # Groups similar fuel types and replaces unknown/missing values with NaN"
   ]
  },
  {
   "cell_type": "code",
   "execution_count": 44,
   "id": "74790ddc-ef87-4f4c-a9cf-a63cbe25435e",
   "metadata": {},
   "outputs": [
    {
     "data": {
      "text/plain": [
       "fuel_type\n",
       "Gasoline     7388\n",
       "Hybrid        426\n",
       "Diesel        259\n",
       "Flex Fuel     118\n",
       "Name: count, dtype: int64"
      ]
     },
     "execution_count": 44,
     "metadata": {},
     "output_type": "execute_result"
    }
   ],
   "source": [
    "df[\"fuel_type\"].value_counts() # Counts how many times each unique fuel type appears in the 'fuel_type' column"
   ]
  },
  {
   "cell_type": "markdown",
   "id": "2d0e720b-a04e-434e-bccb-12be3e18d1c6",
   "metadata": {},
   "source": [
    "### drivetrain"
   ]
  },
  {
   "cell_type": "code",
   "execution_count": 45,
   "id": "0adfb1ad-0021-469f-8135-f84130259ed7",
   "metadata": {},
   "outputs": [
    {
     "data": {
      "text/plain": [
       "drivetrain\n",
       "All-wheel Drive      3891\n",
       "Front-wheel Drive    1950\n",
       "Four-wheel Drive     1752\n",
       "Rear-wheel Drive      999\n",
       "AWD                    68\n",
       "–                      45\n",
       "RWD                    26\n",
       "FWD                    24\n",
       "Unknown                23\n",
       "4WD                     9\n",
       "Name: count, dtype: int64"
      ]
     },
     "execution_count": 45,
     "metadata": {},
     "output_type": "execute_result"
    }
   ],
   "source": [
    "df[\"drivetrain\"].value_counts() # Counts how many times each unique drivetrain type appears in the 'drivetrain' column"
   ]
  },
  {
   "cell_type": "markdown",
   "id": "4f645eeb-8698-4490-a713-369a00f98106",
   "metadata": {},
   "source": [
    "All-wheel Drive: Power to all four wheels, good for slippery roads.\n",
    "Front-wheel Drive: Power to the front two wheels, efficient for daily use.\t\n",
    "Four-wheel Drive: Power to all wheels when needed, great for off-road driving.\t\n",
    "Rear-wheel Drive: Power to the rear two wheels, ideal for speed and performance.\t\n",
    "AWD: Same as \"All-wheel Drive,\" just written differently.\t\n",
    "RWD: Same as \"Rear-wheel Drive,\" just written differently.\t\n",
    "FWD: Same as \"Front-wheel Drive,\" just written differently.\t\n",
    "4WD: Same as \"Four-wheel Drive,\" just written differently.\t"
   ]
  },
  {
   "cell_type": "code",
   "execution_count": 46,
   "id": "8e8b38d2-79f6-48ed-8d7f-68fd27ab90a6",
   "metadata": {},
   "outputs": [],
   "source": [
    "# Example of Feature Engineering.\n",
    "\n",
    "# used to group various drivetrain into categories\n",
    "\n",
    "drivetrain_mapping = {\n",
    "    'All-wheel Drive': 'All-wheel Drive',\n",
    "    'AWD': 'All-wheel Drive',\n",
    "    'Four-wheel Drive': 'Four-wheel Drive',\n",
    "    '4WD': 'Four-wheel Drive',\n",
    "    'Rear-wheel Drive': 'Rear-wheel Drive',\n",
    "    'RWD': 'Rear-wheel Drive',\n",
    "    'Front-wheel Drive': 'Front-wheel Drive',\n",
    "    'FWD': 'Front-wheel Drive',\n",
    "    'Unknown': np.nan,\n",
    "    '–': np.nan,\n",
    "}\n",
    "\n",
    "df['drivetrain'] = df['drivetrain'].map(drivetrain_mapping) # Groups similar drivetrain values and replaces unknown/missing ones with NaN"
   ]
  },
  {
   "cell_type": "code",
   "execution_count": 47,
   "id": "fd4fca58-6ac7-40c5-ac74-59bc17dd171e",
   "metadata": {},
   "outputs": [
    {
     "data": {
      "text/plain": [
       "drivetrain\n",
       "All-wheel Drive      3959\n",
       "Front-wheel Drive    1974\n",
       "Four-wheel Drive     1761\n",
       "Rear-wheel Drive     1025\n",
       "Name: count, dtype: int64"
      ]
     },
     "execution_count": 47,
     "metadata": {},
     "output_type": "execute_result"
    }
   ],
   "source": [
    "df[\"drivetrain\"].value_counts() # Counts how many times each unique drivetrain type appears in the 'drivetrain' column"
   ]
  },
  {
   "cell_type": "markdown",
   "id": "afe2e104-7625-4a4f-a280-20b8e2a54863",
   "metadata": {},
   "source": [
    "### transmission"
   ]
  },
  {
   "cell_type": "code",
   "execution_count": 48,
   "id": "2f1b28f6-2931-45d7-8f1c-ca843f2691e0",
   "metadata": {},
   "outputs": [
    {
     "data": {
      "text/plain": [
       "transmission\n",
       "Automatic                     2196\n",
       "8-Speed Automatic             1543\n",
       "Automatic CVT                 1093\n",
       "6-Speed Automatic              749\n",
       "9-Speed Automatic              601\n",
       "                              ... \n",
       "Auto, 6-Spd DSG Tptrnc SM        1\n",
       "5-Speed                          1\n",
       "7-Speed F1 Dual-clutch           1\n",
       "Auto, 6-Spd Adaptive             1\n",
       "Automatic, 9-Spd 9G-Tronic       1\n",
       "Name: count, Length: 137, dtype: int64"
      ]
     },
     "execution_count": 48,
     "metadata": {},
     "output_type": "execute_result"
    }
   ],
   "source": [
    "df['transmission'].value_counts() # Counts how many times each unique transmission type appears in the 'transmission' column"
   ]
  },
  {
   "cell_type": "code",
   "execution_count": 49,
   "id": "ccf7792c-50f8-4fce-9df9-fc1c50df0c94",
   "metadata": {},
   "outputs": [],
   "source": [
    "# used to group various transmission into categories\n",
    "# Feature Engineering.\n",
    "\n",
    "transmission_group_map = {\n",
    "    \"Fully Automatic\": [\n",
    "            \"Automatic\", \"A\", \"3-Speed Automatic\", \"4-Speed Automatic\", \"5-Speed Automatic\", \"6-Speed Automatic\",\n",
    "            \"7-Speed Automatic\", \"8-Speed Automatic\", \"9-Speed Automatic\", \"10-Speed Automatic\",\n",
    "            \"Automatic CVT\", \"7G-TRONIC 7-Speed Automatic\", \"ZF 8-Speed Automatic\",\n",
    "            \"10-Speed Automatic with Overdrive\", \"7-Speed Automatic with Auto-Shift\", \"8-Speed Automatic with Auto-Shift\", \n",
    "            \"A/T\", \"Automatic 6-Speed\", \"Automatic 4-Speed\", \"Automatic 5-Speed\", \"9-Speed 948TE Automatic\", \n",
    "            \"Automatic 8-Speed\", \"Automatic 7-Speed\", \"Automatic 3-Speed\", \"9-Speed Automatic with Overdrive\", \"Automatic 9-Speed\", \"2-Speed Automatic\",\n",
    "            \"8-Speed A/T\", \"6-Speed Automatic Electronic with Overdrive\", \"6-Speed A/T\", \"4-Speed A/T\", \"6-Speed Automatic Paddle Shift\", \n",
    "            \"6-Speed Automatic with Sportmatic\", \"Automatic, 6-Spd\", \"Automatic, 5-Spd w/Overdrive\", \"Automatic, 5-Spd w/Overdrive & SportShift\", \n",
    "            \"Auto, 8-Spd w/OD\", \"5-Speed A/T\", \"Automatic, 4-Spd w/Overdrive\", \"Automatic, CVT w/Overdrive\", \"Automatic, 6-Spd w/Overdrive & CommandShift\",\n",
    "            \"TorqShift 6-Speed Automatic\", \"Allison 1000 6-Speed Automatic\", \"Automatic, 8-Spd\", \"6 Speed Automatic Transmission\", \n",
    "            \"7-Speed A/T\", \"Automatic, 9-Spd 9G-Tronic\", \"5-Speed Automatic with Overdrive\", \"8-Speed Touchtronic III Automatic\", \"6-Speed Automatic Touchtonic 2\",\n",
    "            \"6-Speed Automatic with TapShift\", \"Auto 6-Spd w/OD & MM\", \"7-Speed Automatic with Overdrive\", \"Automatic, 6-Spd w/Overdrive\", \n",
    "            \"8-Speed Automatic with Overdrive\", \"6-Speed Automatic with Auto-Shift\", \"Automatic, 8-Spd Sport\", \"Auto, 8-Spd Sport\", \n",
    "            \"Auto, 6-Spd Adaptive\", \"7-speed automatic drive-adaptive transmission-inc\"\n",
    "        \n",
    "        ],\n",
    "    \n",
    "        \"Continuously Variable Transmission (CVT)\": [\n",
    "            \"CVT\", \"Automatic CVT\", \"CVT Transmission\", \"CVT with Xtronic\",\n",
    "            \"Continuously Variable\", \"Continuously Variable (ECVT)\", \"10-Speed Shiftable CVT\", \"IVT\", \"eCVT\", \"Automatic Xtronic CVT\",\n",
    "            \"Shiftronic\", \"CVT 7-Speed\"\n",
    "        ],\n",
    "    \n",
    "        \"Semi-Automatic / Dual-Clutch\": [\n",
    "            \"7-Speed Double Clutch\", \"6-Speed Double Clutch\", \"8-Speed DCT\", \n",
    "            \"7-Speed DSG Automatic with Tiptronic\", \"7-Speed DSGA? Automatic w/ 4MO\", \n",
    "            \"7-Speed DCT Automatic\", \"7-Speed Porsche Doppelkupplung (PDK)\",\n",
    "            \"8-Speed Porsche Doppelkupplung (PDK)\", \"Auto 7Spd DblCltch DrvLgc\", \"Transmission w/Dual Shift Mode\", \"Auto, 7-Spd Sportshift\",\n",
    "            \"9-Speed Double Clutch\", \"Automatic, 7-Spd w/Dual-Clutch\", \"7-Speed Manual Dual Clutch\", \"7-Speed F1 Dual-clutch\",\n",
    "            \"6-Speed Automated Manual\", \"8-Speed Auto-Shift Manual w/OD\", \"6-Speed Automated Manual\", \"8-Speed Auto-Shift Manual w/OD\",\n",
    "            \"7-Speed Automatic with Manual Shift\", \"Automatic, 6-Spd w/Overdrive & Manual Mode\"\n",
    "        ],\n",
    "    \n",
    "        \"Manual Transmission\": [\n",
    "            \"Manual\", \"6-Speed Manual\", \"7-Speed Manual\", \"5-Speed Manual\", \"M\",\n",
    "            \"Manual 5-Speed\", \"Manual 6-Speed\", \"4-Speed Manual\", \n",
    "            \"7-Speed Manual with Sportshift II\", \"Manual, 6-Spd\", \"Manual, 5-Spd\", \"6-Speed M/T\", \"5-Speed M/T\",\"6 Speed Manual\", \"8-Speed Manual\",\n",
    "            \"6-Speed\", \"5-Speed\"\n",
    "        ],\n",
    "    \n",
    "        \"Single-Speed or Direct Drive\": [\n",
    "            \"1-Speed Automatic\", \"1-Speed A/T\", \"1-Speed Direct-Drive Automatic\",\n",
    "            \"Single-Speed Automatic\", \"Single-speed transmission\", \n",
    "            \"Single Speed Transmission\", \"Single-Speed Fixed Gear\", \"Automatic, 1-Spd\"\n",
    "        ],\n",
    "    \n",
    "        \"Tiptronic / Shiftable Automatic\": [\n",
    "            \"8-Speed Automatic with Tiptronic\", \"6-Speed Automatic with Tiptronic\", \"Automatic with Tiptronic\", \"8-Speed Shiftable Automatic\", \n",
    "            \"9-Speed Shiftable Automatic\", \"6-Speed Shiftable Automatic\", \"8-Speed Automatic with SHIFTRONIC\", \"SHIFTRONIC\",\n",
    "            \"8-Speed Shiftable Automatic w/Sport Transmission\", \"7-Speed Shiftable Automatic\", \"6-Speed Automatic with Tiptronic\", \n",
    "            \"8-Speed Automatic w/Sequential Shift Mode\", \"6-Speed Automatic with Shiftronic\", \"6-Speed Automatic with Select-Shift\", \n",
    "            \"8-Speed Automatic Sport\", \"7-Speed Shiftable Automatic\", \"10-Speed Shiftable Automatic\", \"Automatic, 6-Spd w/Paddle Shift\",\n",
    "            \"7-Speed Automatic S tronic\", \"5-Speed Shiftable Automatic\", \"8-Speed Tiptronic\", \"Auto, 8-Spd Seq Sht & Spt\", \n",
    "            \"Auto, 8-Spd Tiptronic Spt\", \"Auto, 8-Spd & Tiptronic\", \"Auto, 8-Spd Tiptronic\", \"Automatic, 8-Spd w/Tiptronic & Sport Mode\", \n",
    "            \"Auto, 6-Spd DSG Tptrnc SM\", \"6-speed Steptronic automatic transmission w/OD-inc\",\n",
    "            \"Automatic with Geartronic\", \"Auto, 6-Spd OD CmdShft\"\n",
    "        ],\n",
    "    \n",
    "        np.nan: [\n",
    "         \"-\", \"NOT SPECIFIED\", \"NULL\", \"Variable\", \"Not Specified\", \"quattroa? s tronica?\",\"–\"\n",
    "        ]\n",
    "    }\n",
    "\n",
    "def get_transmission_group(transmission): # Function that maps detailed transmission types to groups\n",
    "    for group, types in transmission_group_map.items(): # Loops through each group and its list of types\n",
    "        if transmission in types: # If the current transmission matches any type in the list\n",
    "            return group          # Return the group name\n",
    "    return transmission   # If no match is found, return the original transmission value\n",
    "\n",
    "# Apply the mapping function\n",
    "df['transmission'] = df['transmission'].apply(get_transmission_group) # Applies the transmission grouping to each value in the 'transmission' column"
   ]
  },
  {
   "cell_type": "code",
   "execution_count": 50,
   "id": "58927d91-e6c9-4fc8-9232-97c20cb8ab77",
   "metadata": {},
   "outputs": [
    {
     "data": {
      "text/plain": [
       "transmission\n",
       "Fully Automatic                             7597\n",
       "Single-Speed or Direct Drive                 369\n",
       "Manual Transmission                          334\n",
       "Tiptronic / Shiftable Automatic              179\n",
       "Continuously Variable Transmission (CVT)     129\n",
       "Semi-Automatic / Dual-Clutch                 108\n",
       "Name: count, dtype: int64"
      ]
     },
     "execution_count": 50,
     "metadata": {},
     "output_type": "execute_result"
    }
   ],
   "source": [
    "df['transmission'].value_counts() # Counts how many times each unique transmission type appears in the 'transmission' column"
   ]
  },
  {
   "cell_type": "markdown",
   "id": "8231b430-b459-424d-9ae7-d2fc209a47e8",
   "metadata": {},
   "source": [
    "### exterior_color"
   ]
  },
  {
   "cell_type": "code",
   "execution_count": 51,
   "id": "c1c43875-b361-4101-9b35-3529e7693024",
   "metadata": {},
   "outputs": [
    {
     "data": {
      "text/plain": [
       "array(['Caviar', 'Alabaster Silver Metallic', 'McLaren Orange', ...,\n",
       "       'Elemental Red Pearl', 'Dark Sky Metallic',\n",
       "       'Mineral Silver Metallic'], shape=(1174,), dtype=object)"
      ]
     },
     "execution_count": 51,
     "metadata": {},
     "output_type": "execute_result"
    }
   ],
   "source": [
    "df['exterior_color'].unique() # Returns all unique values found in the 'exterior_color' column"
   ]
  },
  {
   "cell_type": "code",
   "execution_count": 52,
   "id": "20625690-ddcf-47ed-beb0-6182f2a6c7d2",
   "metadata": {},
   "outputs": [],
   "source": [
    "df['exterior_color'] = df['exterior_color'].str.strip().str.lower().str.replace(r'\\s+', ' ', regex=True) # Cleans 'exterior_color' by trimming spaces, converting to lowercase, and replacing multiple spaces with a single space"
   ]
  },
  {
   "cell_type": "code",
   "execution_count": 53,
   "id": "1f5406dd-5c38-4ce8-8ad6-02b18bc66c2d",
   "metadata": {},
   "outputs": [],
   "source": [
    "# Categorizes car exterior colors into broader color groups based on keywords in the color name\n",
    "# Example of Feature Engineering\n",
    "\n",
    "def categorize_color(color):\n",
    "    if 'black' in color or 'caviar'in color or 'obsidian' in color or 'midnight' in color:\n",
    "        return 'Black Shades'\n",
    "    elif 'gray' in color or 'grey' in color or 'silver' in color or 'metallic' in color or 'platinum' in color or 'metal' in color or 'graphite' in color or 'magnetic' in color:\n",
    "        return 'Grey Shades'\n",
    "    elif 'red' in color or 'burgundy' in color or 'scarlet ember' in color or 'rosso corsa' in color:\n",
    "        return 'Red Shades'\n",
    "    elif 'green' in color:\n",
    "        return 'Green Shades'\n",
    "    elif 'blue' in color or 'sky' in color or 'sea' in color or 'blu' in color:\n",
    "        return 'Blue Shades'\n",
    "    elif 'green' in color or 'verde' in color:\n",
    "        return 'Green Shades'\n",
    "    elif 'white' in color or 'pearl' in color or 'wht' in color or 'snow' in color or 'ice' in color or 'bianco' in color or 'fresh powder' in color:\n",
    "        return 'White Shades'    \n",
    "    elif 'gold' in color or 'orange' in color or 'yellow' in color or 'brown' in color or 'beige' in color or 'tan' in color or 'copper' in color:\n",
    "        return 'Gold/ Brown and Orange Shades'\n",
    "    else:\n",
    "        return 'Others'\n",
    "\n",
    "# Apply the categorization function\n",
    "df['exterior_color'] = df['exterior_color'].apply(categorize_color) # Applies the 'categorize_color' function to group exterior colors into categories"
   ]
  },
  {
   "cell_type": "code",
   "execution_count": 54,
   "id": "cafea565-cd37-4719-bcad-c2b50df3d8d4",
   "metadata": {},
   "outputs": [
    {
     "data": {
      "text/plain": [
       "exterior_color\n",
       "Grey Shades                      3357\n",
       "Black Shades                     2154\n",
       "White Shades                     1793\n",
       "Blue Shades                       489\n",
       "Red Shades                        462\n",
       "Others                            330\n",
       "Gold/ Brown and Orange Shades     107\n",
       "Green Shades                       95\n",
       "Name: count, dtype: int64"
      ]
     },
     "execution_count": 54,
     "metadata": {},
     "output_type": "execute_result"
    }
   ],
   "source": [
    "df['exterior_color'].value_counts() ## Counts how many cars fall into each exterior color category after grouping"
   ]
  },
  {
   "cell_type": "markdown",
   "id": "2a850f90-5e43-4692-9555-7063ee0bc347",
   "metadata": {},
   "source": [
    "### interior_color"
   ]
  },
  {
   "cell_type": "code",
   "execution_count": 55,
   "id": "ce6d6081-52f9-42e8-ae8b-f7c25ced7e5f",
   "metadata": {},
   "outputs": [
    {
     "data": {
      "text/plain": [
       "interior_color\n",
       "Black                            3310\n",
       "Gray                              603\n",
       "Jet Black                         488\n",
       "–                                 452\n",
       "Ebony                             403\n",
       "                                 ... \n",
       "Jet Black/Gray w/Blue Accents       1\n",
       "Black/Graphite                      1\n",
       "Nero w/ Yellow Stitch               1\n",
       "Rustic Cedar                        1\n",
       "Rd                                  1\n",
       "Name: count, Length: 610, dtype: int64"
      ]
     },
     "execution_count": 55,
     "metadata": {},
     "output_type": "execute_result"
    }
   ],
   "source": [
    "df['interior_color'].value_counts() # Counts how many times each unique interior color appears in the 'interior_color' column"
   ]
  },
  {
   "cell_type": "code",
   "execution_count": 56,
   "id": "3708e39f-c677-4fa6-9797-a8eaed4357f6",
   "metadata": {},
   "outputs": [],
   "source": [
    "df['interior_color'] = df['interior_color'].str.strip().str.lower().str.replace(r'\\s+', ' ', regex=True) # Cleans 'interior_color' by removing extra spaces, converting to lowercase "
   ]
  },
  {
   "cell_type": "code",
   "execution_count": 57,
   "id": "fa50214a-d003-41e5-81d7-4f552cba1806",
   "metadata": {},
   "outputs": [],
   "source": [
    "# Feature Engineering\n",
    "\n",
    "def categorize_color(color): # Defines a function to group color names into color categories based on keywords\n",
    "    color = str(color).lower().strip() # Converts input to lowercase string and removes extra spaces\n",
    "    \n",
    "    if (any(keyword in color for keyword in [\n",
    "        'black', 'jet', 'ebony', 'charcoal', 'carbon', 'obsidian', 'nero', \n",
    "        'onyx', 'noir', 'titan', 'midnight', 'blk', 'anthracite', 'space',\n",
    "        'dark', 'shadow', 'ink', 'raven', 'phantom', 'storm', 'graphite black',\n",
    "        'monolith', 'vantablack', 'pitch', 'sport', 'prem', 'bucket'  \n",
    "    ]) or 'black' in color):\n",
    "        return 'Black Shades'\n",
    "    \n",
    "    elif (any(keyword in color for keyword in [\n",
    "        'gray', 'grey', 'silver', 'graphite', 'slate', 'stone', 'ash',\n",
    "        'pewter', 'flint', 'steel', 'aluminum', 'platinum', 'mistral',\n",
    "        'neva', 'lunar', 'chromite', 'galvanized', 'satin', 'alpine',\n",
    "        'metal', 'iron', 'nickel', 'zinc', 'concrete', 'fossil', 'hoarfrost',\n",
    "        'diesel', 'titanium', 'quartz', 'smoke', 'cement'\n",
    "    ]) or 'gray' in color or 'grey' in color):\n",
    "        return 'Grey and Silver Shades'\n",
    "    \n",
    "    elif (any(keyword in color for keyword in [\n",
    "        'brown', 'beige', 'tan', 'espresso', 'cocoa', 'sand', 'camel',\n",
    "        'coffee', 'blond', 'mocha', 'desert', 'cognac', 'parchment',\n",
    "        'auburn', 'java', 'wheat', 'cappuccino', 'saddle', 'truffle',\n",
    "        'sepia', 'kona', 'caramel', 'macadamia', 'dune', 'pecan', 'shale',\n",
    "        'taupe', 'biscuit', 'almond', 'bronze', 'clay', 'ginger', 'hazel',\n",
    "        'khaki', 'linen', 'mushroom', 'nutmeg', 'ochre', 'pueblo', 'sisal',\n",
    "        'terracotta', 'umber', 'wicker', 'acorn', 'burlap', 'chateau', 'cashmere',\n",
    "        'leather', 'nappa' \n",
    "    ]) or 'brown' in color or 'beige' in color or 'tan' in color):\n",
    "        return 'Brown and Beige Shades'\n",
    "    \n",
    "    elif (any(keyword in color for keyword in [\n",
    "        'white', 'cream', 'ivory', 'snow', 'alabaster', 'porcelain',\n",
    "        'frost', 'oyster', 'chalk', 'pearl', 'bone', 'eggshell', 'cotton',\n",
    "        'diamond', 'lily', 'milk', 'vanilla', 'whisper', 'cirrus', 'cloud',\n",
    "        'moonstone', 'seashell', 'ultra white', 'crystal white', 'designo' \n",
    "    ]) or 'white' in color or 'ivory' in color):\n",
    "        return 'White Shades'\n",
    "    \n",
    "    elif (any(keyword in color for keyword in [\n",
    "        'red', 'burgundy', 'maroon', 'crimson', 'rosso', 'scarlet',\n",
    "        'magma', 'rioja', 'ruby', 'bordeaux', 'vermillion', 'cranberry',\n",
    "        'sakhir', 'circuit', 'tacora', 'arras', 'cherry', 'currant',\n",
    "        'garnet', 'rosewood', 'rust', 'wine', 'amaranth', 'cardinal',\n",
    "        'fiona', 'carmine', 'demonic', 'victory', 'adrenaline', 'express'\n",
    "    ]) or 'red' in color):\n",
    "        return 'Red Shades'\n",
    "    \n",
    "    elif (any(keyword in color for keyword in [\n",
    "        'blue', 'navy', 'denim', 'indigo', 'santorini', 'sterling',\n",
    "        'aqua', 'teal', 'cobalt', 'sapphire', 'admiral', 'marine',\n",
    "        'arctic', 'azure', 'cerulean', 'cornflower', 'duck', 'egyptian',\n",
    "        'federal', 'glaucous', 'mazarine', 'pacific', 'royal', 'spruce',\n",
    "        'interlagos', 'blu sterling'\n",
    "    ]) or 'blue' in color or 'navy' in color):\n",
    "        return 'Blue Shades'\n",
    "    \n",
    "    elif (any(keyword in color for keyword in [\n",
    "        'green', 'olive', 'forest', 'moss', 'hunter', 'emerald', 'sage',\n",
    "        'juniper', 'cypress', 'khaki', 'army', 'pine', 'artichoke',\n",
    "        'avocado', 'celadon', 'fern', 'jade', 'kelly', 'lime', 'mint',\n",
    "        'peacock', 'pistachio', 'sea', 'shamrock', 'viridian', 'bamboo'\n",
    "    ]) or 'green' in color or 'olive' in color):\n",
    "        return 'Green Shades'\n",
    "    \n",
    "    elif (any(keyword in color for keyword in [\n",
    "        'orange', 'yellow', 'amber', 'gold', 'saffron', 'honey', 'mustard',\n",
    "        'sakhir', 'arancio', 'tangerine', 'marigold', 'apricot', 'blaze',\n",
    "        'buttercup', 'citrine', 'daffodil', 'flaxen', 'gamboge', 'lemon',\n",
    "        'maize', 'nugget', 'pumpkin', 'sandy', 'sunflower', 'ochre', 'topaz'\n",
    "    ]) or 'orange' in color or 'yellow' in color):\n",
    "        return 'Orange/Yellow Shades'\n",
    "    \n",
    "    else:\n",
    "        return 'Others' # Returns 'Others' if the color does not match any group above\n",
    "        \n",
    "df['interior_color'] = df['interior_color'].apply(categorize_color) # Applies the 'categorize_color' function to group interior colors into categories"
   ]
  },
  {
   "cell_type": "code",
   "execution_count": 58,
   "id": "e019da27-90f0-45a9-8002-e3b5ef8d972d",
   "metadata": {},
   "outputs": [
    {
     "data": {
      "text/plain": [
       "interior_color\n",
       "Black Shades              5995\n",
       "Grey and Silver Shades    1079\n",
       "Brown and Beige Shades     743\n",
       "Others                     651\n",
       "Red Shades                 135\n",
       "White Shades                97\n",
       "Blue Shades                 55\n",
       "Green Shades                17\n",
       "Orange/Yellow Shades        15\n",
       "Name: count, dtype: int64"
      ]
     },
     "execution_count": 58,
     "metadata": {},
     "output_type": "execute_result"
    }
   ],
   "source": [
    "df['interior_color'].value_counts() # Counts how many cars fall into each interior color category after grouping"
   ]
  },
  {
   "cell_type": "markdown",
   "id": "c8e65633-1673-4027-876b-fd4c72496203",
   "metadata": {},
   "source": [
    "### vehicle_history_info"
   ]
  },
  {
   "cell_type": "code",
   "execution_count": 59,
   "id": "2edfba3f-bc13-491a-a36e-e4a3cb2f895a",
   "metadata": {},
   "outputs": [
    {
     "data": {
      "text/plain": [
       "array(['{}',\n",
       "       \"{'Accidents or damage': 'At least 1 accident or damage reported', '1-owner vehicle': 'Yes', 'Personal use only': 'Yes'}\",\n",
       "       \"{'Accidents or damage': 'At least 1 accident or damage reported', '1-owner vehicle': 'No', 'Personal use only': 'No'}\",\n",
       "       \"{'Accidents or damage': 'At least 1 accident or damage reported', 'Clean title': 'Yes', '1-owner vehicle': 'No', 'Personal use only': 'Yes'}\",\n",
       "       \"{'Accidents or damage': 'None reported', 'Clean title': 'Yes', '1-owner vehicle': 'Yes', 'Personal use only': 'No'}\",\n",
       "       \"{'Accidents or damage': 'At least 1 accident or damage reported', 'Clean title': 'Yes', '1-owner vehicle': 'No', 'Personal use only': 'No'}\",\n",
       "       \"{'Accidents or damage': 'None reported', '1-owner vehicle': 'No', 'Personal use only': 'Yes'}\",\n",
       "       \"{'Accidents or damage': 'None reported', 'Clean title': 'No', '1-owner vehicle': 'No', 'Personal use only': 'No'}\",\n",
       "       \"{'Accidents or damage': 'At least 1 accident or damage reported', '1-owner vehicle': 'No', 'Personal use only': 'Yes'}\",\n",
       "       \"{'Accidents or damage': 'None reported', '1-owner vehicle': 'Yes', 'Personal use only': 'Yes'}\",\n",
       "       \"{'Accidents or damage': 'None reported', 'Clean title': 'Yes', '1-owner vehicle': 'No', 'Personal use only': 'Yes'}\",\n",
       "       \"{'Accidents or damage': 'At least 1 accident or damage reported', '1-owner vehicle': 'No', 'Personal use only': 'Yes', 'Open recall': 'At least 1 open recall reported'}\",\n",
       "       \"{'Accidents or damage': 'None reported', '1-owner vehicle': 'No', 'Personal use only': 'No'}\",\n",
       "       \"{'Accidents or damage': 'None reported', 'Clean title': 'Yes', '1-owner vehicle': 'No', 'Personal use only': 'Yes', 'Open recall': 'At least 1 open recall reported'}\",\n",
       "       \"{'Accidents or damage': 'At least 1 accident or damage reported', 'Clean title': 'Yes', '1-owner vehicle': 'Yes', 'Personal use only': 'Yes'}\",\n",
       "       \"{'Accidents or damage': 'At least 1 accident or damage reported', '1-owner vehicle': 'Yes', 'Personal use only': 'No'}\",\n",
       "       \"{'Accidents or damage': 'None reported', 'Clean title': 'Yes', '1-owner vehicle': 'Yes', 'Personal use only': 'Yes'}\",\n",
       "       \"{'Accidents or damage': 'None reported', '1-owner vehicle': 'Yes', 'Personal use only': 'Yes', 'Open recall': 'At least 1 open recall reported'}\",\n",
       "       \"{'Accidents or damage': 'None reported', '1-owner vehicle': 'No', 'Personal use only': 'Yes', 'Open recall': 'At least 1 open recall reported'}\",\n",
       "       \"{'Accidents or damage': 'None reported', '1-owner vehicle': 'No', 'Personal use only': 'No', 'Open recall': 'At least 1 open recall reported'}\",\n",
       "       \"{'Accidents or damage': 'None reported', '1-owner vehicle': 'Yes', 'Personal use only': 'No'}\",\n",
       "       \"{'Accidents or damage': 'None reported', 'Clean title': 'Yes', '1-owner vehicle': 'No', 'Personal use only': 'No'}\",\n",
       "       \"{'Accidents or damage': 'At least 1 accident or damage reported', 'Clean title': 'Yes', '1-owner vehicle': 'Yes', 'Personal use only': 'No'}\",\n",
       "       \"{'Accidents or damage': 'At least 1 accident or damage reported', '1-owner vehicle': 'Yes', 'Personal use only': 'Yes', 'Open recall': 'At least 1 open recall reported'}\",\n",
       "       \"{'Accidents or damage': 'None reported', 'Clean title': 'Yes', '1-owner vehicle': 'Yes', 'Personal use only': 'Yes', 'Open recall': 'At least 1 open recall reported'}\",\n",
       "       \"{'Accidents or damage': 'At least 1 accident or damage reported', '1-owner vehicle': 'No', 'Personal use only': 'No', 'Open recall': 'At least 1 open recall reported'}\",\n",
       "       \"{'Accidents or damage': 'At least 1 accident or damage reported', 'Clean title': 'Yes', '1-owner vehicle': 'Yes', 'Personal use only': 'No', 'Open recall': 'At least 1 open recall reported'}\",\n",
       "       \"{'Accidents or damage': 'None reported', 'Clean title': 'Yes', '1-owner vehicle': 'No', 'Personal use only': 'No', 'Open recall': 'At least 1 open recall reported'}\",\n",
       "       \"{'Accidents or damage': 'At least 1 accident or damage reported', 'Clean title': 'Yes', '1-owner vehicle': 'No', 'Personal use only': 'No', 'Open recall': 'At least 1 open recall reported'}\",\n",
       "       \"{'Accidents or damage': 'At least 1 accident or damage reported', 'Clean title': 'Yes', '1-owner vehicle': 'Yes', 'Personal use only': 'Yes', 'Open recall': 'At least 1 open recall reported'}\",\n",
       "       \"{'Accidents or damage': 'None reported', '1-owner vehicle': 'Yes', 'Personal use only': 'No', 'Open recall': 'At least 1 open recall reported'}\",\n",
       "       \"{'Accidents or damage': 'None reported', 'Clean title': 'Yes', 'Personal use only': 'Yes'}\",\n",
       "       \"{'Accidents or damage': 'At least 1 accident or damage reported', 'Clean title': 'Yes', '1-owner vehicle': 'No', 'Personal use only': 'Yes', 'Open recall': 'At least 1 open recall reported'}\",\n",
       "       \"{'Accidents or damage': 'None reported', 'Clean title': 'Yes', '1-owner vehicle': 'Yes', 'Personal use only': 'No', 'Open recall': 'At least 1 open recall reported'}\",\n",
       "       \"{'Accidents or damage': 'At least 1 accident or damage reported', '1-owner vehicle': 'Yes', 'Personal use only': 'No', 'Open recall': 'At least 1 open recall reported'}\",\n",
       "       \"{'Accidents or damage': 'None reported', 'Clean title': 'No', '1-owner vehicle': 'Yes', 'Personal use only': 'No'}\",\n",
       "       \"{'Accidents or damage': 'At least 1 accident or damage reported', 'Clean title': 'Yes', 'Personal use only': 'Yes'}\"],\n",
       "      dtype=object)"
      ]
     },
     "execution_count": 59,
     "metadata": {},
     "output_type": "execute_result"
    }
   ],
   "source": [
    "df[\"vehicle_history_info\"].unique() # Shows all unique values in the 'vehicle_history_info' column"
   ]
  },
  {
   "cell_type": "code",
   "execution_count": 60,
   "id": "66cfa3b2-45c9-486a-942b-6e8d8f0c6316",
   "metadata": {},
   "outputs": [],
   "source": [
    "# Example of Feature Engineering\n",
    "\n",
    "# Convert the string dictionaries into actual dictionaries\n",
    "df[\"vehicle_history_info\"] = df[\"vehicle_history_info\"].apply(eval)\n",
    "\n",
    "df[\"accidents_or_damage\"] = df[\"vehicle_history_info\"].apply(lambda x: x.get(\"Accidents or damage\", \"Unknown\")) # Extracts 'Accidents or damage' info; defaults to 'Unknown' if missing\n",
    "df[\"1_owner_vehicle\"] = df[\"vehicle_history_info\"].apply(lambda x: x.get(\"1-owner vehicle\", \"Unknown\")) # Extracts '1-owner vehicle' info; defaults to 'Unknown' if missing"
   ]
  },
  {
   "cell_type": "markdown",
   "id": "b8d3bbbb-24bb-40b4-8854-7e33cbec844d",
   "metadata": {},
   "source": [
    "### accidents_or_damage & 1_owner_vehicle"
   ]
  },
  {
   "cell_type": "code",
   "execution_count": 61,
   "id": "20f6a5ac-be57-498e-b16b-f97ad4409379",
   "metadata": {},
   "outputs": [
    {
     "data": {
      "text/plain": [
       "accidents_or_damage\n",
       "None reported                             3548\n",
       "Unknown                                   3504\n",
       "At least 1 accident or damage reported    1735\n",
       "Name: count, dtype: int64"
      ]
     },
     "execution_count": 61,
     "metadata": {},
     "output_type": "execute_result"
    }
   ],
   "source": [
    "df['accidents_or_damage'].value_counts() # Counts how many times each unique value appears in the 'accidents_or_damage' column"
   ]
  },
  {
   "cell_type": "code",
   "execution_count": 62,
   "id": "ca5f751c-a16f-4c3f-ac42-967aae829206",
   "metadata": {},
   "outputs": [],
   "source": [
    "# Used to rename the names of each category\n",
    "accident_mapping = {\n",
    "    'Unknown': 'No info',\n",
    "    'None reported': 'No accidents/damage',\n",
    "    'At least 1 accident or damage reported': 'had accident/damage'\n",
    "}\n",
    "\n",
    "df['accidents_or_damage'] = df['accidents_or_damage'].map(accident_mapping) # Renames the categories in 'accidents_or_damage' to make them shorter and more readable"
   ]
  },
  {
   "cell_type": "code",
   "execution_count": 63,
   "id": "7005e8a7-1e42-41a4-83f5-345d24f35610",
   "metadata": {},
   "outputs": [
    {
     "data": {
      "text/plain": [
       "accidents_or_damage\n",
       "No accidents/damage    3548\n",
       "No info                3504\n",
       "had accident/damage    1735\n",
       "Name: count, dtype: int64"
      ]
     },
     "execution_count": 63,
     "metadata": {},
     "output_type": "execute_result"
    }
   ],
   "source": [
    "df['accidents_or_damage'].value_counts() # Counts the number of vehicles in each accident/damage category after renaming"
   ]
  },
  {
   "cell_type": "code",
   "execution_count": 64,
   "id": "1e886447-10d2-4ea2-a16f-fd48e476429b",
   "metadata": {},
   "outputs": [
    {
     "data": {
      "text/plain": [
       "1_owner_vehicle\n",
       "Unknown    3529\n",
       "Yes        2658\n",
       "No         2600\n",
       "Name: count, dtype: int64"
      ]
     },
     "execution_count": 64,
     "metadata": {},
     "output_type": "execute_result"
    }
   ],
   "source": [
    "df['1_owner_vehicle'].value_counts() # Counts how many vehicles fall under each '1_owner_vehicle' category"
   ]
  },
  {
   "cell_type": "code",
   "execution_count": 65,
   "id": "c19aec52-3cf9-4d0f-a09b-6f1f045b7f2f",
   "metadata": {},
   "outputs": [],
   "source": [
    "# Used to rename the names of each category\n",
    "\n",
    "owner_mapping = {\n",
    "    'Unknown': 'No info',\n",
    "    'Yes': 'First owner',\n",
    "    'No': 'Multiple owners'\n",
    "}\n",
    "\n",
    "df['1_owner_vehicle'] = df['1_owner_vehicle'].map(owner_mapping) # Renames the categories in 'accidents_or_damage' to make them shorter and more readable"
   ]
  },
  {
   "cell_type": "code",
   "execution_count": 66,
   "id": "a575a8b4-d809-4c17-abf8-75a5395434b7",
   "metadata": {},
   "outputs": [
    {
     "data": {
      "text/plain": [
       "1_owner_vehicle\n",
       "No info            3529\n",
       "First owner        2658\n",
       "Multiple owners    2600\n",
       "Name: count, dtype: int64"
      ]
     },
     "execution_count": 66,
     "metadata": {},
     "output_type": "execute_result"
    }
   ],
   "source": [
    "df['1_owner_vehicle'].value_counts() # Counts how many vehicles fall under each '1_owner_vehicle' category"
   ]
  },
  {
   "cell_type": "code",
   "execution_count": 67,
   "id": "b91ef4f7-c1a8-42b3-9473-bef4a42d0714",
   "metadata": {},
   "outputs": [
    {
     "data": {
      "text/html": [
       "<div>\n",
       "<style scoped>\n",
       "    .dataframe tbody tr th:only-of-type {\n",
       "        vertical-align: middle;\n",
       "    }\n",
       "\n",
       "    .dataframe tbody tr th {\n",
       "        vertical-align: top;\n",
       "    }\n",
       "\n",
       "    .dataframe thead th {\n",
       "        text-align: right;\n",
       "    }\n",
       "</style>\n",
       "<table border=\"1\" class=\"dataframe\">\n",
       "  <thead>\n",
       "    <tr style=\"text-align: right;\">\n",
       "      <th></th>\n",
       "      <th>car</th>\n",
       "      <th>condition</th>\n",
       "      <th>mileage_mi</th>\n",
       "      <th>price</th>\n",
       "      <th>basics_info</th>\n",
       "      <th>vehicle_history_info</th>\n",
       "      <th>state</th>\n",
       "      <th>model_year</th>\n",
       "      <th>car_age</th>\n",
       "      <th>manufacturer</th>\n",
       "      <th>fuel_type</th>\n",
       "      <th>drivetrain</th>\n",
       "      <th>transmission</th>\n",
       "      <th>exterior_color</th>\n",
       "      <th>interior_color</th>\n",
       "      <th>accidents_or_damage</th>\n",
       "      <th>1_owner_vehicle</th>\n",
       "    </tr>\n",
       "  </thead>\n",
       "  <tbody>\n",
       "    <tr>\n",
       "      <th>0</th>\n",
       "      <td>2024 Lexus LC 500 Base</td>\n",
       "      <td>New</td>\n",
       "      <td>0</td>\n",
       "      <td>112865</td>\n",
       "      <td>{'Exterior color': ' Caviar ', 'Interior color...</td>\n",
       "      <td>{}</td>\n",
       "      <td>Illinois</td>\n",
       "      <td>2024</td>\n",
       "      <td>1</td>\n",
       "      <td>Lexus</td>\n",
       "      <td>Gasoline</td>\n",
       "      <td>Rear-wheel Drive</td>\n",
       "      <td>Fully Automatic</td>\n",
       "      <td>Black Shades</td>\n",
       "      <td>Black Shades</td>\n",
       "      <td>No info</td>\n",
       "      <td>No info</td>\n",
       "    </tr>\n",
       "    <tr>\n",
       "      <th>25</th>\n",
       "      <td>2023 Lexus LC 500 Base</td>\n",
       "      <td>New</td>\n",
       "      <td>0</td>\n",
       "      <td>106615</td>\n",
       "      <td>{'Exterior color': ' Caviar ', 'Interior color...</td>\n",
       "      <td>{}</td>\n",
       "      <td>Illinois</td>\n",
       "      <td>2023</td>\n",
       "      <td>2</td>\n",
       "      <td>Lexus</td>\n",
       "      <td>Gasoline</td>\n",
       "      <td>Rear-wheel Drive</td>\n",
       "      <td>Fully Automatic</td>\n",
       "      <td>Black Shades</td>\n",
       "      <td>Red Shades</td>\n",
       "      <td>No info</td>\n",
       "      <td>No info</td>\n",
       "    </tr>\n",
       "    <tr>\n",
       "      <th>35</th>\n",
       "      <td>2024 Mercedes-Benz AMG EQS Base</td>\n",
       "      <td>New</td>\n",
       "      <td>6</td>\n",
       "      <td>152800</td>\n",
       "      <td>{'Exterior color': ' Moonlight White ', 'Inter...</td>\n",
       "      <td>{}</td>\n",
       "      <td>Illinois</td>\n",
       "      <td>2024</td>\n",
       "      <td>1</td>\n",
       "      <td>Mercedes-Benz</td>\n",
       "      <td>NaN</td>\n",
       "      <td>All-wheel Drive</td>\n",
       "      <td>Single-Speed or Direct Drive</td>\n",
       "      <td>White Shades</td>\n",
       "      <td>Black Shades</td>\n",
       "      <td>No info</td>\n",
       "      <td>No info</td>\n",
       "    </tr>\n",
       "    <tr>\n",
       "      <th>75</th>\n",
       "      <td>2024 Lexus LC 500 Base</td>\n",
       "      <td>New</td>\n",
       "      <td>0</td>\n",
       "      <td>115425</td>\n",
       "      <td>{'Exterior color': ' Infrared ', 'Interior col...</td>\n",
       "      <td>{}</td>\n",
       "      <td>Illinois</td>\n",
       "      <td>2024</td>\n",
       "      <td>1</td>\n",
       "      <td>Lexus</td>\n",
       "      <td>Gasoline</td>\n",
       "      <td>Rear-wheel Drive</td>\n",
       "      <td>Fully Automatic</td>\n",
       "      <td>Red Shades</td>\n",
       "      <td>Black Shades</td>\n",
       "      <td>No info</td>\n",
       "      <td>No info</td>\n",
       "    </tr>\n",
       "    <tr>\n",
       "      <th>90</th>\n",
       "      <td>2023 Genesis G90 3.5T e-SC AWD</td>\n",
       "      <td>New</td>\n",
       "      <td>5</td>\n",
       "      <td>89485</td>\n",
       "      <td>{'Exterior color': ' Makalu Gray Matte ', 'Int...</td>\n",
       "      <td>{}</td>\n",
       "      <td>Illinois</td>\n",
       "      <td>2023</td>\n",
       "      <td>2</td>\n",
       "      <td>Genesis</td>\n",
       "      <td>Gasoline</td>\n",
       "      <td>All-wheel Drive</td>\n",
       "      <td>Fully Automatic</td>\n",
       "      <td>Grey Shades</td>\n",
       "      <td>Brown and Beige Shades</td>\n",
       "      <td>No info</td>\n",
       "      <td>No info</td>\n",
       "    </tr>\n",
       "    <tr>\n",
       "      <th>...</th>\n",
       "      <td>...</td>\n",
       "      <td>...</td>\n",
       "      <td>...</td>\n",
       "      <td>...</td>\n",
       "      <td>...</td>\n",
       "      <td>...</td>\n",
       "      <td>...</td>\n",
       "      <td>...</td>\n",
       "      <td>...</td>\n",
       "      <td>...</td>\n",
       "      <td>...</td>\n",
       "      <td>...</td>\n",
       "      <td>...</td>\n",
       "      <td>...</td>\n",
       "      <td>...</td>\n",
       "      <td>...</td>\n",
       "      <td>...</td>\n",
       "    </tr>\n",
       "    <tr>\n",
       "      <th>9235</th>\n",
       "      <td>2023 Jeep Gladiator Sport S</td>\n",
       "      <td>New</td>\n",
       "      <td>5</td>\n",
       "      <td>42995</td>\n",
       "      <td>{'Exterior color': ' Granite Crystal Metallic ...</td>\n",
       "      <td>{}</td>\n",
       "      <td>Illinois</td>\n",
       "      <td>2023</td>\n",
       "      <td>2</td>\n",
       "      <td>Jeep</td>\n",
       "      <td>Diesel</td>\n",
       "      <td>Four-wheel Drive</td>\n",
       "      <td>Fully Automatic</td>\n",
       "      <td>Grey Shades</td>\n",
       "      <td>Black Shades</td>\n",
       "      <td>No info</td>\n",
       "      <td>No info</td>\n",
       "    </tr>\n",
       "    <tr>\n",
       "      <th>9236</th>\n",
       "      <td>2024 Subaru Forester Premium</td>\n",
       "      <td>New</td>\n",
       "      <td>6</td>\n",
       "      <td>33989</td>\n",
       "      <td>{'Exterior color': ' Autumn Green Metallic ', ...</td>\n",
       "      <td>{}</td>\n",
       "      <td>Illinois</td>\n",
       "      <td>2024</td>\n",
       "      <td>1</td>\n",
       "      <td>Subaru</td>\n",
       "      <td>Gasoline</td>\n",
       "      <td>All-wheel Drive</td>\n",
       "      <td>Fully Automatic</td>\n",
       "      <td>Grey Shades</td>\n",
       "      <td>Black Shades</td>\n",
       "      <td>No info</td>\n",
       "      <td>No info</td>\n",
       "    </tr>\n",
       "    <tr>\n",
       "      <th>9240</th>\n",
       "      <td>2024 Jeep Grand Cherokee L Limited</td>\n",
       "      <td>New</td>\n",
       "      <td>10</td>\n",
       "      <td>52301</td>\n",
       "      <td>{'Exterior color': ' Bright White Clearcoat ',...</td>\n",
       "      <td>{}</td>\n",
       "      <td>Illinois</td>\n",
       "      <td>2024</td>\n",
       "      <td>1</td>\n",
       "      <td>Jeep</td>\n",
       "      <td>Gasoline</td>\n",
       "      <td>Four-wheel Drive</td>\n",
       "      <td>Fully Automatic</td>\n",
       "      <td>White Shades</td>\n",
       "      <td>Black Shades</td>\n",
       "      <td>No info</td>\n",
       "      <td>No info</td>\n",
       "    </tr>\n",
       "    <tr>\n",
       "      <th>9243</th>\n",
       "      <td>2024 GMC Sierra 1500 Pro</td>\n",
       "      <td>New</td>\n",
       "      <td>3</td>\n",
       "      <td>51080</td>\n",
       "      <td>{'Exterior color': ' Summit White ', 'Interior...</td>\n",
       "      <td>{}</td>\n",
       "      <td>Illinois</td>\n",
       "      <td>2024</td>\n",
       "      <td>1</td>\n",
       "      <td>GMC</td>\n",
       "      <td>Gasoline</td>\n",
       "      <td>Four-wheel Drive</td>\n",
       "      <td>Fully Automatic</td>\n",
       "      <td>White Shades</td>\n",
       "      <td>Black Shades</td>\n",
       "      <td>No info</td>\n",
       "      <td>No info</td>\n",
       "    </tr>\n",
       "    <tr>\n",
       "      <th>9245</th>\n",
       "      <td>2024 Subaru Outback Touring XT</td>\n",
       "      <td>New</td>\n",
       "      <td>4</td>\n",
       "      <td>42014</td>\n",
       "      <td>{'Exterior color': ' Magnetite Gray Metallic '...</td>\n",
       "      <td>{}</td>\n",
       "      <td>Illinois</td>\n",
       "      <td>2024</td>\n",
       "      <td>1</td>\n",
       "      <td>Subaru</td>\n",
       "      <td>Gasoline</td>\n",
       "      <td>All-wheel Drive</td>\n",
       "      <td>Fully Automatic</td>\n",
       "      <td>Grey Shades</td>\n",
       "      <td>Black Shades</td>\n",
       "      <td>No info</td>\n",
       "      <td>No info</td>\n",
       "    </tr>\n",
       "  </tbody>\n",
       "</table>\n",
       "<p>3250 rows × 17 columns</p>\n",
       "</div>"
      ],
      "text/plain": [
       "                                     car condition  mileage_mi   price  \\\n",
       "0                 2024 Lexus LC 500 Base       New           0  112865   \n",
       "25                2023 Lexus LC 500 Base       New           0  106615   \n",
       "35       2024 Mercedes-Benz AMG EQS Base       New           6  152800   \n",
       "75                2024 Lexus LC 500 Base       New           0  115425   \n",
       "90        2023 Genesis G90 3.5T e-SC AWD       New           5   89485   \n",
       "...                                  ...       ...         ...     ...   \n",
       "9235         2023 Jeep Gladiator Sport S       New           5   42995   \n",
       "9236        2024 Subaru Forester Premium       New           6   33989   \n",
       "9240  2024 Jeep Grand Cherokee L Limited       New          10   52301   \n",
       "9243            2024 GMC Sierra 1500 Pro       New           3   51080   \n",
       "9245      2024 Subaru Outback Touring XT       New           4   42014   \n",
       "\n",
       "                                            basics_info vehicle_history_info  \\\n",
       "0     {'Exterior color': ' Caviar ', 'Interior color...                   {}   \n",
       "25    {'Exterior color': ' Caviar ', 'Interior color...                   {}   \n",
       "35    {'Exterior color': ' Moonlight White ', 'Inter...                   {}   \n",
       "75    {'Exterior color': ' Infrared ', 'Interior col...                   {}   \n",
       "90    {'Exterior color': ' Makalu Gray Matte ', 'Int...                   {}   \n",
       "...                                                 ...                  ...   \n",
       "9235  {'Exterior color': ' Granite Crystal Metallic ...                   {}   \n",
       "9236  {'Exterior color': ' Autumn Green Metallic ', ...                   {}   \n",
       "9240  {'Exterior color': ' Bright White Clearcoat ',...                   {}   \n",
       "9243  {'Exterior color': ' Summit White ', 'Interior...                   {}   \n",
       "9245  {'Exterior color': ' Magnetite Gray Metallic '...                   {}   \n",
       "\n",
       "         state  model_year  car_age   manufacturer fuel_type  \\\n",
       "0     Illinois        2024        1          Lexus  Gasoline   \n",
       "25    Illinois        2023        2          Lexus  Gasoline   \n",
       "35    Illinois        2024        1  Mercedes-Benz       NaN   \n",
       "75    Illinois        2024        1          Lexus  Gasoline   \n",
       "90    Illinois        2023        2        Genesis  Gasoline   \n",
       "...        ...         ...      ...            ...       ...   \n",
       "9235  Illinois        2023        2           Jeep    Diesel   \n",
       "9236  Illinois        2024        1         Subaru  Gasoline   \n",
       "9240  Illinois        2024        1           Jeep  Gasoline   \n",
       "9243  Illinois        2024        1            GMC  Gasoline   \n",
       "9245  Illinois        2024        1         Subaru  Gasoline   \n",
       "\n",
       "            drivetrain                  transmission exterior_color  \\\n",
       "0     Rear-wheel Drive               Fully Automatic   Black Shades   \n",
       "25    Rear-wheel Drive               Fully Automatic   Black Shades   \n",
       "35     All-wheel Drive  Single-Speed or Direct Drive   White Shades   \n",
       "75    Rear-wheel Drive               Fully Automatic     Red Shades   \n",
       "90     All-wheel Drive               Fully Automatic    Grey Shades   \n",
       "...                ...                           ...            ...   \n",
       "9235  Four-wheel Drive               Fully Automatic    Grey Shades   \n",
       "9236   All-wheel Drive               Fully Automatic    Grey Shades   \n",
       "9240  Four-wheel Drive               Fully Automatic   White Shades   \n",
       "9243  Four-wheel Drive               Fully Automatic   White Shades   \n",
       "9245   All-wheel Drive               Fully Automatic    Grey Shades   \n",
       "\n",
       "              interior_color accidents_or_damage 1_owner_vehicle  \n",
       "0               Black Shades             No info         No info  \n",
       "25                Red Shades             No info         No info  \n",
       "35              Black Shades             No info         No info  \n",
       "75              Black Shades             No info         No info  \n",
       "90    Brown and Beige Shades             No info         No info  \n",
       "...                      ...                 ...             ...  \n",
       "9235            Black Shades             No info         No info  \n",
       "9236            Black Shades             No info         No info  \n",
       "9240            Black Shades             No info         No info  \n",
       "9243            Black Shades             No info         No info  \n",
       "9245            Black Shades             No info         No info  \n",
       "\n",
       "[3250 rows x 17 columns]"
      ]
     },
     "execution_count": 67,
     "metadata": {},
     "output_type": "execute_result"
    }
   ],
   "source": [
    "df[(df['accidents_or_damage'] == 'No info') & (df['mileage_mi'] < 200) & (df['condition'] == 'New')] # Filters the DataFrame for new cars with mileage < 200 and no accident/damage info"
   ]
  },
  {
   "cell_type": "code",
   "execution_count": 68,
   "id": "0dd0c9d1-5de1-4cee-af57-7ef502af4ba4",
   "metadata": {},
   "outputs": [
    {
     "data": {
      "text/plain": [
       "accidents_or_damage\n",
       "No accidents/damage    6798\n",
       "had accident/damage    1735\n",
       "No info                 254\n",
       "Name: count, dtype: int64"
      ]
     },
     "execution_count": 68,
     "metadata": {},
     "output_type": "execute_result"
    }
   ],
   "source": [
    "# Replaces 'No info' with 'No accidents/damage' for new cars with mileage less than 200, assuming they're accident-free\n",
    "df.loc[(df['mileage_mi'] < 200) & (df['condition'] == 'New'), 'accidents_or_damage'] = df.loc[(df['mileage_mi'] < 200) & (df['condition'] == 'New'), 'accidents_or_damage'].replace('No info', 'No accidents/damage')\n",
    "df['accidents_or_damage'].value_counts() # Shows the count of each category in the 'accidents_or_damage' column after the update"
   ]
  },
  {
   "cell_type": "code",
   "execution_count": 69,
   "id": "912d3675-0ba3-4f30-b948-ed5d61508535",
   "metadata": {},
   "outputs": [
    {
     "data": {
      "text/html": [
       "<div>\n",
       "<style scoped>\n",
       "    .dataframe tbody tr th:only-of-type {\n",
       "        vertical-align: middle;\n",
       "    }\n",
       "\n",
       "    .dataframe tbody tr th {\n",
       "        vertical-align: top;\n",
       "    }\n",
       "\n",
       "    .dataframe thead th {\n",
       "        text-align: right;\n",
       "    }\n",
       "</style>\n",
       "<table border=\"1\" class=\"dataframe\">\n",
       "  <thead>\n",
       "    <tr style=\"text-align: right;\">\n",
       "      <th></th>\n",
       "      <th>car</th>\n",
       "      <th>condition</th>\n",
       "      <th>mileage_mi</th>\n",
       "      <th>price</th>\n",
       "      <th>basics_info</th>\n",
       "      <th>vehicle_history_info</th>\n",
       "      <th>state</th>\n",
       "      <th>model_year</th>\n",
       "      <th>car_age</th>\n",
       "      <th>manufacturer</th>\n",
       "      <th>fuel_type</th>\n",
       "      <th>drivetrain</th>\n",
       "      <th>transmission</th>\n",
       "      <th>exterior_color</th>\n",
       "      <th>interior_color</th>\n",
       "      <th>accidents_or_damage</th>\n",
       "      <th>1_owner_vehicle</th>\n",
       "    </tr>\n",
       "  </thead>\n",
       "  <tbody>\n",
       "    <tr>\n",
       "      <th>0</th>\n",
       "      <td>2024 Lexus LC 500 Base</td>\n",
       "      <td>New</td>\n",
       "      <td>0</td>\n",
       "      <td>112865</td>\n",
       "      <td>{'Exterior color': ' Caviar ', 'Interior color...</td>\n",
       "      <td>{}</td>\n",
       "      <td>Illinois</td>\n",
       "      <td>2024</td>\n",
       "      <td>1</td>\n",
       "      <td>Lexus</td>\n",
       "      <td>Gasoline</td>\n",
       "      <td>Rear-wheel Drive</td>\n",
       "      <td>Fully Automatic</td>\n",
       "      <td>Black Shades</td>\n",
       "      <td>Black Shades</td>\n",
       "      <td>No accidents/damage</td>\n",
       "      <td>No info</td>\n",
       "    </tr>\n",
       "    <tr>\n",
       "      <th>25</th>\n",
       "      <td>2023 Lexus LC 500 Base</td>\n",
       "      <td>New</td>\n",
       "      <td>0</td>\n",
       "      <td>106615</td>\n",
       "      <td>{'Exterior color': ' Caviar ', 'Interior color...</td>\n",
       "      <td>{}</td>\n",
       "      <td>Illinois</td>\n",
       "      <td>2023</td>\n",
       "      <td>2</td>\n",
       "      <td>Lexus</td>\n",
       "      <td>Gasoline</td>\n",
       "      <td>Rear-wheel Drive</td>\n",
       "      <td>Fully Automatic</td>\n",
       "      <td>Black Shades</td>\n",
       "      <td>Red Shades</td>\n",
       "      <td>No accidents/damage</td>\n",
       "      <td>No info</td>\n",
       "    </tr>\n",
       "    <tr>\n",
       "      <th>35</th>\n",
       "      <td>2024 Mercedes-Benz AMG EQS Base</td>\n",
       "      <td>New</td>\n",
       "      <td>6</td>\n",
       "      <td>152800</td>\n",
       "      <td>{'Exterior color': ' Moonlight White ', 'Inter...</td>\n",
       "      <td>{}</td>\n",
       "      <td>Illinois</td>\n",
       "      <td>2024</td>\n",
       "      <td>1</td>\n",
       "      <td>Mercedes-Benz</td>\n",
       "      <td>NaN</td>\n",
       "      <td>All-wheel Drive</td>\n",
       "      <td>Single-Speed or Direct Drive</td>\n",
       "      <td>White Shades</td>\n",
       "      <td>Black Shades</td>\n",
       "      <td>No accidents/damage</td>\n",
       "      <td>No info</td>\n",
       "    </tr>\n",
       "    <tr>\n",
       "      <th>75</th>\n",
       "      <td>2024 Lexus LC 500 Base</td>\n",
       "      <td>New</td>\n",
       "      <td>0</td>\n",
       "      <td>115425</td>\n",
       "      <td>{'Exterior color': ' Infrared ', 'Interior col...</td>\n",
       "      <td>{}</td>\n",
       "      <td>Illinois</td>\n",
       "      <td>2024</td>\n",
       "      <td>1</td>\n",
       "      <td>Lexus</td>\n",
       "      <td>Gasoline</td>\n",
       "      <td>Rear-wheel Drive</td>\n",
       "      <td>Fully Automatic</td>\n",
       "      <td>Red Shades</td>\n",
       "      <td>Black Shades</td>\n",
       "      <td>No accidents/damage</td>\n",
       "      <td>No info</td>\n",
       "    </tr>\n",
       "    <tr>\n",
       "      <th>90</th>\n",
       "      <td>2023 Genesis G90 3.5T e-SC AWD</td>\n",
       "      <td>New</td>\n",
       "      <td>5</td>\n",
       "      <td>89485</td>\n",
       "      <td>{'Exterior color': ' Makalu Gray Matte ', 'Int...</td>\n",
       "      <td>{}</td>\n",
       "      <td>Illinois</td>\n",
       "      <td>2023</td>\n",
       "      <td>2</td>\n",
       "      <td>Genesis</td>\n",
       "      <td>Gasoline</td>\n",
       "      <td>All-wheel Drive</td>\n",
       "      <td>Fully Automatic</td>\n",
       "      <td>Grey Shades</td>\n",
       "      <td>Brown and Beige Shades</td>\n",
       "      <td>No accidents/damage</td>\n",
       "      <td>No info</td>\n",
       "    </tr>\n",
       "    <tr>\n",
       "      <th>...</th>\n",
       "      <td>...</td>\n",
       "      <td>...</td>\n",
       "      <td>...</td>\n",
       "      <td>...</td>\n",
       "      <td>...</td>\n",
       "      <td>...</td>\n",
       "      <td>...</td>\n",
       "      <td>...</td>\n",
       "      <td>...</td>\n",
       "      <td>...</td>\n",
       "      <td>...</td>\n",
       "      <td>...</td>\n",
       "      <td>...</td>\n",
       "      <td>...</td>\n",
       "      <td>...</td>\n",
       "      <td>...</td>\n",
       "      <td>...</td>\n",
       "    </tr>\n",
       "    <tr>\n",
       "      <th>9235</th>\n",
       "      <td>2023 Jeep Gladiator Sport S</td>\n",
       "      <td>New</td>\n",
       "      <td>5</td>\n",
       "      <td>42995</td>\n",
       "      <td>{'Exterior color': ' Granite Crystal Metallic ...</td>\n",
       "      <td>{}</td>\n",
       "      <td>Illinois</td>\n",
       "      <td>2023</td>\n",
       "      <td>2</td>\n",
       "      <td>Jeep</td>\n",
       "      <td>Diesel</td>\n",
       "      <td>Four-wheel Drive</td>\n",
       "      <td>Fully Automatic</td>\n",
       "      <td>Grey Shades</td>\n",
       "      <td>Black Shades</td>\n",
       "      <td>No accidents/damage</td>\n",
       "      <td>No info</td>\n",
       "    </tr>\n",
       "    <tr>\n",
       "      <th>9236</th>\n",
       "      <td>2024 Subaru Forester Premium</td>\n",
       "      <td>New</td>\n",
       "      <td>6</td>\n",
       "      <td>33989</td>\n",
       "      <td>{'Exterior color': ' Autumn Green Metallic ', ...</td>\n",
       "      <td>{}</td>\n",
       "      <td>Illinois</td>\n",
       "      <td>2024</td>\n",
       "      <td>1</td>\n",
       "      <td>Subaru</td>\n",
       "      <td>Gasoline</td>\n",
       "      <td>All-wheel Drive</td>\n",
       "      <td>Fully Automatic</td>\n",
       "      <td>Grey Shades</td>\n",
       "      <td>Black Shades</td>\n",
       "      <td>No accidents/damage</td>\n",
       "      <td>No info</td>\n",
       "    </tr>\n",
       "    <tr>\n",
       "      <th>9240</th>\n",
       "      <td>2024 Jeep Grand Cherokee L Limited</td>\n",
       "      <td>New</td>\n",
       "      <td>10</td>\n",
       "      <td>52301</td>\n",
       "      <td>{'Exterior color': ' Bright White Clearcoat ',...</td>\n",
       "      <td>{}</td>\n",
       "      <td>Illinois</td>\n",
       "      <td>2024</td>\n",
       "      <td>1</td>\n",
       "      <td>Jeep</td>\n",
       "      <td>Gasoline</td>\n",
       "      <td>Four-wheel Drive</td>\n",
       "      <td>Fully Automatic</td>\n",
       "      <td>White Shades</td>\n",
       "      <td>Black Shades</td>\n",
       "      <td>No accidents/damage</td>\n",
       "      <td>No info</td>\n",
       "    </tr>\n",
       "    <tr>\n",
       "      <th>9243</th>\n",
       "      <td>2024 GMC Sierra 1500 Pro</td>\n",
       "      <td>New</td>\n",
       "      <td>3</td>\n",
       "      <td>51080</td>\n",
       "      <td>{'Exterior color': ' Summit White ', 'Interior...</td>\n",
       "      <td>{}</td>\n",
       "      <td>Illinois</td>\n",
       "      <td>2024</td>\n",
       "      <td>1</td>\n",
       "      <td>GMC</td>\n",
       "      <td>Gasoline</td>\n",
       "      <td>Four-wheel Drive</td>\n",
       "      <td>Fully Automatic</td>\n",
       "      <td>White Shades</td>\n",
       "      <td>Black Shades</td>\n",
       "      <td>No accidents/damage</td>\n",
       "      <td>No info</td>\n",
       "    </tr>\n",
       "    <tr>\n",
       "      <th>9245</th>\n",
       "      <td>2024 Subaru Outback Touring XT</td>\n",
       "      <td>New</td>\n",
       "      <td>4</td>\n",
       "      <td>42014</td>\n",
       "      <td>{'Exterior color': ' Magnetite Gray Metallic '...</td>\n",
       "      <td>{}</td>\n",
       "      <td>Illinois</td>\n",
       "      <td>2024</td>\n",
       "      <td>1</td>\n",
       "      <td>Subaru</td>\n",
       "      <td>Gasoline</td>\n",
       "      <td>All-wheel Drive</td>\n",
       "      <td>Fully Automatic</td>\n",
       "      <td>Grey Shades</td>\n",
       "      <td>Black Shades</td>\n",
       "      <td>No accidents/damage</td>\n",
       "      <td>No info</td>\n",
       "    </tr>\n",
       "  </tbody>\n",
       "</table>\n",
       "<p>3250 rows × 17 columns</p>\n",
       "</div>"
      ],
      "text/plain": [
       "                                     car condition  mileage_mi   price  \\\n",
       "0                 2024 Lexus LC 500 Base       New           0  112865   \n",
       "25                2023 Lexus LC 500 Base       New           0  106615   \n",
       "35       2024 Mercedes-Benz AMG EQS Base       New           6  152800   \n",
       "75                2024 Lexus LC 500 Base       New           0  115425   \n",
       "90        2023 Genesis G90 3.5T e-SC AWD       New           5   89485   \n",
       "...                                  ...       ...         ...     ...   \n",
       "9235         2023 Jeep Gladiator Sport S       New           5   42995   \n",
       "9236        2024 Subaru Forester Premium       New           6   33989   \n",
       "9240  2024 Jeep Grand Cherokee L Limited       New          10   52301   \n",
       "9243            2024 GMC Sierra 1500 Pro       New           3   51080   \n",
       "9245      2024 Subaru Outback Touring XT       New           4   42014   \n",
       "\n",
       "                                            basics_info vehicle_history_info  \\\n",
       "0     {'Exterior color': ' Caviar ', 'Interior color...                   {}   \n",
       "25    {'Exterior color': ' Caviar ', 'Interior color...                   {}   \n",
       "35    {'Exterior color': ' Moonlight White ', 'Inter...                   {}   \n",
       "75    {'Exterior color': ' Infrared ', 'Interior col...                   {}   \n",
       "90    {'Exterior color': ' Makalu Gray Matte ', 'Int...                   {}   \n",
       "...                                                 ...                  ...   \n",
       "9235  {'Exterior color': ' Granite Crystal Metallic ...                   {}   \n",
       "9236  {'Exterior color': ' Autumn Green Metallic ', ...                   {}   \n",
       "9240  {'Exterior color': ' Bright White Clearcoat ',...                   {}   \n",
       "9243  {'Exterior color': ' Summit White ', 'Interior...                   {}   \n",
       "9245  {'Exterior color': ' Magnetite Gray Metallic '...                   {}   \n",
       "\n",
       "         state  model_year  car_age   manufacturer fuel_type  \\\n",
       "0     Illinois        2024        1          Lexus  Gasoline   \n",
       "25    Illinois        2023        2          Lexus  Gasoline   \n",
       "35    Illinois        2024        1  Mercedes-Benz       NaN   \n",
       "75    Illinois        2024        1          Lexus  Gasoline   \n",
       "90    Illinois        2023        2        Genesis  Gasoline   \n",
       "...        ...         ...      ...            ...       ...   \n",
       "9235  Illinois        2023        2           Jeep    Diesel   \n",
       "9236  Illinois        2024        1         Subaru  Gasoline   \n",
       "9240  Illinois        2024        1           Jeep  Gasoline   \n",
       "9243  Illinois        2024        1            GMC  Gasoline   \n",
       "9245  Illinois        2024        1         Subaru  Gasoline   \n",
       "\n",
       "            drivetrain                  transmission exterior_color  \\\n",
       "0     Rear-wheel Drive               Fully Automatic   Black Shades   \n",
       "25    Rear-wheel Drive               Fully Automatic   Black Shades   \n",
       "35     All-wheel Drive  Single-Speed or Direct Drive   White Shades   \n",
       "75    Rear-wheel Drive               Fully Automatic     Red Shades   \n",
       "90     All-wheel Drive               Fully Automatic    Grey Shades   \n",
       "...                ...                           ...            ...   \n",
       "9235  Four-wheel Drive               Fully Automatic    Grey Shades   \n",
       "9236   All-wheel Drive               Fully Automatic    Grey Shades   \n",
       "9240  Four-wheel Drive               Fully Automatic   White Shades   \n",
       "9243  Four-wheel Drive               Fully Automatic   White Shades   \n",
       "9245   All-wheel Drive               Fully Automatic    Grey Shades   \n",
       "\n",
       "              interior_color  accidents_or_damage 1_owner_vehicle  \n",
       "0               Black Shades  No accidents/damage         No info  \n",
       "25                Red Shades  No accidents/damage         No info  \n",
       "35              Black Shades  No accidents/damage         No info  \n",
       "75              Black Shades  No accidents/damage         No info  \n",
       "90    Brown and Beige Shades  No accidents/damage         No info  \n",
       "...                      ...                  ...             ...  \n",
       "9235            Black Shades  No accidents/damage         No info  \n",
       "9236            Black Shades  No accidents/damage         No info  \n",
       "9240            Black Shades  No accidents/damage         No info  \n",
       "9243            Black Shades  No accidents/damage         No info  \n",
       "9245            Black Shades  No accidents/damage         No info  \n",
       "\n",
       "[3250 rows x 17 columns]"
      ]
     },
     "execution_count": 69,
     "metadata": {},
     "output_type": "execute_result"
    }
   ],
   "source": [
    "# Displays rows where cars are new, have mileage under 200, and are still labeled as 'No info' in the '1_owner_vehicle' column\n",
    "df[(df['1_owner_vehicle'] == 'No info') & (df['mileage_mi'] < 200) & (df['condition'] == 'New')]"
   ]
  },
  {
   "cell_type": "code",
   "execution_count": 70,
   "id": "3f753031-f40a-4a81-8755-eed62a3bbb0e",
   "metadata": {},
   "outputs": [
    {
     "data": {
      "text/plain": [
       "1_owner_vehicle\n",
       "First owner        5908\n",
       "Multiple owners    2600\n",
       "No info             279\n",
       "Name: count, dtype: int64"
      ]
     },
     "execution_count": 70,
     "metadata": {},
     "output_type": "execute_result"
    }
   ],
   "source": [
    "# Updates '1_owner_vehicle' to 'First owner' for new cars with mileage under 200 that were previously labeled as 'No info'\n",
    "df.loc[(df['mileage_mi'] < 200) & (df['condition'] == 'New'), '1_owner_vehicle'] = df.loc[(df['mileage_mi'] < 200) & (df['condition'] == 'New'), '1_owner_vehicle'].replace('No info', 'First owner')\n",
    "df['1_owner_vehicle'].value_counts()  # Counts the number of 1_owner_vehicles in each category of the '1_owner_vehicle' column after the update"
   ]
  },
  {
   "cell_type": "code",
   "execution_count": 71,
   "id": "db9ca68d-733c-4b7f-b1b9-35003862060c",
   "metadata": {},
   "outputs": [],
   "source": [
    "# Replaces all remaining 'No info' values in 'accidents_or_damage' and '1_owner_vehicle' columns with NaN (missing values)\n",
    "df = df.replace({\n",
    "    'accidents_or_damage': {'No info': np.nan},\n",
    "    '1_owner_vehicle': {'No info': np.nan}\n",
    "})"
   ]
  },
  {
   "cell_type": "code",
   "execution_count": 72,
   "id": "91f7a8e4-609d-478b-8f2b-8ef010bef7e8",
   "metadata": {},
   "outputs": [],
   "source": [
    "df.drop([\"basics_info\",\"vehicle_history_info\", \"car\"], axis=1, inplace=True) #droping unnecessary columns"
   ]
  },
  {
   "cell_type": "markdown",
   "id": "eda6ae84-a039-4ef2-923c-698a1e1caba8",
   "metadata": {
    "jp-MarkdownHeadingCollapsed": true
   },
   "source": [
    "# Data Understanding After Cleaning"
   ]
  },
  {
   "cell_type": "code",
   "execution_count": 73,
   "id": "26bdb3ac-7c26-4177-b956-d0c495cf175e",
   "metadata": {},
   "outputs": [
    {
     "name": "stdout",
     "output_type": "stream",
     "text": [
      "<class 'pandas.core.frame.DataFrame'>\n",
      "Index: 8787 entries, 0 to 9245\n",
      "Data columns (total 14 columns):\n",
      " #   Column               Non-Null Count  Dtype \n",
      "---  ------               --------------  ----- \n",
      " 0   condition            8787 non-null   object\n",
      " 1   mileage_mi           8787 non-null   int64 \n",
      " 2   price                8787 non-null   int64 \n",
      " 3   state                8787 non-null   object\n",
      " 4   model_year           8787 non-null   int32 \n",
      " 5   car_age              8787 non-null   int32 \n",
      " 6   manufacturer         8787 non-null   object\n",
      " 7   fuel_type            8191 non-null   object\n",
      " 8   drivetrain           8719 non-null   object\n",
      " 9   transmission         8716 non-null   object\n",
      " 10  exterior_color       8787 non-null   object\n",
      " 11  interior_color       8787 non-null   object\n",
      " 12  accidents_or_damage  8533 non-null   object\n",
      " 13  1_owner_vehicle      8508 non-null   object\n",
      "dtypes: int32(2), int64(2), object(10)\n",
      "memory usage: 961.1+ KB\n"
     ]
    }
   ],
   "source": [
    "df.info() # Shows a summary of the DataFrame, including column names, non-null counts, and data types"
   ]
  },
  {
   "cell_type": "code",
   "execution_count": 74,
   "id": "90697d66-bd33-4c31-881e-2352e05252d0",
   "metadata": {},
   "outputs": [
    {
     "data": {
      "text/plain": [
       "condition                0\n",
       "mileage_mi               0\n",
       "price                    0\n",
       "state                    0\n",
       "model_year               0\n",
       "car_age                  0\n",
       "manufacturer             0\n",
       "fuel_type              596\n",
       "drivetrain              68\n",
       "transmission            71\n",
       "exterior_color           0\n",
       "interior_color           0\n",
       "accidents_or_damage    254\n",
       "1_owner_vehicle        279\n",
       "dtype: int64"
      ]
     },
     "execution_count": 74,
     "metadata": {},
     "output_type": "execute_result"
    }
   ],
   "source": [
    "df.isnull().sum() # Shows the total number of missing (NaN) values in each column of the DataFrame"
   ]
  },
  {
   "cell_type": "code",
   "execution_count": 75,
   "id": "199faca6-210a-4208-9774-6217b55477cc",
   "metadata": {},
   "outputs": [
    {
     "data": {
      "text/plain": [
       "condition              0.000000\n",
       "mileage_mi             0.000000\n",
       "price                  0.000000\n",
       "state                  0.000000\n",
       "model_year             0.000000\n",
       "car_age                0.000000\n",
       "manufacturer           0.000000\n",
       "fuel_type              6.782747\n",
       "drivetrain             0.773870\n",
       "transmission           0.808012\n",
       "exterior_color         0.000000\n",
       "interior_color         0.000000\n",
       "accidents_or_damage    2.890634\n",
       "1_owner_vehicle        3.175145\n",
       "dtype: float64"
      ]
     },
     "execution_count": 75,
     "metadata": {},
     "output_type": "execute_result"
    }
   ],
   "source": [
    "df.isnull().mean()*100 # Shows the percentage number of missing (NaN) values in each column of the DataFrame"
   ]
  },
  {
   "cell_type": "code",
   "execution_count": 76,
   "id": "be902fdd-4d87-4e40-9a34-4e2008d6ea2f",
   "metadata": {},
   "outputs": [],
   "source": [
    "df = df.dropna() #droping all the null values"
   ]
  },
  {
   "cell_type": "code",
   "execution_count": 77,
   "id": "b0be6895-67ff-479f-b1c0-664aa08c3d12",
   "metadata": {},
   "outputs": [
    {
     "data": {
      "text/html": [
       "<div>\n",
       "<style scoped>\n",
       "    .dataframe tbody tr th:only-of-type {\n",
       "        vertical-align: middle;\n",
       "    }\n",
       "\n",
       "    .dataframe tbody tr th {\n",
       "        vertical-align: top;\n",
       "    }\n",
       "\n",
       "    .dataframe thead th {\n",
       "        text-align: right;\n",
       "    }\n",
       "</style>\n",
       "<table border=\"1\" class=\"dataframe\">\n",
       "  <thead>\n",
       "    <tr style=\"text-align: right;\">\n",
       "      <th></th>\n",
       "      <th>condition</th>\n",
       "      <th>mileage_mi</th>\n",
       "      <th>price</th>\n",
       "      <th>state</th>\n",
       "      <th>model_year</th>\n",
       "      <th>car_age</th>\n",
       "      <th>manufacturer</th>\n",
       "      <th>fuel_type</th>\n",
       "      <th>drivetrain</th>\n",
       "      <th>transmission</th>\n",
       "      <th>exterior_color</th>\n",
       "      <th>interior_color</th>\n",
       "      <th>accidents_or_damage</th>\n",
       "      <th>1_owner_vehicle</th>\n",
       "    </tr>\n",
       "  </thead>\n",
       "  <tbody>\n",
       "    <tr>\n",
       "      <th>0</th>\n",
       "      <td>New</td>\n",
       "      <td>0</td>\n",
       "      <td>112865</td>\n",
       "      <td>Illinois</td>\n",
       "      <td>2024</td>\n",
       "      <td>1</td>\n",
       "      <td>Lexus</td>\n",
       "      <td>Gasoline</td>\n",
       "      <td>Rear-wheel Drive</td>\n",
       "      <td>Fully Automatic</td>\n",
       "      <td>Black Shades</td>\n",
       "      <td>Black Shades</td>\n",
       "      <td>No accidents/damage</td>\n",
       "      <td>First owner</td>\n",
       "    </tr>\n",
       "    <tr>\n",
       "      <th>1</th>\n",
       "      <td>Used</td>\n",
       "      <td>61110</td>\n",
       "      <td>11295</td>\n",
       "      <td>Illinois</td>\n",
       "      <td>2007</td>\n",
       "      <td>18</td>\n",
       "      <td>Acura</td>\n",
       "      <td>Gasoline</td>\n",
       "      <td>Front-wheel Drive</td>\n",
       "      <td>Fully Automatic</td>\n",
       "      <td>Grey Shades</td>\n",
       "      <td>Others</td>\n",
       "      <td>had accident/damage</td>\n",
       "      <td>First owner</td>\n",
       "    </tr>\n",
       "    <tr>\n",
       "      <th>2</th>\n",
       "      <td>Used</td>\n",
       "      <td>6305</td>\n",
       "      <td>219997</td>\n",
       "      <td>Illinois</td>\n",
       "      <td>2016</td>\n",
       "      <td>9</td>\n",
       "      <td>McLaren</td>\n",
       "      <td>Gasoline</td>\n",
       "      <td>Rear-wheel Drive</td>\n",
       "      <td>Fully Automatic</td>\n",
       "      <td>Gold/ Brown and Orange Shades</td>\n",
       "      <td>Black Shades</td>\n",
       "      <td>had accident/damage</td>\n",
       "      <td>Multiple owners</td>\n",
       "    </tr>\n",
       "    <tr>\n",
       "      <th>3</th>\n",
       "      <td>Used</td>\n",
       "      <td>65715</td>\n",
       "      <td>23999</td>\n",
       "      <td>Illinois</td>\n",
       "      <td>2016</td>\n",
       "      <td>9</td>\n",
       "      <td>Audi</td>\n",
       "      <td>Gasoline</td>\n",
       "      <td>All-wheel Drive</td>\n",
       "      <td>Fully Automatic</td>\n",
       "      <td>Black Shades</td>\n",
       "      <td>Black Shades</td>\n",
       "      <td>had accident/damage</td>\n",
       "      <td>Multiple owners</td>\n",
       "    </tr>\n",
       "    <tr>\n",
       "      <th>4</th>\n",
       "      <td>Used</td>\n",
       "      <td>19830</td>\n",
       "      <td>39799</td>\n",
       "      <td>Illinois</td>\n",
       "      <td>2018</td>\n",
       "      <td>7</td>\n",
       "      <td>BMW</td>\n",
       "      <td>Gasoline</td>\n",
       "      <td>All-wheel Drive</td>\n",
       "      <td>Fully Automatic</td>\n",
       "      <td>Grey Shades</td>\n",
       "      <td>Black Shades</td>\n",
       "      <td>No accidents/damage</td>\n",
       "      <td>First owner</td>\n",
       "    </tr>\n",
       "    <tr>\n",
       "      <th>...</th>\n",
       "      <td>...</td>\n",
       "      <td>...</td>\n",
       "      <td>...</td>\n",
       "      <td>...</td>\n",
       "      <td>...</td>\n",
       "      <td>...</td>\n",
       "      <td>...</td>\n",
       "      <td>...</td>\n",
       "      <td>...</td>\n",
       "      <td>...</td>\n",
       "      <td>...</td>\n",
       "      <td>...</td>\n",
       "      <td>...</td>\n",
       "      <td>...</td>\n",
       "    </tr>\n",
       "    <tr>\n",
       "      <th>9240</th>\n",
       "      <td>New</td>\n",
       "      <td>10</td>\n",
       "      <td>52301</td>\n",
       "      <td>Illinois</td>\n",
       "      <td>2024</td>\n",
       "      <td>1</td>\n",
       "      <td>Jeep</td>\n",
       "      <td>Gasoline</td>\n",
       "      <td>Four-wheel Drive</td>\n",
       "      <td>Fully Automatic</td>\n",
       "      <td>White Shades</td>\n",
       "      <td>Black Shades</td>\n",
       "      <td>No accidents/damage</td>\n",
       "      <td>First owner</td>\n",
       "    </tr>\n",
       "    <tr>\n",
       "      <th>9242</th>\n",
       "      <td>Used</td>\n",
       "      <td>48804</td>\n",
       "      <td>27979</td>\n",
       "      <td>Illinois</td>\n",
       "      <td>2022</td>\n",
       "      <td>3</td>\n",
       "      <td>BMW</td>\n",
       "      <td>Gasoline</td>\n",
       "      <td>All-wheel Drive</td>\n",
       "      <td>Tiptronic / Shiftable Automatic</td>\n",
       "      <td>Grey Shades</td>\n",
       "      <td>Brown and Beige Shades</td>\n",
       "      <td>No accidents/damage</td>\n",
       "      <td>First owner</td>\n",
       "    </tr>\n",
       "    <tr>\n",
       "      <th>9243</th>\n",
       "      <td>New</td>\n",
       "      <td>3</td>\n",
       "      <td>51080</td>\n",
       "      <td>Illinois</td>\n",
       "      <td>2024</td>\n",
       "      <td>1</td>\n",
       "      <td>GMC</td>\n",
       "      <td>Gasoline</td>\n",
       "      <td>Four-wheel Drive</td>\n",
       "      <td>Fully Automatic</td>\n",
       "      <td>White Shades</td>\n",
       "      <td>Black Shades</td>\n",
       "      <td>No accidents/damage</td>\n",
       "      <td>First owner</td>\n",
       "    </tr>\n",
       "    <tr>\n",
       "      <th>9244</th>\n",
       "      <td>Used</td>\n",
       "      <td>146694</td>\n",
       "      <td>8995</td>\n",
       "      <td>Illinois</td>\n",
       "      <td>2012</td>\n",
       "      <td>13</td>\n",
       "      <td>GMC</td>\n",
       "      <td>Gasoline</td>\n",
       "      <td>All-wheel Drive</td>\n",
       "      <td>Fully Automatic</td>\n",
       "      <td>Black Shades</td>\n",
       "      <td>Black Shades</td>\n",
       "      <td>had accident/damage</td>\n",
       "      <td>Multiple owners</td>\n",
       "    </tr>\n",
       "    <tr>\n",
       "      <th>9245</th>\n",
       "      <td>New</td>\n",
       "      <td>4</td>\n",
       "      <td>42014</td>\n",
       "      <td>Illinois</td>\n",
       "      <td>2024</td>\n",
       "      <td>1</td>\n",
       "      <td>Subaru</td>\n",
       "      <td>Gasoline</td>\n",
       "      <td>All-wheel Drive</td>\n",
       "      <td>Fully Automatic</td>\n",
       "      <td>Grey Shades</td>\n",
       "      <td>Black Shades</td>\n",
       "      <td>No accidents/damage</td>\n",
       "      <td>First owner</td>\n",
       "    </tr>\n",
       "  </tbody>\n",
       "</table>\n",
       "<p>7829 rows × 14 columns</p>\n",
       "</div>"
      ],
      "text/plain": [
       "     condition  mileage_mi   price     state  model_year  car_age  \\\n",
       "0          New           0  112865  Illinois        2024        1   \n",
       "1         Used       61110   11295  Illinois        2007       18   \n",
       "2         Used        6305  219997  Illinois        2016        9   \n",
       "3         Used       65715   23999  Illinois        2016        9   \n",
       "4         Used       19830   39799  Illinois        2018        7   \n",
       "...        ...         ...     ...       ...         ...      ...   \n",
       "9240       New          10   52301  Illinois        2024        1   \n",
       "9242      Used       48804   27979  Illinois        2022        3   \n",
       "9243       New           3   51080  Illinois        2024        1   \n",
       "9244      Used      146694    8995  Illinois        2012       13   \n",
       "9245       New           4   42014  Illinois        2024        1   \n",
       "\n",
       "     manufacturer fuel_type         drivetrain  \\\n",
       "0           Lexus  Gasoline   Rear-wheel Drive   \n",
       "1           Acura  Gasoline  Front-wheel Drive   \n",
       "2         McLaren  Gasoline   Rear-wheel Drive   \n",
       "3            Audi  Gasoline    All-wheel Drive   \n",
       "4             BMW  Gasoline    All-wheel Drive   \n",
       "...           ...       ...                ...   \n",
       "9240         Jeep  Gasoline   Four-wheel Drive   \n",
       "9242          BMW  Gasoline    All-wheel Drive   \n",
       "9243          GMC  Gasoline   Four-wheel Drive   \n",
       "9244          GMC  Gasoline    All-wheel Drive   \n",
       "9245       Subaru  Gasoline    All-wheel Drive   \n",
       "\n",
       "                         transmission                 exterior_color  \\\n",
       "0                     Fully Automatic                   Black Shades   \n",
       "1                     Fully Automatic                    Grey Shades   \n",
       "2                     Fully Automatic  Gold/ Brown and Orange Shades   \n",
       "3                     Fully Automatic                   Black Shades   \n",
       "4                     Fully Automatic                    Grey Shades   \n",
       "...                               ...                            ...   \n",
       "9240                  Fully Automatic                   White Shades   \n",
       "9242  Tiptronic / Shiftable Automatic                    Grey Shades   \n",
       "9243                  Fully Automatic                   White Shades   \n",
       "9244                  Fully Automatic                   Black Shades   \n",
       "9245                  Fully Automatic                    Grey Shades   \n",
       "\n",
       "              interior_color  accidents_or_damage  1_owner_vehicle  \n",
       "0               Black Shades  No accidents/damage      First owner  \n",
       "1                     Others  had accident/damage      First owner  \n",
       "2               Black Shades  had accident/damage  Multiple owners  \n",
       "3               Black Shades  had accident/damage  Multiple owners  \n",
       "4               Black Shades  No accidents/damage      First owner  \n",
       "...                      ...                  ...              ...  \n",
       "9240            Black Shades  No accidents/damage      First owner  \n",
       "9242  Brown and Beige Shades  No accidents/damage      First owner  \n",
       "9243            Black Shades  No accidents/damage      First owner  \n",
       "9244            Black Shades  had accident/damage  Multiple owners  \n",
       "9245            Black Shades  No accidents/damage      First owner  \n",
       "\n",
       "[7829 rows x 14 columns]"
      ]
     },
     "execution_count": 77,
     "metadata": {},
     "output_type": "execute_result"
    }
   ],
   "source": [
    "df # Shows the DataFrame"
   ]
  },
  {
   "cell_type": "code",
   "execution_count": 78,
   "id": "8cd3f480-fddb-4bbf-ac7f-2ed0e941795c",
   "metadata": {},
   "outputs": [
    {
     "data": {
      "text/html": [
       "<div>\n",
       "<style scoped>\n",
       "    .dataframe tbody tr th:only-of-type {\n",
       "        vertical-align: middle;\n",
       "    }\n",
       "\n",
       "    .dataframe tbody tr th {\n",
       "        vertical-align: top;\n",
       "    }\n",
       "\n",
       "    .dataframe thead th {\n",
       "        text-align: right;\n",
       "    }\n",
       "</style>\n",
       "<table border=\"1\" class=\"dataframe\">\n",
       "  <thead>\n",
       "    <tr style=\"text-align: right;\">\n",
       "      <th></th>\n",
       "      <th>condition</th>\n",
       "      <th>mileage_mi</th>\n",
       "      <th>price</th>\n",
       "      <th>state</th>\n",
       "      <th>model_year</th>\n",
       "      <th>car_age</th>\n",
       "      <th>manufacturer</th>\n",
       "      <th>fuel_type</th>\n",
       "      <th>drivetrain</th>\n",
       "      <th>transmission</th>\n",
       "      <th>exterior_color</th>\n",
       "      <th>interior_color</th>\n",
       "      <th>accidents_or_damage</th>\n",
       "      <th>1_owner_vehicle</th>\n",
       "    </tr>\n",
       "  </thead>\n",
       "  <tbody>\n",
       "    <tr>\n",
       "      <th>0</th>\n",
       "      <td>New</td>\n",
       "      <td>0</td>\n",
       "      <td>112865</td>\n",
       "      <td>Illinois</td>\n",
       "      <td>2024</td>\n",
       "      <td>1</td>\n",
       "      <td>Lexus</td>\n",
       "      <td>Gasoline</td>\n",
       "      <td>Rear-wheel Drive</td>\n",
       "      <td>Fully Automatic</td>\n",
       "      <td>Black Shades</td>\n",
       "      <td>Black Shades</td>\n",
       "      <td>No accidents/damage</td>\n",
       "      <td>First owner</td>\n",
       "    </tr>\n",
       "    <tr>\n",
       "      <th>1</th>\n",
       "      <td>Used</td>\n",
       "      <td>61110</td>\n",
       "      <td>11295</td>\n",
       "      <td>Illinois</td>\n",
       "      <td>2007</td>\n",
       "      <td>18</td>\n",
       "      <td>Acura</td>\n",
       "      <td>Gasoline</td>\n",
       "      <td>Front-wheel Drive</td>\n",
       "      <td>Fully Automatic</td>\n",
       "      <td>Grey Shades</td>\n",
       "      <td>Others</td>\n",
       "      <td>had accident/damage</td>\n",
       "      <td>First owner</td>\n",
       "    </tr>\n",
       "    <tr>\n",
       "      <th>2</th>\n",
       "      <td>Used</td>\n",
       "      <td>6305</td>\n",
       "      <td>219997</td>\n",
       "      <td>Illinois</td>\n",
       "      <td>2016</td>\n",
       "      <td>9</td>\n",
       "      <td>McLaren</td>\n",
       "      <td>Gasoline</td>\n",
       "      <td>Rear-wheel Drive</td>\n",
       "      <td>Fully Automatic</td>\n",
       "      <td>Gold/ Brown and Orange Shades</td>\n",
       "      <td>Black Shades</td>\n",
       "      <td>had accident/damage</td>\n",
       "      <td>Multiple owners</td>\n",
       "    </tr>\n",
       "    <tr>\n",
       "      <th>3</th>\n",
       "      <td>Used</td>\n",
       "      <td>65715</td>\n",
       "      <td>23999</td>\n",
       "      <td>Illinois</td>\n",
       "      <td>2016</td>\n",
       "      <td>9</td>\n",
       "      <td>Audi</td>\n",
       "      <td>Gasoline</td>\n",
       "      <td>All-wheel Drive</td>\n",
       "      <td>Fully Automatic</td>\n",
       "      <td>Black Shades</td>\n",
       "      <td>Black Shades</td>\n",
       "      <td>had accident/damage</td>\n",
       "      <td>Multiple owners</td>\n",
       "    </tr>\n",
       "    <tr>\n",
       "      <th>4</th>\n",
       "      <td>Used</td>\n",
       "      <td>19830</td>\n",
       "      <td>39799</td>\n",
       "      <td>Illinois</td>\n",
       "      <td>2018</td>\n",
       "      <td>7</td>\n",
       "      <td>BMW</td>\n",
       "      <td>Gasoline</td>\n",
       "      <td>All-wheel Drive</td>\n",
       "      <td>Fully Automatic</td>\n",
       "      <td>Grey Shades</td>\n",
       "      <td>Black Shades</td>\n",
       "      <td>No accidents/damage</td>\n",
       "      <td>First owner</td>\n",
       "    </tr>\n",
       "    <tr>\n",
       "      <th>...</th>\n",
       "      <td>...</td>\n",
       "      <td>...</td>\n",
       "      <td>...</td>\n",
       "      <td>...</td>\n",
       "      <td>...</td>\n",
       "      <td>...</td>\n",
       "      <td>...</td>\n",
       "      <td>...</td>\n",
       "      <td>...</td>\n",
       "      <td>...</td>\n",
       "      <td>...</td>\n",
       "      <td>...</td>\n",
       "      <td>...</td>\n",
       "      <td>...</td>\n",
       "    </tr>\n",
       "    <tr>\n",
       "      <th>7824</th>\n",
       "      <td>New</td>\n",
       "      <td>10</td>\n",
       "      <td>52301</td>\n",
       "      <td>Illinois</td>\n",
       "      <td>2024</td>\n",
       "      <td>1</td>\n",
       "      <td>Jeep</td>\n",
       "      <td>Gasoline</td>\n",
       "      <td>Four-wheel Drive</td>\n",
       "      <td>Fully Automatic</td>\n",
       "      <td>White Shades</td>\n",
       "      <td>Black Shades</td>\n",
       "      <td>No accidents/damage</td>\n",
       "      <td>First owner</td>\n",
       "    </tr>\n",
       "    <tr>\n",
       "      <th>7825</th>\n",
       "      <td>Used</td>\n",
       "      <td>48804</td>\n",
       "      <td>27979</td>\n",
       "      <td>Illinois</td>\n",
       "      <td>2022</td>\n",
       "      <td>3</td>\n",
       "      <td>BMW</td>\n",
       "      <td>Gasoline</td>\n",
       "      <td>All-wheel Drive</td>\n",
       "      <td>Tiptronic / Shiftable Automatic</td>\n",
       "      <td>Grey Shades</td>\n",
       "      <td>Brown and Beige Shades</td>\n",
       "      <td>No accidents/damage</td>\n",
       "      <td>First owner</td>\n",
       "    </tr>\n",
       "    <tr>\n",
       "      <th>7826</th>\n",
       "      <td>New</td>\n",
       "      <td>3</td>\n",
       "      <td>51080</td>\n",
       "      <td>Illinois</td>\n",
       "      <td>2024</td>\n",
       "      <td>1</td>\n",
       "      <td>GMC</td>\n",
       "      <td>Gasoline</td>\n",
       "      <td>Four-wheel Drive</td>\n",
       "      <td>Fully Automatic</td>\n",
       "      <td>White Shades</td>\n",
       "      <td>Black Shades</td>\n",
       "      <td>No accidents/damage</td>\n",
       "      <td>First owner</td>\n",
       "    </tr>\n",
       "    <tr>\n",
       "      <th>7827</th>\n",
       "      <td>Used</td>\n",
       "      <td>146694</td>\n",
       "      <td>8995</td>\n",
       "      <td>Illinois</td>\n",
       "      <td>2012</td>\n",
       "      <td>13</td>\n",
       "      <td>GMC</td>\n",
       "      <td>Gasoline</td>\n",
       "      <td>All-wheel Drive</td>\n",
       "      <td>Fully Automatic</td>\n",
       "      <td>Black Shades</td>\n",
       "      <td>Black Shades</td>\n",
       "      <td>had accident/damage</td>\n",
       "      <td>Multiple owners</td>\n",
       "    </tr>\n",
       "    <tr>\n",
       "      <th>7828</th>\n",
       "      <td>New</td>\n",
       "      <td>4</td>\n",
       "      <td>42014</td>\n",
       "      <td>Illinois</td>\n",
       "      <td>2024</td>\n",
       "      <td>1</td>\n",
       "      <td>Subaru</td>\n",
       "      <td>Gasoline</td>\n",
       "      <td>All-wheel Drive</td>\n",
       "      <td>Fully Automatic</td>\n",
       "      <td>Grey Shades</td>\n",
       "      <td>Black Shades</td>\n",
       "      <td>No accidents/damage</td>\n",
       "      <td>First owner</td>\n",
       "    </tr>\n",
       "  </tbody>\n",
       "</table>\n",
       "<p>7829 rows × 14 columns</p>\n",
       "</div>"
      ],
      "text/plain": [
       "     condition  mileage_mi   price     state  model_year  car_age  \\\n",
       "0          New           0  112865  Illinois        2024        1   \n",
       "1         Used       61110   11295  Illinois        2007       18   \n",
       "2         Used        6305  219997  Illinois        2016        9   \n",
       "3         Used       65715   23999  Illinois        2016        9   \n",
       "4         Used       19830   39799  Illinois        2018        7   \n",
       "...        ...         ...     ...       ...         ...      ...   \n",
       "7824       New          10   52301  Illinois        2024        1   \n",
       "7825      Used       48804   27979  Illinois        2022        3   \n",
       "7826       New           3   51080  Illinois        2024        1   \n",
       "7827      Used      146694    8995  Illinois        2012       13   \n",
       "7828       New           4   42014  Illinois        2024        1   \n",
       "\n",
       "     manufacturer fuel_type         drivetrain  \\\n",
       "0           Lexus  Gasoline   Rear-wheel Drive   \n",
       "1           Acura  Gasoline  Front-wheel Drive   \n",
       "2         McLaren  Gasoline   Rear-wheel Drive   \n",
       "3            Audi  Gasoline    All-wheel Drive   \n",
       "4             BMW  Gasoline    All-wheel Drive   \n",
       "...           ...       ...                ...   \n",
       "7824         Jeep  Gasoline   Four-wheel Drive   \n",
       "7825          BMW  Gasoline    All-wheel Drive   \n",
       "7826          GMC  Gasoline   Four-wheel Drive   \n",
       "7827          GMC  Gasoline    All-wheel Drive   \n",
       "7828       Subaru  Gasoline    All-wheel Drive   \n",
       "\n",
       "                         transmission                 exterior_color  \\\n",
       "0                     Fully Automatic                   Black Shades   \n",
       "1                     Fully Automatic                    Grey Shades   \n",
       "2                     Fully Automatic  Gold/ Brown and Orange Shades   \n",
       "3                     Fully Automatic                   Black Shades   \n",
       "4                     Fully Automatic                    Grey Shades   \n",
       "...                               ...                            ...   \n",
       "7824                  Fully Automatic                   White Shades   \n",
       "7825  Tiptronic / Shiftable Automatic                    Grey Shades   \n",
       "7826                  Fully Automatic                   White Shades   \n",
       "7827                  Fully Automatic                   Black Shades   \n",
       "7828                  Fully Automatic                    Grey Shades   \n",
       "\n",
       "              interior_color  accidents_or_damage  1_owner_vehicle  \n",
       "0               Black Shades  No accidents/damage      First owner  \n",
       "1                     Others  had accident/damage      First owner  \n",
       "2               Black Shades  had accident/damage  Multiple owners  \n",
       "3               Black Shades  had accident/damage  Multiple owners  \n",
       "4               Black Shades  No accidents/damage      First owner  \n",
       "...                      ...                  ...              ...  \n",
       "7824            Black Shades  No accidents/damage      First owner  \n",
       "7825  Brown and Beige Shades  No accidents/damage      First owner  \n",
       "7826            Black Shades  No accidents/damage      First owner  \n",
       "7827            Black Shades  had accident/damage  Multiple owners  \n",
       "7828            Black Shades  No accidents/damage      First owner  \n",
       "\n",
       "[7829 rows x 14 columns]"
      ]
     },
     "execution_count": 78,
     "metadata": {},
     "output_type": "execute_result"
    }
   ],
   "source": [
    "df.reset_index(inplace=True) # Resets the index of the DataFrame\n",
    "df.drop('index',axis=1,inplace=True) # Drops the old index column\n",
    "df  # Shows the updated DataFrame with a the new index"
   ]
  },
  {
   "cell_type": "code",
   "execution_count": 79,
   "id": "c9e4c1ea-5f81-434b-a5b6-7a2634fd6817",
   "metadata": {},
   "outputs": [
    {
     "data": {
      "text/html": [
       "<div>\n",
       "<style scoped>\n",
       "    .dataframe tbody tr th:only-of-type {\n",
       "        vertical-align: middle;\n",
       "    }\n",
       "\n",
       "    .dataframe tbody tr th {\n",
       "        vertical-align: top;\n",
       "    }\n",
       "\n",
       "    .dataframe thead th {\n",
       "        text-align: right;\n",
       "    }\n",
       "</style>\n",
       "<table border=\"1\" class=\"dataframe\">\n",
       "  <thead>\n",
       "    <tr style=\"text-align: right;\">\n",
       "      <th></th>\n",
       "      <th>mileage_mi</th>\n",
       "      <th>price</th>\n",
       "      <th>model_year</th>\n",
       "      <th>car_age</th>\n",
       "    </tr>\n",
       "  </thead>\n",
       "  <tbody>\n",
       "    <tr>\n",
       "      <th>count</th>\n",
       "      <td>7829.000000</td>\n",
       "      <td>7.829000e+03</td>\n",
       "      <td>7829.000000</td>\n",
       "      <td>7829.000000</td>\n",
       "    </tr>\n",
       "    <tr>\n",
       "      <th>mean</th>\n",
       "      <td>36897.756546</td>\n",
       "      <td>3.874261e+04</td>\n",
       "      <td>2019.523822</td>\n",
       "      <td>5.476178</td>\n",
       "    </tr>\n",
       "    <tr>\n",
       "      <th>std</th>\n",
       "      <td>44121.228585</td>\n",
       "      <td>4.391740e+04</td>\n",
       "      <td>5.725014</td>\n",
       "      <td>5.725014</td>\n",
       "    </tr>\n",
       "    <tr>\n",
       "      <th>min</th>\n",
       "      <td>0.000000</td>\n",
       "      <td>1.997000e+03</td>\n",
       "      <td>1982.000000</td>\n",
       "      <td>0.000000</td>\n",
       "    </tr>\n",
       "    <tr>\n",
       "      <th>25%</th>\n",
       "      <td>10.000000</td>\n",
       "      <td>2.087500e+04</td>\n",
       "      <td>2017.000000</td>\n",
       "      <td>1.000000</td>\n",
       "    </tr>\n",
       "    <tr>\n",
       "      <th>50%</th>\n",
       "      <td>20821.000000</td>\n",
       "      <td>3.139400e+04</td>\n",
       "      <td>2021.000000</td>\n",
       "      <td>4.000000</td>\n",
       "    </tr>\n",
       "    <tr>\n",
       "      <th>75%</th>\n",
       "      <td>63574.000000</td>\n",
       "      <td>4.617000e+04</td>\n",
       "      <td>2024.000000</td>\n",
       "      <td>8.000000</td>\n",
       "    </tr>\n",
       "    <tr>\n",
       "      <th>max</th>\n",
       "      <td>324349.000000</td>\n",
       "      <td>1.699800e+06</td>\n",
       "      <td>2025.000000</td>\n",
       "      <td>43.000000</td>\n",
       "    </tr>\n",
       "  </tbody>\n",
       "</table>\n",
       "</div>"
      ],
      "text/plain": [
       "          mileage_mi         price   model_year      car_age\n",
       "count    7829.000000  7.829000e+03  7829.000000  7829.000000\n",
       "mean    36897.756546  3.874261e+04  2019.523822     5.476178\n",
       "std     44121.228585  4.391740e+04     5.725014     5.725014\n",
       "min         0.000000  1.997000e+03  1982.000000     0.000000\n",
       "25%        10.000000  2.087500e+04  2017.000000     1.000000\n",
       "50%     20821.000000  3.139400e+04  2021.000000     4.000000\n",
       "75%     63574.000000  4.617000e+04  2024.000000     8.000000\n",
       "max    324349.000000  1.699800e+06  2025.000000    43.000000"
      ]
     },
     "execution_count": 79,
     "metadata": {},
     "output_type": "execute_result"
    }
   ],
   "source": [
    "df.describe() # Shows a summary statistics for all numerical columns in the DataFrame"
   ]
  },
  {
   "cell_type": "code",
   "execution_count": 80,
   "id": "d7bef73c-21da-4618-865d-1f31835b2a76",
   "metadata": {},
   "outputs": [
    {
     "data": {
      "text/html": [
       "<div>\n",
       "<style scoped>\n",
       "    .dataframe tbody tr th:only-of-type {\n",
       "        vertical-align: middle;\n",
       "    }\n",
       "\n",
       "    .dataframe tbody tr th {\n",
       "        vertical-align: top;\n",
       "    }\n",
       "\n",
       "    .dataframe thead th {\n",
       "        text-align: right;\n",
       "    }\n",
       "</style>\n",
       "<table border=\"1\" class=\"dataframe\">\n",
       "  <thead>\n",
       "    <tr style=\"text-align: right;\">\n",
       "      <th></th>\n",
       "      <th>condition</th>\n",
       "      <th>state</th>\n",
       "      <th>manufacturer</th>\n",
       "      <th>fuel_type</th>\n",
       "      <th>drivetrain</th>\n",
       "      <th>transmission</th>\n",
       "      <th>exterior_color</th>\n",
       "      <th>interior_color</th>\n",
       "      <th>accidents_or_damage</th>\n",
       "      <th>1_owner_vehicle</th>\n",
       "    </tr>\n",
       "  </thead>\n",
       "  <tbody>\n",
       "    <tr>\n",
       "      <th>count</th>\n",
       "      <td>7829</td>\n",
       "      <td>7829</td>\n",
       "      <td>7829</td>\n",
       "      <td>7829</td>\n",
       "      <td>7829</td>\n",
       "      <td>7829</td>\n",
       "      <td>7829</td>\n",
       "      <td>7829</td>\n",
       "      <td>7829</td>\n",
       "      <td>7829</td>\n",
       "    </tr>\n",
       "    <tr>\n",
       "      <th>unique</th>\n",
       "      <td>3</td>\n",
       "      <td>2</td>\n",
       "      <td>51</td>\n",
       "      <td>4</td>\n",
       "      <td>4</td>\n",
       "      <td>6</td>\n",
       "      <td>8</td>\n",
       "      <td>9</td>\n",
       "      <td>2</td>\n",
       "      <td>2</td>\n",
       "    </tr>\n",
       "    <tr>\n",
       "      <th>top</th>\n",
       "      <td>Used</td>\n",
       "      <td>Illinois</td>\n",
       "      <td>Jeep</td>\n",
       "      <td>Gasoline</td>\n",
       "      <td>All-wheel Drive</td>\n",
       "      <td>Fully Automatic</td>\n",
       "      <td>Grey Shades</td>\n",
       "      <td>Black Shades</td>\n",
       "      <td>No accidents/damage</td>\n",
       "      <td>First owner</td>\n",
       "    </tr>\n",
       "    <tr>\n",
       "      <th>freq</th>\n",
       "      <td>4454</td>\n",
       "      <td>7524</td>\n",
       "      <td>732</td>\n",
       "      <td>7082</td>\n",
       "      <td>3388</td>\n",
       "      <td>7102</td>\n",
       "      <td>3022</td>\n",
       "      <td>5356</td>\n",
       "      <td>6162</td>\n",
       "      <td>5346</td>\n",
       "    </tr>\n",
       "  </tbody>\n",
       "</table>\n",
       "</div>"
      ],
      "text/plain": [
       "       condition     state manufacturer fuel_type       drivetrain  \\\n",
       "count       7829      7829         7829      7829             7829   \n",
       "unique         3         2           51         4                4   \n",
       "top         Used  Illinois         Jeep  Gasoline  All-wheel Drive   \n",
       "freq        4454      7524          732      7082             3388   \n",
       "\n",
       "           transmission exterior_color interior_color  accidents_or_damage  \\\n",
       "count              7829           7829           7829                 7829   \n",
       "unique                6              8              9                    2   \n",
       "top     Fully Automatic    Grey Shades   Black Shades  No accidents/damage   \n",
       "freq               7102           3022           5356                 6162   \n",
       "\n",
       "       1_owner_vehicle  \n",
       "count             7829  \n",
       "unique               2  \n",
       "top        First owner  \n",
       "freq              5346  "
      ]
     },
     "execution_count": 80,
     "metadata": {},
     "output_type": "execute_result"
    }
   ],
   "source": [
    "df.describe(include= 'O') # Shows a summary statistics for all categorical columns in the DataFrame"
   ]
  },
  {
   "cell_type": "markdown",
   "id": "e086be01-f840-497d-9b37-62ca968abe4e",
   "metadata": {
    "jp-MarkdownHeadingCollapsed": true
   },
   "source": [
    "# Detecting Outliers"
   ]
  },
  {
   "cell_type": "code",
   "execution_count": 81,
   "id": "59193fc6-2ff8-45e8-94b1-7da0d1d3549d",
   "metadata": {},
   "outputs": [
    {
     "data": {
      "text/plain": [
       "346"
      ]
     },
     "execution_count": 81,
     "metadata": {},
     "output_type": "execute_result"
    }
   ],
   "source": [
    "outliers_indices_price= detect_outliers(df, 0, ['price']) # Detects outliers in the 'price' column\n",
    "len(outliers_indices_price) # Returns the total number of detected outlier rows in the 'price' column"
   ]
  },
  {
   "cell_type": "code",
   "execution_count": 82,
   "id": "b2142d66-8818-487d-befd-83bba5dadb37",
   "metadata": {},
   "outputs": [
    {
     "data": {
      "text/plain": [
       "<Axes: xlabel='price', ylabel='Density'>"
      ]
     },
     "execution_count": 82,
     "metadata": {},
     "output_type": "execute_result"
    },
    {
     "data": {
      "image/png": "[encoded data removed]",
      "text/plain": [
       "<Figure size 640x480 with 1 Axes>"
      ]
     },
     "metadata": {},
     "output_type": "display_data"
    }
   ],
   "source": [
    "sns.kdeplot(df, x='price') # Shows the curve distribution of the 'price' column"
   ]
  },
  {
   "cell_type": "code",
   "execution_count": 83,
   "id": "7dfa3411-444e-4453-8d86-e381a4d8b5c5",
   "metadata": {},
   "outputs": [
    {
     "data": {
      "text/plain": [
       "<Axes: xlabel='price'>"
      ]
     },
     "execution_count": 83,
     "metadata": {},
     "output_type": "execute_result"
    },
    {
     "data": {
      "image/png": "[encoded data removed]",
      "text/plain": [
       "<Figure size 640x480 with 1 Axes>"
      ]
     },
     "metadata": {},
     "output_type": "display_data"
    }
   ],
   "source": [
    "# Creates plots to show the distribution, median, and potential outliers in the 'price' column\n",
    "sns.boxplot(data=df, x='price')\n",
    "sns.stripplot(df, x='price', color=\"#474646\")"
   ]
  },
  {
   "cell_type": "code",
   "execution_count": 84,
   "id": "c5840d59-c197-477b-b640-7681f90da2e2",
   "metadata": {},
   "outputs": [
    {
     "data": {
      "text/html": [
       "<div>\n",
       "<style scoped>\n",
       "    .dataframe tbody tr th:only-of-type {\n",
       "        vertical-align: middle;\n",
       "    }\n",
       "\n",
       "    .dataframe tbody tr th {\n",
       "        vertical-align: top;\n",
       "    }\n",
       "\n",
       "    .dataframe thead th {\n",
       "        text-align: right;\n",
       "    }\n",
       "</style>\n",
       "<table border=\"1\" class=\"dataframe\">\n",
       "  <thead>\n",
       "    <tr style=\"text-align: right;\">\n",
       "      <th></th>\n",
       "      <th>condition</th>\n",
       "      <th>mileage_mi</th>\n",
       "      <th>price</th>\n",
       "      <th>state</th>\n",
       "      <th>model_year</th>\n",
       "      <th>car_age</th>\n",
       "      <th>manufacturer</th>\n",
       "      <th>fuel_type</th>\n",
       "      <th>drivetrain</th>\n",
       "      <th>transmission</th>\n",
       "      <th>exterior_color</th>\n",
       "      <th>interior_color</th>\n",
       "      <th>accidents_or_damage</th>\n",
       "      <th>1_owner_vehicle</th>\n",
       "    </tr>\n",
       "  </thead>\n",
       "  <tbody>\n",
       "    <tr>\n",
       "      <th>0</th>\n",
       "      <td>New</td>\n",
       "      <td>0</td>\n",
       "      <td>112865</td>\n",
       "      <td>Illinois</td>\n",
       "      <td>2024</td>\n",
       "      <td>1</td>\n",
       "      <td>Lexus</td>\n",
       "      <td>Gasoline</td>\n",
       "      <td>Rear-wheel Drive</td>\n",
       "      <td>Fully Automatic</td>\n",
       "      <td>Black Shades</td>\n",
       "      <td>Black Shades</td>\n",
       "      <td>No accidents/damage</td>\n",
       "      <td>First owner</td>\n",
       "    </tr>\n",
       "    <tr>\n",
       "      <th>2</th>\n",
       "      <td>Used</td>\n",
       "      <td>6305</td>\n",
       "      <td>219997</td>\n",
       "      <td>Illinois</td>\n",
       "      <td>2016</td>\n",
       "      <td>9</td>\n",
       "      <td>McLaren</td>\n",
       "      <td>Gasoline</td>\n",
       "      <td>Rear-wheel Drive</td>\n",
       "      <td>Fully Automatic</td>\n",
       "      <td>Gold/ Brown and Orange Shades</td>\n",
       "      <td>Black Shades</td>\n",
       "      <td>had accident/damage</td>\n",
       "      <td>Multiple owners</td>\n",
       "    </tr>\n",
       "    <tr>\n",
       "      <th>23</th>\n",
       "      <td>New</td>\n",
       "      <td>0</td>\n",
       "      <td>106615</td>\n",
       "      <td>Illinois</td>\n",
       "      <td>2023</td>\n",
       "      <td>2</td>\n",
       "      <td>Lexus</td>\n",
       "      <td>Gasoline</td>\n",
       "      <td>Rear-wheel Drive</td>\n",
       "      <td>Fully Automatic</td>\n",
       "      <td>Black Shades</td>\n",
       "      <td>Red Shades</td>\n",
       "      <td>No accidents/damage</td>\n",
       "      <td>First owner</td>\n",
       "    </tr>\n",
       "    <tr>\n",
       "      <th>65</th>\n",
       "      <td>New</td>\n",
       "      <td>0</td>\n",
       "      <td>115425</td>\n",
       "      <td>Illinois</td>\n",
       "      <td>2024</td>\n",
       "      <td>1</td>\n",
       "      <td>Lexus</td>\n",
       "      <td>Gasoline</td>\n",
       "      <td>Rear-wheel Drive</td>\n",
       "      <td>Fully Automatic</td>\n",
       "      <td>Red Shades</td>\n",
       "      <td>Black Shades</td>\n",
       "      <td>No accidents/damage</td>\n",
       "      <td>First owner</td>\n",
       "    </tr>\n",
       "    <tr>\n",
       "      <th>67</th>\n",
       "      <td>Used</td>\n",
       "      <td>852</td>\n",
       "      <td>339800</td>\n",
       "      <td>Illinois</td>\n",
       "      <td>2016</td>\n",
       "      <td>9</td>\n",
       "      <td>McLaren</td>\n",
       "      <td>Gasoline</td>\n",
       "      <td>Rear-wheel Drive</td>\n",
       "      <td>Semi-Automatic / Dual-Clutch</td>\n",
       "      <td>Grey Shades</td>\n",
       "      <td>Black Shades</td>\n",
       "      <td>No accidents/damage</td>\n",
       "      <td>Multiple owners</td>\n",
       "    </tr>\n",
       "    <tr>\n",
       "      <th>...</th>\n",
       "      <td>...</td>\n",
       "      <td>...</td>\n",
       "      <td>...</td>\n",
       "      <td>...</td>\n",
       "      <td>...</td>\n",
       "      <td>...</td>\n",
       "      <td>...</td>\n",
       "      <td>...</td>\n",
       "      <td>...</td>\n",
       "      <td>...</td>\n",
       "      <td>...</td>\n",
       "      <td>...</td>\n",
       "      <td>...</td>\n",
       "      <td>...</td>\n",
       "    </tr>\n",
       "    <tr>\n",
       "      <th>7659</th>\n",
       "      <td>Used</td>\n",
       "      <td>498</td>\n",
       "      <td>249895</td>\n",
       "      <td>Illinois</td>\n",
       "      <td>2023</td>\n",
       "      <td>2</td>\n",
       "      <td>Porsche</td>\n",
       "      <td>Gasoline</td>\n",
       "      <td>Rear-wheel Drive</td>\n",
       "      <td>Fully Automatic</td>\n",
       "      <td>Grey Shades</td>\n",
       "      <td>Black Shades</td>\n",
       "      <td>No accidents/damage</td>\n",
       "      <td>Multiple owners</td>\n",
       "    </tr>\n",
       "    <tr>\n",
       "      <th>7686</th>\n",
       "      <td>Used</td>\n",
       "      <td>16987</td>\n",
       "      <td>85000</td>\n",
       "      <td>Illinois</td>\n",
       "      <td>2021</td>\n",
       "      <td>4</td>\n",
       "      <td>Cadillac</td>\n",
       "      <td>Gasoline</td>\n",
       "      <td>Four-wheel Drive</td>\n",
       "      <td>Fully Automatic</td>\n",
       "      <td>Others</td>\n",
       "      <td>Grey and Silver Shades</td>\n",
       "      <td>had accident/damage</td>\n",
       "      <td>First owner</td>\n",
       "    </tr>\n",
       "    <tr>\n",
       "      <th>7695</th>\n",
       "      <td>Certified Pre-Owned (CPO)</td>\n",
       "      <td>7531</td>\n",
       "      <td>275800</td>\n",
       "      <td>Illinois</td>\n",
       "      <td>2021</td>\n",
       "      <td>4</td>\n",
       "      <td>Rolls-Royce</td>\n",
       "      <td>Gasoline</td>\n",
       "      <td>All-wheel Drive</td>\n",
       "      <td>Fully Automatic</td>\n",
       "      <td>Black Shades</td>\n",
       "      <td>Others</td>\n",
       "      <td>No accidents/damage</td>\n",
       "      <td>First owner</td>\n",
       "    </tr>\n",
       "    <tr>\n",
       "      <th>7772</th>\n",
       "      <td>Used</td>\n",
       "      <td>9526</td>\n",
       "      <td>109800</td>\n",
       "      <td>Illinois</td>\n",
       "      <td>2023</td>\n",
       "      <td>2</td>\n",
       "      <td>Cadillac</td>\n",
       "      <td>Gasoline</td>\n",
       "      <td>Four-wheel Drive</td>\n",
       "      <td>Tiptronic / Shiftable Automatic</td>\n",
       "      <td>Grey Shades</td>\n",
       "      <td>Black Shades</td>\n",
       "      <td>No accidents/damage</td>\n",
       "      <td>Multiple owners</td>\n",
       "    </tr>\n",
       "    <tr>\n",
       "      <th>7822</th>\n",
       "      <td>Used</td>\n",
       "      <td>6657</td>\n",
       "      <td>144800</td>\n",
       "      <td>Illinois</td>\n",
       "      <td>2012</td>\n",
       "      <td>13</td>\n",
       "      <td>Mercedes-Benz</td>\n",
       "      <td>Gasoline</td>\n",
       "      <td>Rear-wheel Drive</td>\n",
       "      <td>Semi-Automatic / Dual-Clutch</td>\n",
       "      <td>Grey Shades</td>\n",
       "      <td>Brown and Beige Shades</td>\n",
       "      <td>No accidents/damage</td>\n",
       "      <td>Multiple owners</td>\n",
       "    </tr>\n",
       "  </tbody>\n",
       "</table>\n",
       "<p>346 rows × 14 columns</p>\n",
       "</div>"
      ],
      "text/plain": [
       "                      condition  mileage_mi   price     state  model_year  \\\n",
       "0                           New           0  112865  Illinois        2024   \n",
       "2                          Used        6305  219997  Illinois        2016   \n",
       "23                          New           0  106615  Illinois        2023   \n",
       "65                          New           0  115425  Illinois        2024   \n",
       "67                         Used         852  339800  Illinois        2016   \n",
       "...                         ...         ...     ...       ...         ...   \n",
       "7659                       Used         498  249895  Illinois        2023   \n",
       "7686                       Used       16987   85000  Illinois        2021   \n",
       "7695  Certified Pre-Owned (CPO)        7531  275800  Illinois        2021   \n",
       "7772                       Used        9526  109800  Illinois        2023   \n",
       "7822                       Used        6657  144800  Illinois        2012   \n",
       "\n",
       "      car_age   manufacturer fuel_type        drivetrain  \\\n",
       "0           1          Lexus  Gasoline  Rear-wheel Drive   \n",
       "2           9        McLaren  Gasoline  Rear-wheel Drive   \n",
       "23          2          Lexus  Gasoline  Rear-wheel Drive   \n",
       "65          1          Lexus  Gasoline  Rear-wheel Drive   \n",
       "67          9        McLaren  Gasoline  Rear-wheel Drive   \n",
       "...       ...            ...       ...               ...   \n",
       "7659        2        Porsche  Gasoline  Rear-wheel Drive   \n",
       "7686        4       Cadillac  Gasoline  Four-wheel Drive   \n",
       "7695        4    Rolls-Royce  Gasoline   All-wheel Drive   \n",
       "7772        2       Cadillac  Gasoline  Four-wheel Drive   \n",
       "7822       13  Mercedes-Benz  Gasoline  Rear-wheel Drive   \n",
       "\n",
       "                         transmission                 exterior_color  \\\n",
       "0                     Fully Automatic                   Black Shades   \n",
       "2                     Fully Automatic  Gold/ Brown and Orange Shades   \n",
       "23                    Fully Automatic                   Black Shades   \n",
       "65                    Fully Automatic                     Red Shades   \n",
       "67       Semi-Automatic / Dual-Clutch                    Grey Shades   \n",
       "...                               ...                            ...   \n",
       "7659                  Fully Automatic                    Grey Shades   \n",
       "7686                  Fully Automatic                         Others   \n",
       "7695                  Fully Automatic                   Black Shades   \n",
       "7772  Tiptronic / Shiftable Automatic                    Grey Shades   \n",
       "7822     Semi-Automatic / Dual-Clutch                    Grey Shades   \n",
       "\n",
       "              interior_color  accidents_or_damage  1_owner_vehicle  \n",
       "0               Black Shades  No accidents/damage      First owner  \n",
       "2               Black Shades  had accident/damage  Multiple owners  \n",
       "23                Red Shades  No accidents/damage      First owner  \n",
       "65              Black Shades  No accidents/damage      First owner  \n",
       "67              Black Shades  No accidents/damage  Multiple owners  \n",
       "...                      ...                  ...              ...  \n",
       "7659            Black Shades  No accidents/damage  Multiple owners  \n",
       "7686  Grey and Silver Shades  had accident/damage      First owner  \n",
       "7695                  Others  No accidents/damage      First owner  \n",
       "7772            Black Shades  No accidents/damage  Multiple owners  \n",
       "7822  Brown and Beige Shades  No accidents/damage  Multiple owners  \n",
       "\n",
       "[346 rows x 14 columns]"
      ]
     },
     "execution_count": 84,
     "metadata": {},
     "output_type": "execute_result"
    }
   ],
   "source": [
    "df.loc[outliers_indices_price] # Shows all rows from the DataFrame that are identified as outliers in the 'price' column"
   ]
  },
  {
   "cell_type": "markdown",
   "id": "7c25c656-bab2-4348-95fd-e34c7abec199",
   "metadata": {},
   "source": [
    "Note:\n",
    "\n",
    "When I serached about those outliers, I found that most cars are over/under priced. Some cars are over priced and some cars are under priced which means that they are outliers and it is adviced to remove them"
   ]
  },
  {
   "cell_type": "code",
   "execution_count": 85,
   "id": "21ca7fcf-986a-46a4-9577-de5d8001cb31",
   "metadata": {},
   "outputs": [
    {
     "data": {
      "text/plain": [
       "118"
      ]
     },
     "execution_count": 85,
     "metadata": {},
     "output_type": "execute_result"
    }
   ],
   "source": [
    "outliers_indices_mi= detect_outliers(df, 0, ['mileage_mi']) # Detects outliers in the 'mileage_mi' column\n",
    "len(outliers_indices_mi) # Returns the number of detected outlier rows in the 'mileage_mi' column"
   ]
  },
  {
   "cell_type": "code",
   "execution_count": 86,
   "id": "7609c986-3f4f-4846-a21c-785270e816de",
   "metadata": {},
   "outputs": [
    {
     "data": {
      "text/plain": [
       "<Axes: xlabel='mileage_mi', ylabel='Density'>"
      ]
     },
     "execution_count": 86,
     "metadata": {},
     "output_type": "execute_result"
    },
    {
     "data": {
      "image/png": "[encoded data removed]",
      "text/plain": [
       "<Figure size 640x480 with 1 Axes>"
      ]
     },
     "metadata": {},
     "output_type": "display_data"
    }
   ],
   "source": [
    "sns.kdeplot(df, x='mileage_mi') # Shows the curve distribution of the 'mileage_mi' column"
   ]
  },
  {
   "cell_type": "code",
   "execution_count": 87,
   "id": "a6b5478f-b042-4bfb-8e5c-78447da965d4",
   "metadata": {},
   "outputs": [
    {
     "data": {
      "text/plain": [
       "<Axes: xlabel='mileage_mi'>"
      ]
     },
     "execution_count": 87,
     "metadata": {},
     "output_type": "execute_result"
    },
    {
     "data": {
      "image/png": "[encoded data removed]",
      "text/plain": [
       "<Figure size 640x480 with 1 Axes>"
      ]
     },
     "metadata": {},
     "output_type": "display_data"
    }
   ],
   "source": [
    "# Creates plots to show the distribution, median, and potential outliers in the 'price' column\n",
    "sns.boxplot(data=df, x='mileage_mi')\n",
    "sns.stripplot(df, x='mileage_mi', color=\"#474646\")"
   ]
  },
  {
   "cell_type": "code",
   "execution_count": 88,
   "id": "af732505-a5ad-4458-98de-8164951e88ce",
   "metadata": {},
   "outputs": [
    {
     "data": {
      "text/html": [
       "<div>\n",
       "<style scoped>\n",
       "    .dataframe tbody tr th:only-of-type {\n",
       "        vertical-align: middle;\n",
       "    }\n",
       "\n",
       "    .dataframe tbody tr th {\n",
       "        vertical-align: top;\n",
       "    }\n",
       "\n",
       "    .dataframe thead th {\n",
       "        text-align: right;\n",
       "    }\n",
       "</style>\n",
       "<table border=\"1\" class=\"dataframe\">\n",
       "  <thead>\n",
       "    <tr style=\"text-align: right;\">\n",
       "      <th></th>\n",
       "      <th>condition</th>\n",
       "      <th>mileage_mi</th>\n",
       "      <th>price</th>\n",
       "      <th>state</th>\n",
       "      <th>model_year</th>\n",
       "      <th>car_age</th>\n",
       "      <th>manufacturer</th>\n",
       "      <th>fuel_type</th>\n",
       "      <th>drivetrain</th>\n",
       "      <th>transmission</th>\n",
       "      <th>exterior_color</th>\n",
       "      <th>interior_color</th>\n",
       "      <th>accidents_or_damage</th>\n",
       "      <th>1_owner_vehicle</th>\n",
       "    </tr>\n",
       "  </thead>\n",
       "  <tbody>\n",
       "    <tr>\n",
       "      <th>17</th>\n",
       "      <td>Used</td>\n",
       "      <td>181000</td>\n",
       "      <td>9995</td>\n",
       "      <td>Illinois</td>\n",
       "      <td>2011</td>\n",
       "      <td>14</td>\n",
       "      <td>Ford</td>\n",
       "      <td>Flex Fuel</td>\n",
       "      <td>Rear-wheel Drive</td>\n",
       "      <td>Fully Automatic</td>\n",
       "      <td>Red Shades</td>\n",
       "      <td>Black Shades</td>\n",
       "      <td>had accident/damage</td>\n",
       "      <td>Multiple owners</td>\n",
       "    </tr>\n",
       "    <tr>\n",
       "      <th>31</th>\n",
       "      <td>Used</td>\n",
       "      <td>168725</td>\n",
       "      <td>9945</td>\n",
       "      <td>Illinois</td>\n",
       "      <td>2012</td>\n",
       "      <td>13</td>\n",
       "      <td>Toyota</td>\n",
       "      <td>Hybrid</td>\n",
       "      <td>Front-wheel Drive</td>\n",
       "      <td>Fully Automatic</td>\n",
       "      <td>Grey Shades</td>\n",
       "      <td>Grey and Silver Shades</td>\n",
       "      <td>No accidents/damage</td>\n",
       "      <td>First owner</td>\n",
       "    </tr>\n",
       "    <tr>\n",
       "      <th>33</th>\n",
       "      <td>Used</td>\n",
       "      <td>173694</td>\n",
       "      <td>4550</td>\n",
       "      <td>Illinois</td>\n",
       "      <td>2007</td>\n",
       "      <td>18</td>\n",
       "      <td>Jeep</td>\n",
       "      <td>Gasoline</td>\n",
       "      <td>Four-wheel Drive</td>\n",
       "      <td>Fully Automatic</td>\n",
       "      <td>Grey Shades</td>\n",
       "      <td>Brown and Beige Shades</td>\n",
       "      <td>had accident/damage</td>\n",
       "      <td>Multiple owners</td>\n",
       "    </tr>\n",
       "    <tr>\n",
       "      <th>37</th>\n",
       "      <td>Used</td>\n",
       "      <td>162296</td>\n",
       "      <td>8888</td>\n",
       "      <td>Illinois</td>\n",
       "      <td>2013</td>\n",
       "      <td>12</td>\n",
       "      <td>INFINITI</td>\n",
       "      <td>Gasoline</td>\n",
       "      <td>All-wheel Drive</td>\n",
       "      <td>Fully Automatic</td>\n",
       "      <td>Black Shades</td>\n",
       "      <td>Black Shades</td>\n",
       "      <td>No accidents/damage</td>\n",
       "      <td>First owner</td>\n",
       "    </tr>\n",
       "    <tr>\n",
       "      <th>38</th>\n",
       "      <td>Used</td>\n",
       "      <td>167082</td>\n",
       "      <td>7777</td>\n",
       "      <td>Illinois</td>\n",
       "      <td>2008</td>\n",
       "      <td>17</td>\n",
       "      <td>Lexus</td>\n",
       "      <td>Hybrid</td>\n",
       "      <td>All-wheel Drive</td>\n",
       "      <td>Fully Automatic</td>\n",
       "      <td>Red Shades</td>\n",
       "      <td>Brown and Beige Shades</td>\n",
       "      <td>had accident/damage</td>\n",
       "      <td>First owner</td>\n",
       "    </tr>\n",
       "    <tr>\n",
       "      <th>...</th>\n",
       "      <td>...</td>\n",
       "      <td>...</td>\n",
       "      <td>...</td>\n",
       "      <td>...</td>\n",
       "      <td>...</td>\n",
       "      <td>...</td>\n",
       "      <td>...</td>\n",
       "      <td>...</td>\n",
       "      <td>...</td>\n",
       "      <td>...</td>\n",
       "      <td>...</td>\n",
       "      <td>...</td>\n",
       "      <td>...</td>\n",
       "      <td>...</td>\n",
       "    </tr>\n",
       "    <tr>\n",
       "      <th>7523</th>\n",
       "      <td>Used</td>\n",
       "      <td>203389</td>\n",
       "      <td>3600</td>\n",
       "      <td>Illinois</td>\n",
       "      <td>2009</td>\n",
       "      <td>16</td>\n",
       "      <td>Toyota</td>\n",
       "      <td>Gasoline</td>\n",
       "      <td>Front-wheel Drive</td>\n",
       "      <td>Fully Automatic</td>\n",
       "      <td>Gold/ Brown and Orange Shades</td>\n",
       "      <td>Grey and Silver Shades</td>\n",
       "      <td>had accident/damage</td>\n",
       "      <td>Multiple owners</td>\n",
       "    </tr>\n",
       "    <tr>\n",
       "      <th>7580</th>\n",
       "      <td>Used</td>\n",
       "      <td>171704</td>\n",
       "      <td>9995</td>\n",
       "      <td>Illinois</td>\n",
       "      <td>2011</td>\n",
       "      <td>14</td>\n",
       "      <td>Honda</td>\n",
       "      <td>Gasoline</td>\n",
       "      <td>Front-wheel Drive</td>\n",
       "      <td>Fully Automatic</td>\n",
       "      <td>Black Shades</td>\n",
       "      <td>Brown and Beige Shades</td>\n",
       "      <td>No accidents/damage</td>\n",
       "      <td>Multiple owners</td>\n",
       "    </tr>\n",
       "    <tr>\n",
       "      <th>7593</th>\n",
       "      <td>Used</td>\n",
       "      <td>208038</td>\n",
       "      <td>2899</td>\n",
       "      <td>Illinois</td>\n",
       "      <td>2010</td>\n",
       "      <td>15</td>\n",
       "      <td>Lincoln</td>\n",
       "      <td>Gasoline</td>\n",
       "      <td>All-wheel Drive</td>\n",
       "      <td>Fully Automatic</td>\n",
       "      <td>Grey Shades</td>\n",
       "      <td>Black Shades</td>\n",
       "      <td>No accidents/damage</td>\n",
       "      <td>Multiple owners</td>\n",
       "    </tr>\n",
       "    <tr>\n",
       "      <th>7739</th>\n",
       "      <td>Used</td>\n",
       "      <td>324349</td>\n",
       "      <td>5888</td>\n",
       "      <td>Illinois</td>\n",
       "      <td>2009</td>\n",
       "      <td>16</td>\n",
       "      <td>INFINITI</td>\n",
       "      <td>Gasoline</td>\n",
       "      <td>All-wheel Drive</td>\n",
       "      <td>Fully Automatic</td>\n",
       "      <td>Black Shades</td>\n",
       "      <td>Black Shades</td>\n",
       "      <td>No accidents/damage</td>\n",
       "      <td>First owner</td>\n",
       "    </tr>\n",
       "    <tr>\n",
       "      <th>7762</th>\n",
       "      <td>Used</td>\n",
       "      <td>204560</td>\n",
       "      <td>15800</td>\n",
       "      <td>Illinois</td>\n",
       "      <td>2004</td>\n",
       "      <td>21</td>\n",
       "      <td>Ford</td>\n",
       "      <td>Diesel</td>\n",
       "      <td>Four-wheel Drive</td>\n",
       "      <td>Fully Automatic</td>\n",
       "      <td>White Shades</td>\n",
       "      <td>Brown and Beige Shades</td>\n",
       "      <td>No accidents/damage</td>\n",
       "      <td>Multiple owners</td>\n",
       "    </tr>\n",
       "  </tbody>\n",
       "</table>\n",
       "<p>118 rows × 14 columns</p>\n",
       "</div>"
      ],
      "text/plain": [
       "     condition  mileage_mi  price     state  model_year  car_age manufacturer  \\\n",
       "17        Used      181000   9995  Illinois        2011       14         Ford   \n",
       "31        Used      168725   9945  Illinois        2012       13       Toyota   \n",
       "33        Used      173694   4550  Illinois        2007       18         Jeep   \n",
       "37        Used      162296   8888  Illinois        2013       12     INFINITI   \n",
       "38        Used      167082   7777  Illinois        2008       17        Lexus   \n",
       "...        ...         ...    ...       ...         ...      ...          ...   \n",
       "7523      Used      203389   3600  Illinois        2009       16       Toyota   \n",
       "7580      Used      171704   9995  Illinois        2011       14        Honda   \n",
       "7593      Used      208038   2899  Illinois        2010       15      Lincoln   \n",
       "7739      Used      324349   5888  Illinois        2009       16     INFINITI   \n",
       "7762      Used      204560  15800  Illinois        2004       21         Ford   \n",
       "\n",
       "      fuel_type         drivetrain     transmission  \\\n",
       "17    Flex Fuel   Rear-wheel Drive  Fully Automatic   \n",
       "31       Hybrid  Front-wheel Drive  Fully Automatic   \n",
       "33     Gasoline   Four-wheel Drive  Fully Automatic   \n",
       "37     Gasoline    All-wheel Drive  Fully Automatic   \n",
       "38       Hybrid    All-wheel Drive  Fully Automatic   \n",
       "...         ...                ...              ...   \n",
       "7523   Gasoline  Front-wheel Drive  Fully Automatic   \n",
       "7580   Gasoline  Front-wheel Drive  Fully Automatic   \n",
       "7593   Gasoline    All-wheel Drive  Fully Automatic   \n",
       "7739   Gasoline    All-wheel Drive  Fully Automatic   \n",
       "7762     Diesel   Four-wheel Drive  Fully Automatic   \n",
       "\n",
       "                     exterior_color          interior_color  \\\n",
       "17                       Red Shades            Black Shades   \n",
       "31                      Grey Shades  Grey and Silver Shades   \n",
       "33                      Grey Shades  Brown and Beige Shades   \n",
       "37                     Black Shades            Black Shades   \n",
       "38                       Red Shades  Brown and Beige Shades   \n",
       "...                             ...                     ...   \n",
       "7523  Gold/ Brown and Orange Shades  Grey and Silver Shades   \n",
       "7580                   Black Shades  Brown and Beige Shades   \n",
       "7593                    Grey Shades            Black Shades   \n",
       "7739                   Black Shades            Black Shades   \n",
       "7762                   White Shades  Brown and Beige Shades   \n",
       "\n",
       "      accidents_or_damage  1_owner_vehicle  \n",
       "17    had accident/damage  Multiple owners  \n",
       "31    No accidents/damage      First owner  \n",
       "33    had accident/damage  Multiple owners  \n",
       "37    No accidents/damage      First owner  \n",
       "38    had accident/damage      First owner  \n",
       "...                   ...              ...  \n",
       "7523  had accident/damage  Multiple owners  \n",
       "7580  No accidents/damage  Multiple owners  \n",
       "7593  No accidents/damage  Multiple owners  \n",
       "7739  No accidents/damage      First owner  \n",
       "7762  No accidents/damage  Multiple owners  \n",
       "\n",
       "[118 rows x 14 columns]"
      ]
     },
     "execution_count": 88,
     "metadata": {},
     "output_type": "execute_result"
    }
   ],
   "source": [
    "df.loc[outliers_indices_mi] # Shows all rows from the DataFrame that were identified as outliers in the 'mileage_mi' column"
   ]
  },
  {
   "cell_type": "markdown",
   "id": "e7f556f8-221a-4faf-9163-0c4b2ac949ea",
   "metadata": {},
   "source": [
    "Findings:\n",
    "\n",
    "As I searched, I found that some numbers are not logical, plus it is hard to predict if all of those are outliers or not. In this casem it is better to go back to the business and check about those outliers in mileage. Since I am not able to do so, I decided to delete them to be on the save side. Plus the number of outliers here (118 record) are too small compared to the total number of the data (7828). So deleting them will not caues any issue.\n"
   ]
  },
  {
   "cell_type": "markdown",
   "id": "9d15dc62-3ce5-4095-9154-a6860b6ad62e",
   "metadata": {},
   "source": [
    "### Deleting Outliers"
   ]
  },
  {
   "cell_type": "code",
   "execution_count": 89,
   "id": "e7b524d5-186d-4ff1-8e66-786220dd9e26",
   "metadata": {},
   "outputs": [
    {
     "data": {
      "text/plain": [
       "346"
      ]
     },
     "execution_count": 89,
     "metadata": {},
     "output_type": "execute_result"
    }
   ],
   "source": [
    "outliers_indices_price= detect_outliers(df, 0, ['price']) # Detects outliers in the 'price' column\n",
    "len(outliers_indices_price) # Returns the total number of detected outlier rows in the 'price' column"
   ]
  },
  {
   "cell_type": "code",
   "execution_count": 90,
   "id": "f1e3d0f4-45df-4b5e-893a-8247fad0ca6a",
   "metadata": {},
   "outputs": [
    {
     "data": {
      "text/plain": [
       "118"
      ]
     },
     "execution_count": 90,
     "metadata": {},
     "output_type": "execute_result"
    }
   ],
   "source": [
    "outliers_indices_mi= detect_outliers(df, 0, ['mileage_mi']) # Detects outliers in the 'mileage_mi' column\n",
    "len(outliers_indices_mi) # Returns the total number of detected outlier rows in the 'mileage_mi' column"
   ]
  },
  {
   "cell_type": "code",
   "execution_count": 91,
   "id": "759e06e0-e13c-4fb8-8796-3cdc1c515c16",
   "metadata": {},
   "outputs": [],
   "source": [
    "df.drop((outliers_indices_price), inplace= True) # Removes all rows from the DataFrame that are outliers in the 'price' column"
   ]
  },
  {
   "cell_type": "code",
   "execution_count": 92,
   "id": "3bf7a9d0-f881-467f-8f4b-c86e3099445b",
   "metadata": {},
   "outputs": [],
   "source": [
    "df.drop((outliers_indices_mi), inplace= True)"
   ]
  },
  {
   "cell_type": "markdown",
   "id": "8e2f64cc-d68f-4f79-901e-9423a69b3164",
   "metadata": {},
   "source": [
    "### Checking Outliers again"
   ]
  },
  {
   "cell_type": "code",
   "execution_count": 93,
   "id": "b645c024-10df-43eb-ba29-2398617b7382",
   "metadata": {},
   "outputs": [
    {
     "data": {
      "text/plain": [
       "64"
      ]
     },
     "execution_count": 93,
     "metadata": {},
     "output_type": "execute_result"
    }
   ],
   "source": [
    "outliers_indices_price= detect_outliers(df, 0, ['price']) # Detects outliers in the 'price' column\n",
    "len(outliers_indices_price) # Returns the total number of detected outlier rows in the 'price' column"
   ]
  },
  {
   "cell_type": "code",
   "execution_count": 94,
   "id": "226fe60e-9137-46ea-b03c-77031163a59e",
   "metadata": {},
   "outputs": [
    {
     "data": {
      "text/html": [
       "<div>\n",
       "<style scoped>\n",
       "    .dataframe tbody tr th:only-of-type {\n",
       "        vertical-align: middle;\n",
       "    }\n",
       "\n",
       "    .dataframe tbody tr th {\n",
       "        vertical-align: top;\n",
       "    }\n",
       "\n",
       "    .dataframe thead th {\n",
       "        text-align: right;\n",
       "    }\n",
       "</style>\n",
       "<table border=\"1\" class=\"dataframe\">\n",
       "  <thead>\n",
       "    <tr style=\"text-align: right;\">\n",
       "      <th></th>\n",
       "      <th>condition</th>\n",
       "      <th>mileage_mi</th>\n",
       "      <th>price</th>\n",
       "      <th>state</th>\n",
       "      <th>model_year</th>\n",
       "      <th>car_age</th>\n",
       "      <th>manufacturer</th>\n",
       "      <th>fuel_type</th>\n",
       "      <th>drivetrain</th>\n",
       "      <th>transmission</th>\n",
       "      <th>exterior_color</th>\n",
       "      <th>interior_color</th>\n",
       "      <th>accidents_or_damage</th>\n",
       "      <th>1_owner_vehicle</th>\n",
       "    </tr>\n",
       "  </thead>\n",
       "  <tbody>\n",
       "    <tr>\n",
       "      <th>60</th>\n",
       "      <td>Used</td>\n",
       "      <td>14826</td>\n",
       "      <td>78800</td>\n",
       "      <td>Illinois</td>\n",
       "      <td>2017</td>\n",
       "      <td>8</td>\n",
       "      <td>BMW</td>\n",
       "      <td>Gasoline</td>\n",
       "      <td>Rear-wheel Drive</td>\n",
       "      <td>Manual Transmission</td>\n",
       "      <td>Grey Shades</td>\n",
       "      <td>Black Shades</td>\n",
       "      <td>No accidents/damage</td>\n",
       "      <td>Multiple owners</td>\n",
       "    </tr>\n",
       "    <tr>\n",
       "      <th>391</th>\n",
       "      <td>Used</td>\n",
       "      <td>29170</td>\n",
       "      <td>78850</td>\n",
       "      <td>Illinois</td>\n",
       "      <td>2021</td>\n",
       "      <td>4</td>\n",
       "      <td>BMW</td>\n",
       "      <td>Gasoline</td>\n",
       "      <td>All-wheel Drive</td>\n",
       "      <td>Tiptronic / Shiftable Automatic</td>\n",
       "      <td>Black Shades</td>\n",
       "      <td>Black Shades</td>\n",
       "      <td>No accidents/damage</td>\n",
       "      <td>First owner</td>\n",
       "    </tr>\n",
       "    <tr>\n",
       "      <th>669</th>\n",
       "      <td>Used</td>\n",
       "      <td>60970</td>\n",
       "      <td>82499</td>\n",
       "      <td>Illinois</td>\n",
       "      <td>2019</td>\n",
       "      <td>6</td>\n",
       "      <td>Mercedes-Benz</td>\n",
       "      <td>Gasoline</td>\n",
       "      <td>All-wheel Drive</td>\n",
       "      <td>Fully Automatic</td>\n",
       "      <td>Black Shades</td>\n",
       "      <td>Black Shades</td>\n",
       "      <td>No accidents/damage</td>\n",
       "      <td>First owner</td>\n",
       "    </tr>\n",
       "    <tr>\n",
       "      <th>695</th>\n",
       "      <td>Used</td>\n",
       "      <td>32450</td>\n",
       "      <td>78900</td>\n",
       "      <td>Illinois</td>\n",
       "      <td>2019</td>\n",
       "      <td>6</td>\n",
       "      <td>Mercedes-Benz</td>\n",
       "      <td>Gasoline</td>\n",
       "      <td>All-wheel Drive</td>\n",
       "      <td>Fully Automatic</td>\n",
       "      <td>Black Shades</td>\n",
       "      <td>Black Shades</td>\n",
       "      <td>had accident/damage</td>\n",
       "      <td>Multiple owners</td>\n",
       "    </tr>\n",
       "    <tr>\n",
       "      <th>852</th>\n",
       "      <td>Used</td>\n",
       "      <td>39425</td>\n",
       "      <td>79210</td>\n",
       "      <td>Illinois</td>\n",
       "      <td>2021</td>\n",
       "      <td>4</td>\n",
       "      <td>Cadillac</td>\n",
       "      <td>Gasoline</td>\n",
       "      <td>Four-wheel Drive</td>\n",
       "      <td>Fully Automatic</td>\n",
       "      <td>Grey Shades</td>\n",
       "      <td>Black Shades</td>\n",
       "      <td>had accident/damage</td>\n",
       "      <td>Multiple owners</td>\n",
       "    </tr>\n",
       "    <tr>\n",
       "      <th>...</th>\n",
       "      <td>...</td>\n",
       "      <td>...</td>\n",
       "      <td>...</td>\n",
       "      <td>...</td>\n",
       "      <td>...</td>\n",
       "      <td>...</td>\n",
       "      <td>...</td>\n",
       "      <td>...</td>\n",
       "      <td>...</td>\n",
       "      <td>...</td>\n",
       "      <td>...</td>\n",
       "      <td>...</td>\n",
       "      <td>...</td>\n",
       "      <td>...</td>\n",
       "    </tr>\n",
       "    <tr>\n",
       "      <th>7243</th>\n",
       "      <td>Used</td>\n",
       "      <td>14826</td>\n",
       "      <td>78800</td>\n",
       "      <td>Illinois</td>\n",
       "      <td>2017</td>\n",
       "      <td>8</td>\n",
       "      <td>BMW</td>\n",
       "      <td>Gasoline</td>\n",
       "      <td>Rear-wheel Drive</td>\n",
       "      <td>Manual Transmission</td>\n",
       "      <td>Grey Shades</td>\n",
       "      <td>Black Shades</td>\n",
       "      <td>No accidents/damage</td>\n",
       "      <td>Multiple owners</td>\n",
       "    </tr>\n",
       "    <tr>\n",
       "      <th>7323</th>\n",
       "      <td>Used</td>\n",
       "      <td>12920</td>\n",
       "      <td>79777</td>\n",
       "      <td>Illinois</td>\n",
       "      <td>2022</td>\n",
       "      <td>3</td>\n",
       "      <td>Lexus</td>\n",
       "      <td>Gasoline</td>\n",
       "      <td>All-wheel Drive</td>\n",
       "      <td>Fully Automatic</td>\n",
       "      <td>Black Shades</td>\n",
       "      <td>Black Shades</td>\n",
       "      <td>No accidents/damage</td>\n",
       "      <td>First owner</td>\n",
       "    </tr>\n",
       "    <tr>\n",
       "      <th>7533</th>\n",
       "      <td>Used</td>\n",
       "      <td>1309</td>\n",
       "      <td>78800</td>\n",
       "      <td>Illinois</td>\n",
       "      <td>2016</td>\n",
       "      <td>9</td>\n",
       "      <td>Chevrolet</td>\n",
       "      <td>Gasoline</td>\n",
       "      <td>Rear-wheel Drive</td>\n",
       "      <td>Manual Transmission</td>\n",
       "      <td>White Shades</td>\n",
       "      <td>Black Shades</td>\n",
       "      <td>No accidents/damage</td>\n",
       "      <td>First owner</td>\n",
       "    </tr>\n",
       "    <tr>\n",
       "      <th>7586</th>\n",
       "      <td>Certified Pre-Owned (CPO)</td>\n",
       "      <td>40154</td>\n",
       "      <td>83294</td>\n",
       "      <td>Illinois</td>\n",
       "      <td>2023</td>\n",
       "      <td>2</td>\n",
       "      <td>Cadillac</td>\n",
       "      <td>Gasoline</td>\n",
       "      <td>Four-wheel Drive</td>\n",
       "      <td>Fully Automatic</td>\n",
       "      <td>Black Shades</td>\n",
       "      <td>Black Shades</td>\n",
       "      <td>No accidents/damage</td>\n",
       "      <td>First owner</td>\n",
       "    </tr>\n",
       "    <tr>\n",
       "      <th>7644</th>\n",
       "      <td>New</td>\n",
       "      <td>17</td>\n",
       "      <td>79639</td>\n",
       "      <td>Indiana</td>\n",
       "      <td>2024</td>\n",
       "      <td>1</td>\n",
       "      <td>RAM</td>\n",
       "      <td>Gasoline</td>\n",
       "      <td>Four-wheel Drive</td>\n",
       "      <td>Fully Automatic</td>\n",
       "      <td>White Shades</td>\n",
       "      <td>Black Shades</td>\n",
       "      <td>No accidents/damage</td>\n",
       "      <td>First owner</td>\n",
       "    </tr>\n",
       "  </tbody>\n",
       "</table>\n",
       "<p>64 rows × 14 columns</p>\n",
       "</div>"
      ],
      "text/plain": [
       "                      condition  mileage_mi  price     state  model_year  \\\n",
       "60                         Used       14826  78800  Illinois        2017   \n",
       "391                        Used       29170  78850  Illinois        2021   \n",
       "669                        Used       60970  82499  Illinois        2019   \n",
       "695                        Used       32450  78900  Illinois        2019   \n",
       "852                        Used       39425  79210  Illinois        2021   \n",
       "...                         ...         ...    ...       ...         ...   \n",
       "7243                       Used       14826  78800  Illinois        2017   \n",
       "7323                       Used       12920  79777  Illinois        2022   \n",
       "7533                       Used        1309  78800  Illinois        2016   \n",
       "7586  Certified Pre-Owned (CPO)       40154  83294  Illinois        2023   \n",
       "7644                        New          17  79639   Indiana        2024   \n",
       "\n",
       "      car_age   manufacturer fuel_type        drivetrain  \\\n",
       "60          8            BMW  Gasoline  Rear-wheel Drive   \n",
       "391         4            BMW  Gasoline   All-wheel Drive   \n",
       "669         6  Mercedes-Benz  Gasoline   All-wheel Drive   \n",
       "695         6  Mercedes-Benz  Gasoline   All-wheel Drive   \n",
       "852         4       Cadillac  Gasoline  Four-wheel Drive   \n",
       "...       ...            ...       ...               ...   \n",
       "7243        8            BMW  Gasoline  Rear-wheel Drive   \n",
       "7323        3          Lexus  Gasoline   All-wheel Drive   \n",
       "7533        9      Chevrolet  Gasoline  Rear-wheel Drive   \n",
       "7586        2       Cadillac  Gasoline  Four-wheel Drive   \n",
       "7644        1            RAM  Gasoline  Four-wheel Drive   \n",
       "\n",
       "                         transmission exterior_color interior_color  \\\n",
       "60                Manual Transmission    Grey Shades   Black Shades   \n",
       "391   Tiptronic / Shiftable Automatic   Black Shades   Black Shades   \n",
       "669                   Fully Automatic   Black Shades   Black Shades   \n",
       "695                   Fully Automatic   Black Shades   Black Shades   \n",
       "852                   Fully Automatic    Grey Shades   Black Shades   \n",
       "...                               ...            ...            ...   \n",
       "7243              Manual Transmission    Grey Shades   Black Shades   \n",
       "7323                  Fully Automatic   Black Shades   Black Shades   \n",
       "7533              Manual Transmission   White Shades   Black Shades   \n",
       "7586                  Fully Automatic   Black Shades   Black Shades   \n",
       "7644                  Fully Automatic   White Shades   Black Shades   \n",
       "\n",
       "      accidents_or_damage  1_owner_vehicle  \n",
       "60    No accidents/damage  Multiple owners  \n",
       "391   No accidents/damage      First owner  \n",
       "669   No accidents/damage      First owner  \n",
       "695   had accident/damage  Multiple owners  \n",
       "852   had accident/damage  Multiple owners  \n",
       "...                   ...              ...  \n",
       "7243  No accidents/damage  Multiple owners  \n",
       "7323  No accidents/damage      First owner  \n",
       "7533  No accidents/damage      First owner  \n",
       "7586  No accidents/damage      First owner  \n",
       "7644  No accidents/damage      First owner  \n",
       "\n",
       "[64 rows x 14 columns]"
      ]
     },
     "execution_count": 94,
     "metadata": {},
     "output_type": "execute_result"
    }
   ],
   "source": [
    "df.loc[outliers_indices_price] # Shows all rows from the DataFrame that are identified as outliers in the 'price' column"
   ]
  },
  {
   "cell_type": "markdown",
   "id": "b55061ad-a53e-4fb8-b413-0b829b4e50cc",
   "metadata": {},
   "source": [
    "Note:\n",
    "\n",
    "I checked and those prices do not reflect the actual prices in the market. So they have to be deleted to be on the save side"
   ]
  },
  {
   "cell_type": "code",
   "execution_count": 95,
   "id": "3737b186-172a-4ccb-bafb-db4c01f62917",
   "metadata": {},
   "outputs": [],
   "source": [
    "df.drop((outliers_indices_price), inplace= True) # Removes all rows from the DataFrame that are outliers in the 'price' column"
   ]
  },
  {
   "cell_type": "code",
   "execution_count": 96,
   "id": "0531e3b5-c3d4-452c-8d72-5ee4ad0c9404",
   "metadata": {},
   "outputs": [
    {
     "data": {
      "text/plain": [
       "15"
      ]
     },
     "execution_count": 96,
     "metadata": {},
     "output_type": "execute_result"
    }
   ],
   "source": [
    "outliers_indices_price= detect_outliers(df, 0, ['price']) # Detects outliers in the 'price' column\n",
    "len(outliers_indices_price) # Returns the total number of detected outlier rows in the 'price' column"
   ]
  },
  {
   "cell_type": "code",
   "execution_count": 97,
   "id": "6bfd701f-2d75-48f5-a967-17991ef84658",
   "metadata": {},
   "outputs": [],
   "source": [
    "df.drop((outliers_indices_price), inplace= True) # Removes all rows from the DataFrame that are outliers in the 'price' column"
   ]
  },
  {
   "cell_type": "code",
   "execution_count": 98,
   "id": "cdac729e-254a-4f06-a994-f4d85d9d9592",
   "metadata": {},
   "outputs": [
    {
     "data": {
      "text/plain": [
       "0"
      ]
     },
     "execution_count": 98,
     "metadata": {},
     "output_type": "execute_result"
    }
   ],
   "source": [
    "outliers_indices_price= detect_outliers(df, 0, ['price']) # Detects outliers in the 'price' column\n",
    "len(outliers_indices_price) # Returns the total number of detected outlier rows in the 'price' column"
   ]
  },
  {
   "cell_type": "code",
   "execution_count": 99,
   "id": "147df2b3-7573-4de2-b8b3-267f02527f63",
   "metadata": {},
   "outputs": [
    {
     "data": {
      "text/plain": [
       "0"
      ]
     },
     "execution_count": 99,
     "metadata": {},
     "output_type": "execute_result"
    }
   ],
   "source": [
    "outliers_indices_mi= detect_outliers(df, 0, ['mileage_mi']) # Detects outliers in the 'mileage_mi' column\n",
    "len(outliers_indices_mi) # Returns the total number of detected outlier rows in the 'mileage_mi' column"
   ]
  },
  {
   "cell_type": "code",
   "execution_count": 100,
   "id": "b79c40bd-213d-473d-8222-65247b4ed410",
   "metadata": {},
   "outputs": [
    {
     "data": {
      "text/plain": [
       "0"
      ]
     },
     "execution_count": 100,
     "metadata": {},
     "output_type": "execute_result"
    }
   ],
   "source": [
    "outliers_indices_mi= detect_outliers(df, 0, ['mileage_mi']) # Detects outliers in the 'mileage_mi' column\n",
    "len(outliers_indices_mi) # Returns the total number of detected outlier rows in the 'mileage_mi' column"
   ]
  },
  {
   "cell_type": "code",
   "execution_count": 101,
   "id": "146d112f-0e00-4c4a-8fc9-68137d07c7b5",
   "metadata": {},
   "outputs": [],
   "source": [
    "df.drop((outliers_indices_price), inplace= True) # Removes all rows from the DataFrame that are outliers in the 'price' column"
   ]
  },
  {
   "cell_type": "code",
   "execution_count": 102,
   "id": "543ef2f9-9aff-43cf-831f-e567b9067958",
   "metadata": {},
   "outputs": [],
   "source": [
    "df.drop((outliers_indices_mi), inplace= True) # Removes all rows from the DataFrame that are outliers in the 'mileage_mi' column"
   ]
  },
  {
   "cell_type": "code",
   "execution_count": 103,
   "id": "9375bb0c-17ec-4351-a28b-820fa7816ed5",
   "metadata": {},
   "outputs": [
    {
     "data": {
      "text/plain": [
       "0"
      ]
     },
     "execution_count": 103,
     "metadata": {},
     "output_type": "execute_result"
    }
   ],
   "source": [
    "outliers_indices_price= detect_outliers(df, 0, ['price']) # Detects outliers in the 'price' column\n",
    "len(outliers_indices_price) # Returns the total number of detected outlier rows in the 'price' column"
   ]
  },
  {
   "cell_type": "code",
   "execution_count": 104,
   "id": "bf4288a1-c0ef-40e6-977e-cfb40c4acb62",
   "metadata": {},
   "outputs": [
    {
     "data": {
      "text/plain": [
       "0"
      ]
     },
     "execution_count": 104,
     "metadata": {},
     "output_type": "execute_result"
    }
   ],
   "source": [
    "outliers_indices_mi= detect_outliers(df, 0, ['mileage_mi']) # Detects outliers in the 'mileage_mi' column\n",
    "len(outliers_indices_mi) # Returns the total number of detected outlier rows in the 'mileage_mi' column"
   ]
  },
  {
   "cell_type": "code",
   "execution_count": 105,
   "id": "347d6301-2bc9-4793-b0ab-46c9c6272a81",
   "metadata": {},
   "outputs": [],
   "source": [
    "df.drop((outliers_indices_price), inplace= True) # Removes all rows from the DataFrame that are outliers in the 'price' column"
   ]
  },
  {
   "cell_type": "code",
   "execution_count": 106,
   "id": "caec7702-828d-4ea0-a37e-9be96a135990",
   "metadata": {},
   "outputs": [
    {
     "data": {
      "text/plain": [
       "0"
      ]
     },
     "execution_count": 106,
     "metadata": {},
     "output_type": "execute_result"
    }
   ],
   "source": [
    "outliers_indices_price= detect_outliers(df, 0, ['price']) # Detects outliers in the 'price' column\n",
    "len(outliers_indices_price) # Returns the total number of detected outlier rows in the 'price' column"
   ]
  },
  {
   "cell_type": "code",
   "execution_count": 107,
   "id": "bd21a943-b63b-4592-b895-5ed91ce2ce32",
   "metadata": {},
   "outputs": [],
   "source": [
    "df.drop((outliers_indices_price), inplace= True) # Removes all rows from the DataFrame that are outliers in the 'price' column"
   ]
  },
  {
   "cell_type": "code",
   "execution_count": 108,
   "id": "be67bee4-9b05-4ca6-b9fa-d9dadf4e8b63",
   "metadata": {},
   "outputs": [
    {
     "data": {
      "text/plain": [
       "0"
      ]
     },
     "execution_count": 108,
     "metadata": {},
     "output_type": "execute_result"
    }
   ],
   "source": [
    "outliers_indices_price= detect_outliers(df, 0, ['price']) # Detects outliers in the 'price' column\n",
    "len(outliers_indices_price) # Returns the total number of detected outlier rows in the 'price' column"
   ]
  },
  {
   "cell_type": "code",
   "execution_count": 109,
   "id": "19be73e5-20f1-4006-8328-9ce842d74130",
   "metadata": {},
   "outputs": [
    {
     "data": {
      "text/plain": [
       "0"
      ]
     },
     "execution_count": 109,
     "metadata": {},
     "output_type": "execute_result"
    }
   ],
   "source": [
    "outliers_indices_mi= detect_outliers(df, 0, ['mileage_mi']) # Detects outliers in the 'mileage_mi' column\n",
    "len(outliers_indices_mi) # Returns the total number of detected outlier rows in the 'mileage_mi' column"
   ]
  },
  {
   "cell_type": "markdown",
   "id": "689b1f2a-8796-4185-8529-ff433f8ca46c",
   "metadata": {
    "jp-MarkdownHeadingCollapsed": true
   },
   "source": [
    "# Doing Another Data Understaing for Checkup"
   ]
  },
  {
   "cell_type": "code",
   "execution_count": 110,
   "id": "633d9043-76bb-4766-9c4b-09e3d3a45b81",
   "metadata": {},
   "outputs": [
    {
     "data": {
      "text/plain": [
       "np.int64(2028)"
      ]
     },
     "execution_count": 110,
     "metadata": {},
     "output_type": "execute_result"
    }
   ],
   "source": [
    "df.duplicated().sum() # Counts the total number of duplicate rows"
   ]
  },
  {
   "cell_type": "code",
   "execution_count": 111,
   "id": "4de584cb-7be1-45f6-8290-d5041b882a7f",
   "metadata": {},
   "outputs": [],
   "source": [
    "df = df.drop_duplicates() # Removes all duplicate rows"
   ]
  },
  {
   "cell_type": "code",
   "execution_count": 112,
   "id": "0ba9f890-2fb2-4765-9cf1-e6c160a5532b",
   "metadata": {},
   "outputs": [
    {
     "data": {
      "text/plain": [
       "np.int64(0)"
      ]
     },
     "execution_count": 112,
     "metadata": {},
     "output_type": "execute_result"
    }
   ],
   "source": [
    "df.duplicated().sum() # Counts the total number of duplicate rows"
   ]
  },
  {
   "cell_type": "code",
   "execution_count": 113,
   "id": "c42dac70-0154-41d2-81f9-83745117a10f",
   "metadata": {},
   "outputs": [
    {
     "name": "stderr",
     "output_type": "stream",
     "text": [
      "C:\\Users\\StARS\\AppData\\Local\\Temp\\ipykernel_11276\\4070966118.py:2: SettingWithCopyWarning: \n",
      "A value is trying to be set on a copy of a slice from a DataFrame\n",
      "\n",
      "See the caveats in the documentation: https://pandas.pydata.org/pandas-docs/stable/user_guide/indexing.html#returning-a-view-versus-a-copy\n",
      "  df.drop('index', axis=1, inplace=True)  # Removes the 'index' column\n"
     ]
    },
    {
     "data": {
      "text/html": [
       "<div>\n",
       "<style scoped>\n",
       "    .dataframe tbody tr th:only-of-type {\n",
       "        vertical-align: middle;\n",
       "    }\n",
       "\n",
       "    .dataframe tbody tr th {\n",
       "        vertical-align: top;\n",
       "    }\n",
       "\n",
       "    .dataframe thead th {\n",
       "        text-align: right;\n",
       "    }\n",
       "</style>\n",
       "<table border=\"1\" class=\"dataframe\">\n",
       "  <thead>\n",
       "    <tr style=\"text-align: right;\">\n",
       "      <th></th>\n",
       "      <th>condition</th>\n",
       "      <th>mileage_mi</th>\n",
       "      <th>price</th>\n",
       "      <th>state</th>\n",
       "      <th>model_year</th>\n",
       "      <th>car_age</th>\n",
       "      <th>manufacturer</th>\n",
       "      <th>fuel_type</th>\n",
       "      <th>drivetrain</th>\n",
       "      <th>transmission</th>\n",
       "      <th>exterior_color</th>\n",
       "      <th>interior_color</th>\n",
       "      <th>accidents_or_damage</th>\n",
       "      <th>1_owner_vehicle</th>\n",
       "    </tr>\n",
       "  </thead>\n",
       "  <tbody>\n",
       "    <tr>\n",
       "      <th>0</th>\n",
       "      <td>Used</td>\n",
       "      <td>61110</td>\n",
       "      <td>11295</td>\n",
       "      <td>Illinois</td>\n",
       "      <td>2007</td>\n",
       "      <td>18</td>\n",
       "      <td>Acura</td>\n",
       "      <td>Gasoline</td>\n",
       "      <td>Front-wheel Drive</td>\n",
       "      <td>Fully Automatic</td>\n",
       "      <td>Grey Shades</td>\n",
       "      <td>Others</td>\n",
       "      <td>had accident/damage</td>\n",
       "      <td>First owner</td>\n",
       "    </tr>\n",
       "    <tr>\n",
       "      <th>1</th>\n",
       "      <td>Used</td>\n",
       "      <td>65715</td>\n",
       "      <td>23999</td>\n",
       "      <td>Illinois</td>\n",
       "      <td>2016</td>\n",
       "      <td>9</td>\n",
       "      <td>Audi</td>\n",
       "      <td>Gasoline</td>\n",
       "      <td>All-wheel Drive</td>\n",
       "      <td>Fully Automatic</td>\n",
       "      <td>Black Shades</td>\n",
       "      <td>Black Shades</td>\n",
       "      <td>had accident/damage</td>\n",
       "      <td>Multiple owners</td>\n",
       "    </tr>\n",
       "    <tr>\n",
       "      <th>2</th>\n",
       "      <td>Used</td>\n",
       "      <td>19830</td>\n",
       "      <td>39799</td>\n",
       "      <td>Illinois</td>\n",
       "      <td>2018</td>\n",
       "      <td>7</td>\n",
       "      <td>BMW</td>\n",
       "      <td>Gasoline</td>\n",
       "      <td>All-wheel Drive</td>\n",
       "      <td>Fully Automatic</td>\n",
       "      <td>Grey Shades</td>\n",
       "      <td>Black Shades</td>\n",
       "      <td>No accidents/damage</td>\n",
       "      <td>First owner</td>\n",
       "    </tr>\n",
       "    <tr>\n",
       "      <th>3</th>\n",
       "      <td>Used</td>\n",
       "      <td>52245</td>\n",
       "      <td>22966</td>\n",
       "      <td>Illinois</td>\n",
       "      <td>2019</td>\n",
       "      <td>6</td>\n",
       "      <td>Jeep</td>\n",
       "      <td>Gasoline</td>\n",
       "      <td>Four-wheel Drive</td>\n",
       "      <td>Fully Automatic</td>\n",
       "      <td>Black Shades</td>\n",
       "      <td>Black Shades</td>\n",
       "      <td>had accident/damage</td>\n",
       "      <td>Multiple owners</td>\n",
       "    </tr>\n",
       "    <tr>\n",
       "      <th>4</th>\n",
       "      <td>Used</td>\n",
       "      <td>94008</td>\n",
       "      <td>26995</td>\n",
       "      <td>Illinois</td>\n",
       "      <td>2019</td>\n",
       "      <td>6</td>\n",
       "      <td>Cadillac</td>\n",
       "      <td>Gasoline</td>\n",
       "      <td>All-wheel Drive</td>\n",
       "      <td>Fully Automatic</td>\n",
       "      <td>Black Shades</td>\n",
       "      <td>Black Shades</td>\n",
       "      <td>had accident/damage</td>\n",
       "      <td>Multiple owners</td>\n",
       "    </tr>\n",
       "    <tr>\n",
       "      <th>...</th>\n",
       "      <td>...</td>\n",
       "      <td>...</td>\n",
       "      <td>...</td>\n",
       "      <td>...</td>\n",
       "      <td>...</td>\n",
       "      <td>...</td>\n",
       "      <td>...</td>\n",
       "      <td>...</td>\n",
       "      <td>...</td>\n",
       "      <td>...</td>\n",
       "      <td>...</td>\n",
       "      <td>...</td>\n",
       "      <td>...</td>\n",
       "      <td>...</td>\n",
       "    </tr>\n",
       "    <tr>\n",
       "      <th>5253</th>\n",
       "      <td>Used</td>\n",
       "      <td>58640</td>\n",
       "      <td>21991</td>\n",
       "      <td>Illinois</td>\n",
       "      <td>2020</td>\n",
       "      <td>5</td>\n",
       "      <td>Nissan</td>\n",
       "      <td>Gasoline</td>\n",
       "      <td>All-wheel Drive</td>\n",
       "      <td>Continuously Variable Transmission (CVT)</td>\n",
       "      <td>Grey Shades</td>\n",
       "      <td>Grey and Silver Shades</td>\n",
       "      <td>No accidents/damage</td>\n",
       "      <td>First owner</td>\n",
       "    </tr>\n",
       "    <tr>\n",
       "      <th>5254</th>\n",
       "      <td>New</td>\n",
       "      <td>11</td>\n",
       "      <td>45735</td>\n",
       "      <td>Illinois</td>\n",
       "      <td>2024</td>\n",
       "      <td>1</td>\n",
       "      <td>Jeep</td>\n",
       "      <td>Gasoline</td>\n",
       "      <td>Four-wheel Drive</td>\n",
       "      <td>Fully Automatic</td>\n",
       "      <td>Black Shades</td>\n",
       "      <td>Others</td>\n",
       "      <td>No accidents/damage</td>\n",
       "      <td>First owner</td>\n",
       "    </tr>\n",
       "    <tr>\n",
       "      <th>5255</th>\n",
       "      <td>Used</td>\n",
       "      <td>40291</td>\n",
       "      <td>41795</td>\n",
       "      <td>Illinois</td>\n",
       "      <td>2021</td>\n",
       "      <td>4</td>\n",
       "      <td>Audi</td>\n",
       "      <td>Gasoline</td>\n",
       "      <td>All-wheel Drive</td>\n",
       "      <td>Fully Automatic</td>\n",
       "      <td>Grey Shades</td>\n",
       "      <td>Black Shades</td>\n",
       "      <td>had accident/damage</td>\n",
       "      <td>First owner</td>\n",
       "    </tr>\n",
       "    <tr>\n",
       "      <th>5256</th>\n",
       "      <td>New</td>\n",
       "      <td>11</td>\n",
       "      <td>62405</td>\n",
       "      <td>Illinois</td>\n",
       "      <td>2024</td>\n",
       "      <td>1</td>\n",
       "      <td>Mercedes-Benz</td>\n",
       "      <td>Gasoline</td>\n",
       "      <td>All-wheel Drive</td>\n",
       "      <td>Fully Automatic</td>\n",
       "      <td>Grey Shades</td>\n",
       "      <td>Black Shades</td>\n",
       "      <td>No accidents/damage</td>\n",
       "      <td>First owner</td>\n",
       "    </tr>\n",
       "    <tr>\n",
       "      <th>5257</th>\n",
       "      <td>New</td>\n",
       "      <td>3</td>\n",
       "      <td>51080</td>\n",
       "      <td>Illinois</td>\n",
       "      <td>2024</td>\n",
       "      <td>1</td>\n",
       "      <td>GMC</td>\n",
       "      <td>Gasoline</td>\n",
       "      <td>Four-wheel Drive</td>\n",
       "      <td>Fully Automatic</td>\n",
       "      <td>White Shades</td>\n",
       "      <td>Black Shades</td>\n",
       "      <td>No accidents/damage</td>\n",
       "      <td>First owner</td>\n",
       "    </tr>\n",
       "  </tbody>\n",
       "</table>\n",
       "<p>5258 rows × 14 columns</p>\n",
       "</div>"
      ],
      "text/plain": [
       "     condition  mileage_mi  price     state  model_year  car_age  \\\n",
       "0         Used       61110  11295  Illinois        2007       18   \n",
       "1         Used       65715  23999  Illinois        2016        9   \n",
       "2         Used       19830  39799  Illinois        2018        7   \n",
       "3         Used       52245  22966  Illinois        2019        6   \n",
       "4         Used       94008  26995  Illinois        2019        6   \n",
       "...        ...         ...    ...       ...         ...      ...   \n",
       "5253      Used       58640  21991  Illinois        2020        5   \n",
       "5254       New          11  45735  Illinois        2024        1   \n",
       "5255      Used       40291  41795  Illinois        2021        4   \n",
       "5256       New          11  62405  Illinois        2024        1   \n",
       "5257       New           3  51080  Illinois        2024        1   \n",
       "\n",
       "       manufacturer fuel_type         drivetrain  \\\n",
       "0             Acura  Gasoline  Front-wheel Drive   \n",
       "1              Audi  Gasoline    All-wheel Drive   \n",
       "2               BMW  Gasoline    All-wheel Drive   \n",
       "3              Jeep  Gasoline   Four-wheel Drive   \n",
       "4          Cadillac  Gasoline    All-wheel Drive   \n",
       "...             ...       ...                ...   \n",
       "5253         Nissan  Gasoline    All-wheel Drive   \n",
       "5254           Jeep  Gasoline   Four-wheel Drive   \n",
       "5255           Audi  Gasoline    All-wheel Drive   \n",
       "5256  Mercedes-Benz  Gasoline    All-wheel Drive   \n",
       "5257            GMC  Gasoline   Four-wheel Drive   \n",
       "\n",
       "                                  transmission exterior_color  \\\n",
       "0                              Fully Automatic    Grey Shades   \n",
       "1                              Fully Automatic   Black Shades   \n",
       "2                              Fully Automatic    Grey Shades   \n",
       "3                              Fully Automatic   Black Shades   \n",
       "4                              Fully Automatic   Black Shades   \n",
       "...                                        ...            ...   \n",
       "5253  Continuously Variable Transmission (CVT)    Grey Shades   \n",
       "5254                           Fully Automatic   Black Shades   \n",
       "5255                           Fully Automatic    Grey Shades   \n",
       "5256                           Fully Automatic    Grey Shades   \n",
       "5257                           Fully Automatic   White Shades   \n",
       "\n",
       "              interior_color  accidents_or_damage  1_owner_vehicle  \n",
       "0                     Others  had accident/damage      First owner  \n",
       "1               Black Shades  had accident/damage  Multiple owners  \n",
       "2               Black Shades  No accidents/damage      First owner  \n",
       "3               Black Shades  had accident/damage  Multiple owners  \n",
       "4               Black Shades  had accident/damage  Multiple owners  \n",
       "...                      ...                  ...              ...  \n",
       "5253  Grey and Silver Shades  No accidents/damage      First owner  \n",
       "5254                  Others  No accidents/damage      First owner  \n",
       "5255            Black Shades  had accident/damage      First owner  \n",
       "5256            Black Shades  No accidents/damage      First owner  \n",
       "5257            Black Shades  No accidents/damage      First owner  \n",
       "\n",
       "[5258 rows x 14 columns]"
      ]
     },
     "execution_count": 113,
     "metadata": {},
     "output_type": "execute_result"
    }
   ],
   "source": [
    "df.reset_index(inplace=True)  # Resets the index of the DataFrame\n",
    "df.drop('index', axis=1, inplace=True)  # Removes the 'index' column \n",
    "df # Showing the DataFrame "
   ]
  },
  {
   "cell_type": "code",
   "execution_count": 114,
   "id": "575d2a6b-1be5-4f18-9bc6-0ac62f7a0235",
   "metadata": {},
   "outputs": [
    {
     "data": {
      "text/plain": [
       "condition              0\n",
       "mileage_mi             0\n",
       "price                  0\n",
       "state                  0\n",
       "model_year             0\n",
       "car_age                0\n",
       "manufacturer           0\n",
       "fuel_type              0\n",
       "drivetrain             0\n",
       "transmission           0\n",
       "exterior_color         0\n",
       "interior_color         0\n",
       "accidents_or_damage    0\n",
       "1_owner_vehicle        0\n",
       "dtype: int64"
      ]
     },
     "execution_count": 114,
     "metadata": {},
     "output_type": "execute_result"
    }
   ],
   "source": [
    "df.isnull().sum()  # Shows the number of missing (NaN) values"
   ]
  },
  {
   "cell_type": "code",
   "execution_count": 115,
   "id": "20c7c2a3-d882-4c02-9d9b-706ce499d223",
   "metadata": {},
   "outputs": [
    {
     "data": {
      "text/plain": [
       "np.int64(0)"
      ]
     },
     "execution_count": 115,
     "metadata": {},
     "output_type": "execute_result"
    }
   ],
   "source": [
    "df.duplicated().sum() # Counts the total number of duplicate rows"
   ]
  },
  {
   "cell_type": "markdown",
   "id": "f7de3585-582d-42e4-b8cc-9f82a5935d44",
   "metadata": {},
   "source": [
    "### Checking Again for Outliers"
   ]
  },
  {
   "cell_type": "code",
   "execution_count": 116,
   "id": "810f404a-12ce-499f-a076-638b6025253a",
   "metadata": {},
   "outputs": [
    {
     "data": {
      "text/plain": [
       "1"
      ]
     },
     "execution_count": 116,
     "metadata": {},
     "output_type": "execute_result"
    }
   ],
   "source": [
    "outliers_indices_price= detect_outliers(df, 0, ['price']) # Detects outliers in the 'price' column\n",
    "len(outliers_indices_price) # Returns the total number of detected outlier rows in the 'price' column"
   ]
  },
  {
   "cell_type": "code",
   "execution_count": 117,
   "id": "48af49ef-73cb-4ea9-9403-96c8fd0780c6",
   "metadata": {},
   "outputs": [
    {
     "name": "stderr",
     "output_type": "stream",
     "text": [
      "C:\\Users\\StARS\\AppData\\Local\\Temp\\ipykernel_11276\\3176697104.py:1: SettingWithCopyWarning: \n",
      "A value is trying to be set on a copy of a slice from a DataFrame\n",
      "\n",
      "See the caveats in the documentation: https://pandas.pydata.org/pandas-docs/stable/user_guide/indexing.html#returning-a-view-versus-a-copy\n",
      "  df.drop((outliers_indices_price), inplace= True) # Removes all rows from the DataFrame that are outliers in the 'price' column\n"
     ]
    }
   ],
   "source": [
    "df.drop((outliers_indices_price), inplace= True) # Removes all rows from the DataFrame that are outliers in the 'price' column"
   ]
  },
  {
   "cell_type": "code",
   "execution_count": 118,
   "id": "34319ddc-7d09-4615-8bc6-f13b84c6a5f9",
   "metadata": {},
   "outputs": [
    {
     "data": {
      "text/plain": [
       "1"
      ]
     },
     "execution_count": 118,
     "metadata": {},
     "output_type": "execute_result"
    }
   ],
   "source": [
    "outliers_indices_price= detect_outliers(df, 0, ['price']) # Detects outliers in the 'price' column\n",
    "len(outliers_indices_price) # Returns the total number of detected outlier rows in the 'price' column"
   ]
  },
  {
   "cell_type": "code",
   "execution_count": 119,
   "id": "0f09e758-a226-4a2c-ac56-1adcefe8747e",
   "metadata": {},
   "outputs": [
    {
     "data": {
      "text/plain": [
       "16"
      ]
     },
     "execution_count": 119,
     "metadata": {},
     "output_type": "execute_result"
    }
   ],
   "source": [
    "outliers_indices_mi= detect_outliers(df, 0, ['mileage_mi']) # Detects outliers in the 'mileage_mi' column\n",
    "len(outliers_indices_mi) # Returns the total number of detected outlier rows in the 'mileage_mi' column"
   ]
  },
  {
   "cell_type": "code",
   "execution_count": 120,
   "id": "adfdc9a2-7082-4a61-b34e-85f00a79b4ca",
   "metadata": {},
   "outputs": [
    {
     "name": "stderr",
     "output_type": "stream",
     "text": [
      "C:\\Users\\StARS\\AppData\\Local\\Temp\\ipykernel_11276\\1545162728.py:1: SettingWithCopyWarning: \n",
      "A value is trying to be set on a copy of a slice from a DataFrame\n",
      "\n",
      "See the caveats in the documentation: https://pandas.pydata.org/pandas-docs/stable/user_guide/indexing.html#returning-a-view-versus-a-copy\n",
      "  df.drop((outliers_indices_mi), inplace= True) # Removes all rows from the DataFrame that are outliers in the 'mileage_mi' column\n"
     ]
    }
   ],
   "source": [
    "df.drop((outliers_indices_mi), inplace= True) # Removes all rows from the DataFrame that are outliers in the 'mileage_mi' column"
   ]
  },
  {
   "cell_type": "code",
   "execution_count": 121,
   "id": "ec47cb4a-3ed0-49a7-af12-7aad3cb8938d",
   "metadata": {},
   "outputs": [
    {
     "data": {
      "text/plain": [
       "3"
      ]
     },
     "execution_count": 121,
     "metadata": {},
     "output_type": "execute_result"
    }
   ],
   "source": [
    "outliers_indices_mi= detect_outliers(df, 0, ['mileage_mi']) # Detects outliers in the 'mileage_mi' column\n",
    "len(outliers_indices_mi) # Returns the total number of detected outlier rows in the 'mileage_mi' column"
   ]
  },
  {
   "cell_type": "code",
   "execution_count": 122,
   "id": "24400027-65c5-409d-8c12-2e4d2501fce7",
   "metadata": {},
   "outputs": [
    {
     "name": "stderr",
     "output_type": "stream",
     "text": [
      "C:\\Users\\StARS\\AppData\\Local\\Temp\\ipykernel_11276\\1545162728.py:1: SettingWithCopyWarning: \n",
      "A value is trying to be set on a copy of a slice from a DataFrame\n",
      "\n",
      "See the caveats in the documentation: https://pandas.pydata.org/pandas-docs/stable/user_guide/indexing.html#returning-a-view-versus-a-copy\n",
      "  df.drop((outliers_indices_mi), inplace= True) # Removes all rows from the DataFrame that are outliers in the 'mileage_mi' column\n"
     ]
    }
   ],
   "source": [
    "df.drop((outliers_indices_mi), inplace= True) # Removes all rows from the DataFrame that are outliers in the 'mileage_mi' column"
   ]
  },
  {
   "cell_type": "code",
   "execution_count": 123,
   "id": "464d9fcf-4aa0-486b-9fdc-1051ea0648c2",
   "metadata": {},
   "outputs": [
    {
     "data": {
      "text/plain": [
       "1"
      ]
     },
     "execution_count": 123,
     "metadata": {},
     "output_type": "execute_result"
    }
   ],
   "source": [
    "outliers_indices_mi= detect_outliers(df, 0, ['mileage_mi']) # Detects outliers in the 'mileage_mi' column\n",
    "len(outliers_indices_mi) # Returns the total number of detected outlier rows in the 'mileage_mi' column"
   ]
  },
  {
   "cell_type": "code",
   "execution_count": 124,
   "id": "a28220f4-a0e5-434c-a32f-5e8482d0a8b6",
   "metadata": {},
   "outputs": [
    {
     "data": {
      "text/plain": [
       "3"
      ]
     },
     "execution_count": 124,
     "metadata": {},
     "output_type": "execute_result"
    }
   ],
   "source": [
    "outliers_indices_price= detect_outliers(df, 0, ['price']) # Detects outliers in the 'price' column\n",
    "len(outliers_indices_price) # Returns the total number of detected outlier rows in the 'price' column"
   ]
  },
  {
   "cell_type": "code",
   "execution_count": 125,
   "id": "84a8523f-54e0-4d3d-becb-355989819efb",
   "metadata": {},
   "outputs": [
    {
     "name": "stderr",
     "output_type": "stream",
     "text": [
      "C:\\Users\\StARS\\AppData\\Local\\Temp\\ipykernel_11276\\3176697104.py:1: SettingWithCopyWarning: \n",
      "A value is trying to be set on a copy of a slice from a DataFrame\n",
      "\n",
      "See the caveats in the documentation: https://pandas.pydata.org/pandas-docs/stable/user_guide/indexing.html#returning-a-view-versus-a-copy\n",
      "  df.drop((outliers_indices_price), inplace= True) # Removes all rows from the DataFrame that are outliers in the 'price' column\n"
     ]
    }
   ],
   "source": [
    "df.drop((outliers_indices_price), inplace= True) # Removes all rows from the DataFrame that are outliers in the 'price' column"
   ]
  },
  {
   "cell_type": "code",
   "execution_count": 126,
   "id": "bdb3a73f-4019-49ba-ac29-6401cd9a51a4",
   "metadata": {},
   "outputs": [
    {
     "data": {
      "text/plain": [
       "0"
      ]
     },
     "execution_count": 126,
     "metadata": {},
     "output_type": "execute_result"
    }
   ],
   "source": [
    "outliers_indices_price= detect_outliers(df, 0, ['price']) # Detects outliers in the 'price' column\n",
    "len(outliers_indices_price) # Returns the total number of detected outlier rows in the 'price' column"
   ]
  },
  {
   "cell_type": "code",
   "execution_count": 127,
   "id": "ce4ee8d4-3d43-4edb-bd95-94230c9a5917",
   "metadata": {},
   "outputs": [
    {
     "data": {
      "text/plain": [
       "0"
      ]
     },
     "execution_count": 127,
     "metadata": {},
     "output_type": "execute_result"
    }
   ],
   "source": [
    "outliers_indices_mi= detect_outliers(df, 0, ['mileage_mi']) # Detects outliers in the 'mileage_mi' column\n",
    "len(outliers_indices_mi) # Returns the total number of detected outlier rows in the 'mileage_mi' column"
   ]
  },
  {
   "cell_type": "code",
   "execution_count": 128,
   "id": "4eb59ef7-5ae9-4087-8fe1-edba84ff2fa6",
   "metadata": {},
   "outputs": [
    {
     "data": {
      "text/html": [
       "<div>\n",
       "<style scoped>\n",
       "    .dataframe tbody tr th:only-of-type {\n",
       "        vertical-align: middle;\n",
       "    }\n",
       "\n",
       "    .dataframe tbody tr th {\n",
       "        vertical-align: top;\n",
       "    }\n",
       "\n",
       "    .dataframe thead th {\n",
       "        text-align: right;\n",
       "    }\n",
       "</style>\n",
       "<table border=\"1\" class=\"dataframe\">\n",
       "  <thead>\n",
       "    <tr style=\"text-align: right;\">\n",
       "      <th></th>\n",
       "      <th>condition</th>\n",
       "      <th>mileage_mi</th>\n",
       "      <th>price</th>\n",
       "      <th>state</th>\n",
       "      <th>model_year</th>\n",
       "      <th>car_age</th>\n",
       "      <th>manufacturer</th>\n",
       "      <th>fuel_type</th>\n",
       "      <th>drivetrain</th>\n",
       "      <th>transmission</th>\n",
       "      <th>exterior_color</th>\n",
       "      <th>interior_color</th>\n",
       "      <th>accidents_or_damage</th>\n",
       "      <th>1_owner_vehicle</th>\n",
       "    </tr>\n",
       "  </thead>\n",
       "  <tbody>\n",
       "    <tr>\n",
       "      <th>0</th>\n",
       "      <td>Used</td>\n",
       "      <td>61110</td>\n",
       "      <td>11295</td>\n",
       "      <td>Illinois</td>\n",
       "      <td>2007</td>\n",
       "      <td>18</td>\n",
       "      <td>Acura</td>\n",
       "      <td>Gasoline</td>\n",
       "      <td>Front-wheel Drive</td>\n",
       "      <td>Fully Automatic</td>\n",
       "      <td>Grey Shades</td>\n",
       "      <td>Others</td>\n",
       "      <td>had accident/damage</td>\n",
       "      <td>First owner</td>\n",
       "    </tr>\n",
       "    <tr>\n",
       "      <th>1</th>\n",
       "      <td>Used</td>\n",
       "      <td>65715</td>\n",
       "      <td>23999</td>\n",
       "      <td>Illinois</td>\n",
       "      <td>2016</td>\n",
       "      <td>9</td>\n",
       "      <td>Audi</td>\n",
       "      <td>Gasoline</td>\n",
       "      <td>All-wheel Drive</td>\n",
       "      <td>Fully Automatic</td>\n",
       "      <td>Black Shades</td>\n",
       "      <td>Black Shades</td>\n",
       "      <td>had accident/damage</td>\n",
       "      <td>Multiple owners</td>\n",
       "    </tr>\n",
       "    <tr>\n",
       "      <th>2</th>\n",
       "      <td>Used</td>\n",
       "      <td>19830</td>\n",
       "      <td>39799</td>\n",
       "      <td>Illinois</td>\n",
       "      <td>2018</td>\n",
       "      <td>7</td>\n",
       "      <td>BMW</td>\n",
       "      <td>Gasoline</td>\n",
       "      <td>All-wheel Drive</td>\n",
       "      <td>Fully Automatic</td>\n",
       "      <td>Grey Shades</td>\n",
       "      <td>Black Shades</td>\n",
       "      <td>No accidents/damage</td>\n",
       "      <td>First owner</td>\n",
       "    </tr>\n",
       "    <tr>\n",
       "      <th>3</th>\n",
       "      <td>Used</td>\n",
       "      <td>52245</td>\n",
       "      <td>22966</td>\n",
       "      <td>Illinois</td>\n",
       "      <td>2019</td>\n",
       "      <td>6</td>\n",
       "      <td>Jeep</td>\n",
       "      <td>Gasoline</td>\n",
       "      <td>Four-wheel Drive</td>\n",
       "      <td>Fully Automatic</td>\n",
       "      <td>Black Shades</td>\n",
       "      <td>Black Shades</td>\n",
       "      <td>had accident/damage</td>\n",
       "      <td>Multiple owners</td>\n",
       "    </tr>\n",
       "    <tr>\n",
       "      <th>4</th>\n",
       "      <td>Used</td>\n",
       "      <td>94008</td>\n",
       "      <td>26995</td>\n",
       "      <td>Illinois</td>\n",
       "      <td>2019</td>\n",
       "      <td>6</td>\n",
       "      <td>Cadillac</td>\n",
       "      <td>Gasoline</td>\n",
       "      <td>All-wheel Drive</td>\n",
       "      <td>Fully Automatic</td>\n",
       "      <td>Black Shades</td>\n",
       "      <td>Black Shades</td>\n",
       "      <td>had accident/damage</td>\n",
       "      <td>Multiple owners</td>\n",
       "    </tr>\n",
       "    <tr>\n",
       "      <th>...</th>\n",
       "      <td>...</td>\n",
       "      <td>...</td>\n",
       "      <td>...</td>\n",
       "      <td>...</td>\n",
       "      <td>...</td>\n",
       "      <td>...</td>\n",
       "      <td>...</td>\n",
       "      <td>...</td>\n",
       "      <td>...</td>\n",
       "      <td>...</td>\n",
       "      <td>...</td>\n",
       "      <td>...</td>\n",
       "      <td>...</td>\n",
       "      <td>...</td>\n",
       "    </tr>\n",
       "    <tr>\n",
       "      <th>5253</th>\n",
       "      <td>Used</td>\n",
       "      <td>58640</td>\n",
       "      <td>21991</td>\n",
       "      <td>Illinois</td>\n",
       "      <td>2020</td>\n",
       "      <td>5</td>\n",
       "      <td>Nissan</td>\n",
       "      <td>Gasoline</td>\n",
       "      <td>All-wheel Drive</td>\n",
       "      <td>Continuously Variable Transmission (CVT)</td>\n",
       "      <td>Grey Shades</td>\n",
       "      <td>Grey and Silver Shades</td>\n",
       "      <td>No accidents/damage</td>\n",
       "      <td>First owner</td>\n",
       "    </tr>\n",
       "    <tr>\n",
       "      <th>5254</th>\n",
       "      <td>New</td>\n",
       "      <td>11</td>\n",
       "      <td>45735</td>\n",
       "      <td>Illinois</td>\n",
       "      <td>2024</td>\n",
       "      <td>1</td>\n",
       "      <td>Jeep</td>\n",
       "      <td>Gasoline</td>\n",
       "      <td>Four-wheel Drive</td>\n",
       "      <td>Fully Automatic</td>\n",
       "      <td>Black Shades</td>\n",
       "      <td>Others</td>\n",
       "      <td>No accidents/damage</td>\n",
       "      <td>First owner</td>\n",
       "    </tr>\n",
       "    <tr>\n",
       "      <th>5255</th>\n",
       "      <td>Used</td>\n",
       "      <td>40291</td>\n",
       "      <td>41795</td>\n",
       "      <td>Illinois</td>\n",
       "      <td>2021</td>\n",
       "      <td>4</td>\n",
       "      <td>Audi</td>\n",
       "      <td>Gasoline</td>\n",
       "      <td>All-wheel Drive</td>\n",
       "      <td>Fully Automatic</td>\n",
       "      <td>Grey Shades</td>\n",
       "      <td>Black Shades</td>\n",
       "      <td>had accident/damage</td>\n",
       "      <td>First owner</td>\n",
       "    </tr>\n",
       "    <tr>\n",
       "      <th>5256</th>\n",
       "      <td>New</td>\n",
       "      <td>11</td>\n",
       "      <td>62405</td>\n",
       "      <td>Illinois</td>\n",
       "      <td>2024</td>\n",
       "      <td>1</td>\n",
       "      <td>Mercedes-Benz</td>\n",
       "      <td>Gasoline</td>\n",
       "      <td>All-wheel Drive</td>\n",
       "      <td>Fully Automatic</td>\n",
       "      <td>Grey Shades</td>\n",
       "      <td>Black Shades</td>\n",
       "      <td>No accidents/damage</td>\n",
       "      <td>First owner</td>\n",
       "    </tr>\n",
       "    <tr>\n",
       "      <th>5257</th>\n",
       "      <td>New</td>\n",
       "      <td>3</td>\n",
       "      <td>51080</td>\n",
       "      <td>Illinois</td>\n",
       "      <td>2024</td>\n",
       "      <td>1</td>\n",
       "      <td>GMC</td>\n",
       "      <td>Gasoline</td>\n",
       "      <td>Four-wheel Drive</td>\n",
       "      <td>Fully Automatic</td>\n",
       "      <td>White Shades</td>\n",
       "      <td>Black Shades</td>\n",
       "      <td>No accidents/damage</td>\n",
       "      <td>First owner</td>\n",
       "    </tr>\n",
       "  </tbody>\n",
       "</table>\n",
       "<p>5235 rows × 14 columns</p>\n",
       "</div>"
      ],
      "text/plain": [
       "     condition  mileage_mi  price     state  model_year  car_age  \\\n",
       "0         Used       61110  11295  Illinois        2007       18   \n",
       "1         Used       65715  23999  Illinois        2016        9   \n",
       "2         Used       19830  39799  Illinois        2018        7   \n",
       "3         Used       52245  22966  Illinois        2019        6   \n",
       "4         Used       94008  26995  Illinois        2019        6   \n",
       "...        ...         ...    ...       ...         ...      ...   \n",
       "5253      Used       58640  21991  Illinois        2020        5   \n",
       "5254       New          11  45735  Illinois        2024        1   \n",
       "5255      Used       40291  41795  Illinois        2021        4   \n",
       "5256       New          11  62405  Illinois        2024        1   \n",
       "5257       New           3  51080  Illinois        2024        1   \n",
       "\n",
       "       manufacturer fuel_type         drivetrain  \\\n",
       "0             Acura  Gasoline  Front-wheel Drive   \n",
       "1              Audi  Gasoline    All-wheel Drive   \n",
       "2               BMW  Gasoline    All-wheel Drive   \n",
       "3              Jeep  Gasoline   Four-wheel Drive   \n",
       "4          Cadillac  Gasoline    All-wheel Drive   \n",
       "...             ...       ...                ...   \n",
       "5253         Nissan  Gasoline    All-wheel Drive   \n",
       "5254           Jeep  Gasoline   Four-wheel Drive   \n",
       "5255           Audi  Gasoline    All-wheel Drive   \n",
       "5256  Mercedes-Benz  Gasoline    All-wheel Drive   \n",
       "5257            GMC  Gasoline   Four-wheel Drive   \n",
       "\n",
       "                                  transmission exterior_color  \\\n",
       "0                              Fully Automatic    Grey Shades   \n",
       "1                              Fully Automatic   Black Shades   \n",
       "2                              Fully Automatic    Grey Shades   \n",
       "3                              Fully Automatic   Black Shades   \n",
       "4                              Fully Automatic   Black Shades   \n",
       "...                                        ...            ...   \n",
       "5253  Continuously Variable Transmission (CVT)    Grey Shades   \n",
       "5254                           Fully Automatic   Black Shades   \n",
       "5255                           Fully Automatic    Grey Shades   \n",
       "5256                           Fully Automatic    Grey Shades   \n",
       "5257                           Fully Automatic   White Shades   \n",
       "\n",
       "              interior_color  accidents_or_damage  1_owner_vehicle  \n",
       "0                     Others  had accident/damage      First owner  \n",
       "1               Black Shades  had accident/damage  Multiple owners  \n",
       "2               Black Shades  No accidents/damage      First owner  \n",
       "3               Black Shades  had accident/damage  Multiple owners  \n",
       "4               Black Shades  had accident/damage  Multiple owners  \n",
       "...                      ...                  ...              ...  \n",
       "5253  Grey and Silver Shades  No accidents/damage      First owner  \n",
       "5254                  Others  No accidents/damage      First owner  \n",
       "5255            Black Shades  had accident/damage      First owner  \n",
       "5256            Black Shades  No accidents/damage      First owner  \n",
       "5257            Black Shades  No accidents/damage      First owner  \n",
       "\n",
       "[5235 rows x 14 columns]"
      ]
     },
     "execution_count": 128,
     "metadata": {},
     "output_type": "execute_result"
    }
   ],
   "source": [
    "df # Showing the DataFrame "
   ]
  },
  {
   "cell_type": "code",
   "execution_count": 129,
   "id": "4b5d47bb-fe43-49a9-84e2-c76f7e6f63cb",
   "metadata": {},
   "outputs": [
    {
     "name": "stderr",
     "output_type": "stream",
     "text": [
      "C:\\Users\\StARS\\AppData\\Local\\Temp\\ipykernel_11276\\3794641498.py:2: SettingWithCopyWarning: \n",
      "A value is trying to be set on a copy of a slice from a DataFrame\n",
      "\n",
      "See the caveats in the documentation: https://pandas.pydata.org/pandas-docs/stable/user_guide/indexing.html#returning-a-view-versus-a-copy\n",
      "  df.drop('index', axis=1, inplace=True)  # Removes the 'index' column\n"
     ]
    }
   ],
   "source": [
    "df.reset_index(inplace=True)  # Resets the index of the DataFrame\n",
    "df.drop('index', axis=1, inplace=True)  # Removes the 'index' column "
   ]
  },
  {
   "cell_type": "code",
   "execution_count": 130,
   "id": "7853da75-0d6f-43e2-91f3-095450642ab4",
   "metadata": {},
   "outputs": [
    {
     "data": {
      "text/plain": [
       "condition              0\n",
       "mileage_mi             0\n",
       "price                  0\n",
       "state                  0\n",
       "model_year             0\n",
       "car_age                0\n",
       "manufacturer           0\n",
       "fuel_type              0\n",
       "drivetrain             0\n",
       "transmission           0\n",
       "exterior_color         0\n",
       "interior_color         0\n",
       "accidents_or_damage    0\n",
       "1_owner_vehicle        0\n",
       "dtype: int64"
      ]
     },
     "execution_count": 130,
     "metadata": {},
     "output_type": "execute_result"
    }
   ],
   "source": [
    "df.isnull().sum() # Shows the number of missing (NaN) values in each column"
   ]
  },
  {
   "cell_type": "code",
   "execution_count": 131,
   "id": "0c61be12-6f95-48a3-aa54-3b888068e16f",
   "metadata": {},
   "outputs": [
    {
     "data": {
      "text/html": [
       "<div>\n",
       "<style scoped>\n",
       "    .dataframe tbody tr th:only-of-type {\n",
       "        vertical-align: middle;\n",
       "    }\n",
       "\n",
       "    .dataframe tbody tr th {\n",
       "        vertical-align: top;\n",
       "    }\n",
       "\n",
       "    .dataframe thead th {\n",
       "        text-align: right;\n",
       "    }\n",
       "</style>\n",
       "<table border=\"1\" class=\"dataframe\">\n",
       "  <thead>\n",
       "    <tr style=\"text-align: right;\">\n",
       "      <th></th>\n",
       "      <th>condition</th>\n",
       "      <th>mileage_mi</th>\n",
       "      <th>price</th>\n",
       "      <th>state</th>\n",
       "      <th>model_year</th>\n",
       "      <th>car_age</th>\n",
       "      <th>manufacturer</th>\n",
       "      <th>fuel_type</th>\n",
       "      <th>drivetrain</th>\n",
       "      <th>transmission</th>\n",
       "      <th>exterior_color</th>\n",
       "      <th>interior_color</th>\n",
       "      <th>accidents_or_damage</th>\n",
       "      <th>1_owner_vehicle</th>\n",
       "    </tr>\n",
       "  </thead>\n",
       "  <tbody>\n",
       "    <tr>\n",
       "      <th>0</th>\n",
       "      <td>Used</td>\n",
       "      <td>61110</td>\n",
       "      <td>11295</td>\n",
       "      <td>Illinois</td>\n",
       "      <td>2007</td>\n",
       "      <td>18</td>\n",
       "      <td>Acura</td>\n",
       "      <td>Gasoline</td>\n",
       "      <td>Front-wheel Drive</td>\n",
       "      <td>Fully Automatic</td>\n",
       "      <td>Grey Shades</td>\n",
       "      <td>Others</td>\n",
       "      <td>had accident/damage</td>\n",
       "      <td>First owner</td>\n",
       "    </tr>\n",
       "    <tr>\n",
       "      <th>1</th>\n",
       "      <td>Used</td>\n",
       "      <td>65715</td>\n",
       "      <td>23999</td>\n",
       "      <td>Illinois</td>\n",
       "      <td>2016</td>\n",
       "      <td>9</td>\n",
       "      <td>Audi</td>\n",
       "      <td>Gasoline</td>\n",
       "      <td>All-wheel Drive</td>\n",
       "      <td>Fully Automatic</td>\n",
       "      <td>Black Shades</td>\n",
       "      <td>Black Shades</td>\n",
       "      <td>had accident/damage</td>\n",
       "      <td>Multiple owners</td>\n",
       "    </tr>\n",
       "    <tr>\n",
       "      <th>2</th>\n",
       "      <td>Used</td>\n",
       "      <td>19830</td>\n",
       "      <td>39799</td>\n",
       "      <td>Illinois</td>\n",
       "      <td>2018</td>\n",
       "      <td>7</td>\n",
       "      <td>BMW</td>\n",
       "      <td>Gasoline</td>\n",
       "      <td>All-wheel Drive</td>\n",
       "      <td>Fully Automatic</td>\n",
       "      <td>Grey Shades</td>\n",
       "      <td>Black Shades</td>\n",
       "      <td>No accidents/damage</td>\n",
       "      <td>First owner</td>\n",
       "    </tr>\n",
       "    <tr>\n",
       "      <th>3</th>\n",
       "      <td>Used</td>\n",
       "      <td>52245</td>\n",
       "      <td>22966</td>\n",
       "      <td>Illinois</td>\n",
       "      <td>2019</td>\n",
       "      <td>6</td>\n",
       "      <td>Jeep</td>\n",
       "      <td>Gasoline</td>\n",
       "      <td>Four-wheel Drive</td>\n",
       "      <td>Fully Automatic</td>\n",
       "      <td>Black Shades</td>\n",
       "      <td>Black Shades</td>\n",
       "      <td>had accident/damage</td>\n",
       "      <td>Multiple owners</td>\n",
       "    </tr>\n",
       "    <tr>\n",
       "      <th>4</th>\n",
       "      <td>Used</td>\n",
       "      <td>94008</td>\n",
       "      <td>26995</td>\n",
       "      <td>Illinois</td>\n",
       "      <td>2019</td>\n",
       "      <td>6</td>\n",
       "      <td>Cadillac</td>\n",
       "      <td>Gasoline</td>\n",
       "      <td>All-wheel Drive</td>\n",
       "      <td>Fully Automatic</td>\n",
       "      <td>Black Shades</td>\n",
       "      <td>Black Shades</td>\n",
       "      <td>had accident/damage</td>\n",
       "      <td>Multiple owners</td>\n",
       "    </tr>\n",
       "    <tr>\n",
       "      <th>...</th>\n",
       "      <td>...</td>\n",
       "      <td>...</td>\n",
       "      <td>...</td>\n",
       "      <td>...</td>\n",
       "      <td>...</td>\n",
       "      <td>...</td>\n",
       "      <td>...</td>\n",
       "      <td>...</td>\n",
       "      <td>...</td>\n",
       "      <td>...</td>\n",
       "      <td>...</td>\n",
       "      <td>...</td>\n",
       "      <td>...</td>\n",
       "      <td>...</td>\n",
       "    </tr>\n",
       "    <tr>\n",
       "      <th>5230</th>\n",
       "      <td>Used</td>\n",
       "      <td>58640</td>\n",
       "      <td>21991</td>\n",
       "      <td>Illinois</td>\n",
       "      <td>2020</td>\n",
       "      <td>5</td>\n",
       "      <td>Nissan</td>\n",
       "      <td>Gasoline</td>\n",
       "      <td>All-wheel Drive</td>\n",
       "      <td>Continuously Variable Transmission (CVT)</td>\n",
       "      <td>Grey Shades</td>\n",
       "      <td>Grey and Silver Shades</td>\n",
       "      <td>No accidents/damage</td>\n",
       "      <td>First owner</td>\n",
       "    </tr>\n",
       "    <tr>\n",
       "      <th>5231</th>\n",
       "      <td>New</td>\n",
       "      <td>11</td>\n",
       "      <td>45735</td>\n",
       "      <td>Illinois</td>\n",
       "      <td>2024</td>\n",
       "      <td>1</td>\n",
       "      <td>Jeep</td>\n",
       "      <td>Gasoline</td>\n",
       "      <td>Four-wheel Drive</td>\n",
       "      <td>Fully Automatic</td>\n",
       "      <td>Black Shades</td>\n",
       "      <td>Others</td>\n",
       "      <td>No accidents/damage</td>\n",
       "      <td>First owner</td>\n",
       "    </tr>\n",
       "    <tr>\n",
       "      <th>5232</th>\n",
       "      <td>Used</td>\n",
       "      <td>40291</td>\n",
       "      <td>41795</td>\n",
       "      <td>Illinois</td>\n",
       "      <td>2021</td>\n",
       "      <td>4</td>\n",
       "      <td>Audi</td>\n",
       "      <td>Gasoline</td>\n",
       "      <td>All-wheel Drive</td>\n",
       "      <td>Fully Automatic</td>\n",
       "      <td>Grey Shades</td>\n",
       "      <td>Black Shades</td>\n",
       "      <td>had accident/damage</td>\n",
       "      <td>First owner</td>\n",
       "    </tr>\n",
       "    <tr>\n",
       "      <th>5233</th>\n",
       "      <td>New</td>\n",
       "      <td>11</td>\n",
       "      <td>62405</td>\n",
       "      <td>Illinois</td>\n",
       "      <td>2024</td>\n",
       "      <td>1</td>\n",
       "      <td>Mercedes-Benz</td>\n",
       "      <td>Gasoline</td>\n",
       "      <td>All-wheel Drive</td>\n",
       "      <td>Fully Automatic</td>\n",
       "      <td>Grey Shades</td>\n",
       "      <td>Black Shades</td>\n",
       "      <td>No accidents/damage</td>\n",
       "      <td>First owner</td>\n",
       "    </tr>\n",
       "    <tr>\n",
       "      <th>5234</th>\n",
       "      <td>New</td>\n",
       "      <td>3</td>\n",
       "      <td>51080</td>\n",
       "      <td>Illinois</td>\n",
       "      <td>2024</td>\n",
       "      <td>1</td>\n",
       "      <td>GMC</td>\n",
       "      <td>Gasoline</td>\n",
       "      <td>Four-wheel Drive</td>\n",
       "      <td>Fully Automatic</td>\n",
       "      <td>White Shades</td>\n",
       "      <td>Black Shades</td>\n",
       "      <td>No accidents/damage</td>\n",
       "      <td>First owner</td>\n",
       "    </tr>\n",
       "  </tbody>\n",
       "</table>\n",
       "<p>5235 rows × 14 columns</p>\n",
       "</div>"
      ],
      "text/plain": [
       "     condition  mileage_mi  price     state  model_year  car_age  \\\n",
       "0         Used       61110  11295  Illinois        2007       18   \n",
       "1         Used       65715  23999  Illinois        2016        9   \n",
       "2         Used       19830  39799  Illinois        2018        7   \n",
       "3         Used       52245  22966  Illinois        2019        6   \n",
       "4         Used       94008  26995  Illinois        2019        6   \n",
       "...        ...         ...    ...       ...         ...      ...   \n",
       "5230      Used       58640  21991  Illinois        2020        5   \n",
       "5231       New          11  45735  Illinois        2024        1   \n",
       "5232      Used       40291  41795  Illinois        2021        4   \n",
       "5233       New          11  62405  Illinois        2024        1   \n",
       "5234       New           3  51080  Illinois        2024        1   \n",
       "\n",
       "       manufacturer fuel_type         drivetrain  \\\n",
       "0             Acura  Gasoline  Front-wheel Drive   \n",
       "1              Audi  Gasoline    All-wheel Drive   \n",
       "2               BMW  Gasoline    All-wheel Drive   \n",
       "3              Jeep  Gasoline   Four-wheel Drive   \n",
       "4          Cadillac  Gasoline    All-wheel Drive   \n",
       "...             ...       ...                ...   \n",
       "5230         Nissan  Gasoline    All-wheel Drive   \n",
       "5231           Jeep  Gasoline   Four-wheel Drive   \n",
       "5232           Audi  Gasoline    All-wheel Drive   \n",
       "5233  Mercedes-Benz  Gasoline    All-wheel Drive   \n",
       "5234            GMC  Gasoline   Four-wheel Drive   \n",
       "\n",
       "                                  transmission exterior_color  \\\n",
       "0                              Fully Automatic    Grey Shades   \n",
       "1                              Fully Automatic   Black Shades   \n",
       "2                              Fully Automatic    Grey Shades   \n",
       "3                              Fully Automatic   Black Shades   \n",
       "4                              Fully Automatic   Black Shades   \n",
       "...                                        ...            ...   \n",
       "5230  Continuously Variable Transmission (CVT)    Grey Shades   \n",
       "5231                           Fully Automatic   Black Shades   \n",
       "5232                           Fully Automatic    Grey Shades   \n",
       "5233                           Fully Automatic    Grey Shades   \n",
       "5234                           Fully Automatic   White Shades   \n",
       "\n",
       "              interior_color  accidents_or_damage  1_owner_vehicle  \n",
       "0                     Others  had accident/damage      First owner  \n",
       "1               Black Shades  had accident/damage  Multiple owners  \n",
       "2               Black Shades  No accidents/damage      First owner  \n",
       "3               Black Shades  had accident/damage  Multiple owners  \n",
       "4               Black Shades  had accident/damage  Multiple owners  \n",
       "...                      ...                  ...              ...  \n",
       "5230  Grey and Silver Shades  No accidents/damage      First owner  \n",
       "5231                  Others  No accidents/damage      First owner  \n",
       "5232            Black Shades  had accident/damage      First owner  \n",
       "5233            Black Shades  No accidents/damage      First owner  \n",
       "5234            Black Shades  No accidents/damage      First owner  \n",
       "\n",
       "[5235 rows x 14 columns]"
      ]
     },
     "execution_count": 131,
     "metadata": {},
     "output_type": "execute_result"
    }
   ],
   "source": [
    "df # Showing the DataFrame "
   ]
  },
  {
   "cell_type": "code",
   "execution_count": 132,
   "id": "97c2449f-3e89-454b-b0d2-d9002f957de8",
   "metadata": {},
   "outputs": [
    {
     "data": {
      "text/plain": [
       "np.int64(0)"
      ]
     },
     "execution_count": 132,
     "metadata": {},
     "output_type": "execute_result"
    }
   ],
   "source": [
    "df.duplicated().sum() # Counts the total number of duplicate rows"
   ]
  },
  {
   "cell_type": "markdown",
   "id": "dffe0783-c274-444c-9012-f64599db44cd",
   "metadata": {
    "jp-MarkdownHeadingCollapsed": true
   },
   "source": [
    "# Saving the Cleaned Data to CSV File"
   ]
  },
  {
   "cell_type": "code",
   "execution_count": 133,
   "id": "937d843e-5132-4069-b526-736f83c77433",
   "metadata": {},
   "outputs": [],
   "source": [
    "df.to_csv('cars_sales_cleaned.csv', index=False) # Saves the cleaned DataFrame to a CSV file named 'cars_sales_cleaned.csv'"
   ]
  }
 ],
 "metadata": {
  "kernelspec": {
   "display_name": "Python 3 (ipykernel)",
   "language": "python",
   "name": "python3"
  },
  "language_info": {
   "codemirror_mode": {
    "name": "ipython",
    "version": 3
   },
   "file_extension": ".py",
   "mimetype": "text/x-python",
   "name": "python",
   "nbconvert_exporter": "python",
   "pygments_lexer": "ipython3",
   "version": "3.13.3"
  }
 },
 "nbformat": 4,
 "nbformat_minor": 5
}
